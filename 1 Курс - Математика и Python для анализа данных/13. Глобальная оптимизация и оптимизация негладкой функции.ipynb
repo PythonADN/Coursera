{
 "cells": [
  {
   "cell_type": "markdown",
   "metadata": {},
   "source": [
    "## Задание 1:  Минимизация гладкой функции градиентом"
   ]
  },
  {
   "cell_type": "markdown",
   "metadata": {},
   "source": [
    "## Задание 2: Глобальная оптимизация (дифф. эволюция)"
   ]
  },
  {
   "cell_type": "code",
   "execution_count": 343,
   "metadata": {},
   "outputs": [
    {
     "name": "stdout",
     "output_type": "stream",
     "text": [
      "1.75\n",
      "-11.9\n"
     ]
    },
    {
     "data": {
      "image/png": "[encoded data removed]",
      "text/plain": [
       "<matplotlib.figure.Figure at 0x8a3bd68>"
      ]
     },
     "metadata": {},
     "output_type": "display_data"
    },
    {
     "name": "stdout",
     "output_type": "stream",
     "text": [
      "1.75 -11.9\n"
     ]
    }
   ],
   "source": [
    "\n",
    "import numpy as np\n",
    "\n",
    "def f(x):\n",
    "    return (np.sin(x/5) * np.exp(x/10) + 5*np.exp(-x/2))\n",
    "\n",
    "x = np.arange(1, 31, 0.01)\n",
    "\n",
    "from scipy import optimize\n",
    "x_min1 = optimize.minimize(f, [2], method='BFGS')\n",
    "x_min1_y = round(x_min1.fun, 2) # Записать как первый ответ (1.6)\n",
    "print x_min1_y\n",
    "\n",
    "x_min2 = optimize.minimize(f, [30], method='BFGS')\n",
    "x_min2_y = round(x_min2.fun, 2) # Записать как второй ответ (1.7)\n",
    "print x_min2_y\n",
    "\n",
    "%matplotlib inline\n",
    "from matplotlib import pylab as plt\n",
    "plt.plot(x,f(x), '-', x_min1.x, x_min1.fun, 'o', x_min2.x, x_min2.fun, 'o')\n",
    "plt.show()\n",
    "\n",
    "\n",
    "file_string = str(x_min1_y)+' '+str(x_min2_y)\n",
    "print file_string\n",
    "file = open('optimization-1.txt', 'w')\n",
    "file.write(file_string)\n",
    "file.close()"
   ]
  },
  {
   "cell_type": "code",
   "execution_count": 342,
   "metadata": {},
   "outputs": [
    {
     "name": "stdout",
     "output_type": "stream",
     "text": [
      "-11.9\n",
      "-11.9\n"
     ]
    }
   ],
   "source": [
    "import numpy as np\n",
    "\n",
    "def f(x):\n",
    "    return (np.sin(x/5) * np.exp(x/10) + 5*np.exp(-x/2))\n",
    "\n",
    "x = np.arange(1, 31, 0.01)\n",
    "\n",
    "from scipy import optimize\n",
    "x_min1 = optimize.differential_evolution(f, [[1,30]])\n",
    "x_min1_y = round(x_min1.fun, 2) # Записать как ответ (2.4)\n",
    "print x_min1_y\n",
    "\n",
    "\n",
    "file_string = str(x_min1_y)\n",
    "print file_string\n",
    "file = open('optimization-2.txt', 'w')\n",
    "file.write(file_string)\n",
    "file.close()"
   ]
  },
  {
   "cell_type": "markdown",
   "metadata": {},
   "source": [
    "## Задание 3: Минимизация негладкой функции"
   ]
  },
  {
   "cell_type": "code",
   "execution_count": 351,
   "metadata": {},
   "outputs": [
    {
     "name": "stdout",
     "output_type": "stream",
     "text": [
      "      fun: array([-5])\n",
      " hess_inv: array([[1]])\n",
      "      jac: array([ 0.])\n",
      "  message: 'Optimization terminated successfully.'\n",
      "     nfev: 3\n",
      "      nit: 0\n",
      "     njev: 1\n",
      "   status: 0\n",
      "  success: True\n",
      "        x: array([ 30.])\n",
      "     fun: -11.0\n",
      " message: 'Optimization terminated successfully.'\n",
      "    nfev: 107\n",
      "     nit: 6\n",
      " success: True\n",
      "       x: array([ 25.13846402])\n"
     ]
    },
    {
     "data": {
      "image/png": "[encoded data removed]",
      "text/plain": [
       "<matplotlib.figure.Figure at 0x780ea90>"
      ]
     },
     "metadata": {},
     "output_type": "display_data"
    },
    {
     "name": "stdout",
     "output_type": "stream",
     "text": [
      "-5 -11\n"
     ]
    }
   ],
   "source": [
    "import numpy as np\n",
    "\n",
    "def f(x):\n",
    "    return (np.sin(x/5) * np.exp(x/10) + 5*np.exp(-x/2))\n",
    "\n",
    "def h(x):\n",
    "    return ( int(f(x)) )\n",
    "\n",
    "h2 = np.vectorize(h) # преобраззование функции в целый тип\n",
    "\n",
    "x = np.arange(1, 31, 0.01)\n",
    "\n",
    "x_min1 = optimize.minimize(h2, [30], method='BFGS') # Записать как первый ответ (3.3)\n",
    "print x_min1\n",
    "\n",
    "x_min2 = optimize.differential_evolution(h2, [[1,30]])  # Записать как второй ответ (3.4)\n",
    "print x_min2\n",
    "\n",
    "%matplotlib inline\n",
    "from matplotlib import pylab as plt\n",
    "plt.plot(x, h2(x), x, f(x), x_min1.x, x_min1.fun, 'o', x_min2.x, x_min2.fun, 'o')\n",
    "plt.show()\n",
    "\n",
    "\n",
    "file_string = str(int(x_min1.fun))+' '+str(int(x_min2.fun))\n",
    "print file_string\n",
    "file = open('optimization-3.txt', 'w')\n",
    "file.write(file_string)\n",
    "file.close()"
   ]
  },
  {
   "cell_type": "code",
   "execution_count": null,
   "metadata": {
    "collapsed": true
   },
   "outputs": [],
   "source": []
  }
 ],
 "metadata": {
  "kernelspec": {
   "display_name": "Python 3",
   "language": "python",
   "name": "python3"
  },
  "language_info": {
   "codemirror_mode": {
    "name": "ipython",
    "version": 3
   },
   "file_extension": ".py",
   "mimetype": "text/x-python",
   "name": "python",
   "nbconvert_exporter": "python",
   "pygments_lexer": "ipython3",
   "version": "3.6.3"
  }
 },
 "nbformat": 4,
 "nbformat_minor": 2
}
