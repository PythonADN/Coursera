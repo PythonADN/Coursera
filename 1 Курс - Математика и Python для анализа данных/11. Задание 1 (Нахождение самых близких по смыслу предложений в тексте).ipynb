{
 "cells": [
  {
   "cell_type": "code",
   "execution_count": 104,
   "metadata": {
    "collapsed": true,
    "scrolled": true
   },
   "outputs": [],
   "source": [
    "f = open('sentences.txt', 'r')\n",
    "data_list=f.readlines()\n",
    "f.close()\n",
    "\n",
    "mas = dict()   # создай пустой словарь\n",
    "\n",
    "import re\n",
    "for line in data_list:\n",
    "    slovo = re.split('[^a-z]', line.lower().strip())   # дробим предложения на слова\n",
    "    for s in slovo:   # цикл по словам в предложении\n",
    "        if s == '': continue   # если слово это пробел, то пропусти\n",
    "        if s not in mas: mas[s] = 1   # если ключа еще нет то запиши в него 1\n",
    "        else: mas[s] += 1   # если ключ существует то добавь 1\n",
    "\n",
    "import numpy as np\n",
    "# создадим массив 22 на 254 (предложения на количество различных слов)\n",
    "n = len(data_list)\n",
    "d = len(mas)\n",
    "Matrica = np.zeros( (n, d) )\n",
    "Matrica.shape\n",
    "mas = np.array(dict.keys(mas)) # перепишем словарь количества ключей в формат: индекс слова -> слово\n",
    "\n",
    "k=0   # количество предложений\n",
    "for line in data_list: # цикл по предложениям\n",
    "    slovo = re.split('[^a-z]', line.lower().strip())   # дробим предложения на слова\n",
    "    for s in slovo:   # цикл по словам в предложении\n",
    "        if s == '': continue   # если слово это пробел, то пропусти\n",
    "        i=0 # индекс слов\n",
    "        for m in mas: # цикл по словам\n",
    "            if m == s: # если слово словаря совпадает с текущим словом то запоминаем индекс\n",
    "                Matrica[k,i] += 1 # заполняем матрицу\n",
    "            i=i+1\n",
    "    k=k+1\n",
    "\n",
    "import scipy\n",
    "from scipy.spatial.distance import cosine\n",
    "k=0\n",
    "a=[]\n",
    "for line in Matrica:\n",
    "    a.append(scipy.spatial.distance.cosine(Matrica[0],Matrica[k]))\n",
    "    k=k+1\n",
    "\n",
    "k=0\n",
    "min_1 = max(a)\n",
    "k_1 = 0\n",
    "\n",
    "for i in a:\n",
    "    if ( min_1 > i ) & ( k != 0 ): min_1=i; k_1=k\n",
    "    k=k+1\n",
    "\n",
    "k=0\n",
    "k_2 = 0\n",
    "min_2 = max(a)\n",
    "for i in a:\n",
    "    if ( min_2 > i ) & ( k != 0 ) & ( k!=k_1 ): min_2=i; k_2=k \n",
    "    k=k+1\n",
    "    \n",
    "file_string = str(k_1)+' '+str(k_2)\n",
    "\n",
    "file = open('submission-1.txt', 'w')\n",
    "file.write(file_string)\n",
    "file.close()"
   ]
  },
  {
   "cell_type": "code",
   "execution_count": null,
   "metadata": {
    "collapsed": true
   },
   "outputs": [],
   "source": []
  },
  {
   "cell_type": "code",
   "execution_count": null,
   "metadata": {
    "collapsed": true
   },
   "outputs": [],
   "source": []
  }
 ],
 "metadata": {
  "kernelspec": {
   "display_name": "Python 3",
   "language": "python",
   "name": "python3"
  },
  "language_info": {
   "codemirror_mode": {
    "name": "ipython",
    "version": 3
   },
   "file_extension": ".py",
   "mimetype": "text/x-python",
   "name": "python",
   "nbconvert_exporter": "python",
   "pygments_lexer": "ipython3",
   "version": "3.6.3"
  }
 },
 "nbformat": 4,
 "nbformat_minor": 2
}
