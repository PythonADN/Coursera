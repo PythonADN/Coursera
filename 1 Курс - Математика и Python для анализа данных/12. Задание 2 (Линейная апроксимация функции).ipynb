{
 "cells": [
  {
   "cell_type": "code",
   "execution_count": 209,
   "metadata": {
    "collapsed": true,
    "scrolled": true
   },
   "outputs": [],
   "source": [
    "import numpy as np\n",
    "\n",
    "def f(x):\n",
    "    return (np.sin(x/5) * np.exp(x/10) + 5*np.exp(-x/2))\n",
    "\n",
    "x = np.arange(1,15.1,0.1)\n",
    "y = f(x)\n",
    "\n",
    "B = np.array([f(1.),f(4.),f(10.),f(15.)])\n",
    "a = np.array([[1,1,1,1],[1,4,16,64],[1,10,100,1000],[1,15,225,3375]])\n",
    "A = np.linalg.solve(a,B)\n",
    "\n",
    "def f_(x):\n",
    "    return(A[0] + A[1]*x + A[2]*x**2 + A[3]*x**3)"
   ]
  },
  {
   "cell_type": "code",
   "execution_count": 22,
   "metadata": {},
   "outputs": [
    {
     "data": {
      "image/png": "[encoded data removed]",
      "text/plain": [
       "<matplotlib.figure.Figure at 0x96dfda0>"
      ]
     },
     "metadata": {},
     "output_type": "display_data"
    }
   ],
   "source": [
    "%matplotlib inline\n",
    "from matplotlib import pylab as plt\n",
    "plt.plot(x,y, '-' ,x,f_(x), '*')\n",
    "plt.show()"
   ]
  },
  {
   "cell_type": "code",
   "execution_count": 216,
   "metadata": {
    "collapsed": true
   },
   "outputs": [],
   "source": [
    "file_string = str(A[0])+\" \"+str(A[1])+\" \"+str(A[2])+\" \"+str(A[3])\n",
    "\n",
    "file = open('submission-2.txt', 'w')\n",
    "file.write(file_string)\n",
    "file.close()"
   ]
  },
  {
   "cell_type": "code",
   "execution_count": 217,
   "metadata": {},
   "outputs": [
    {
     "name": "stdout",
     "output_type": "stream",
     "text": [
      "4.36264153512 -1.29552586569 0.193336847022 -0.00823565117332\n"
     ]
    }
   ],
   "source": [
    "print file_string"
   ]
  },
  {
   "cell_type": "markdown",
   "metadata": {},
   "source": [
    "# Более точная апроксимация \n",
    "## количество неизвестных X подбирается посредством цикла"
   ]
  },
  {
   "cell_type": "code",
   "execution_count": 21,
   "metadata": {},
   "outputs": [
    {
     "data": {
      "image/png": "[encoded data removed]",
      "text/plain": [
       "<matplotlib.figure.Figure at 0x7b1b320>"
      ]
     },
     "metadata": {},
     "output_type": "display_data"
    }
   ],
   "source": [
    "import numpy as np\n",
    "\n",
    "def f(x):\n",
    "    return (np.sin(x/5) * np.exp(x/10) + 5*np.exp(-x/2))\n",
    "\n",
    "x = np.arange(1,15.1,0.1)\n",
    "y = f(x)\n",
    "\n",
    "n=len(x)\n",
    "B=np.zeros((n))\n",
    "X=np.ones((n,n))\n",
    "for i in range(n):\n",
    "    for j in range(1,n):\n",
    "        X[i][j]=x[i]**j\n",
    "    B[i]=f(x[i])\n",
    "\n",
    "A = np.linalg.solve(X,B)\n",
    "\n",
    "def f_(x):\n",
    "    f_x=0\n",
    "    for i in range(n):\n",
    "        f_x += A[i]*x**i\n",
    "    return(f_x)\n",
    "\n",
    "\n",
    "\n",
    "%matplotlib inline\n",
    "from matplotlib import pylab as plt\n",
    "plt.plot(x,y, '-' ,x,f_(x), '*')\n",
    "plt.show()"
   ]
  },
  {
   "cell_type": "code",
   "execution_count": null,
   "metadata": {
    "collapsed": true
   },
   "outputs": [],
   "source": []
  },
  {
   "cell_type": "code",
   "execution_count": null,
   "metadata": {
    "collapsed": true
   },
   "outputs": [],
   "source": []
  }
 ],
 "metadata": {
  "kernelspec": {
   "display_name": "Python 3",
   "language": "python",
   "name": "python3"
  },
  "language_info": {
   "codemirror_mode": {
    "name": "ipython",
    "version": 3
   },
   "file_extension": ".py",
   "mimetype": "text/x-python",
   "name": "python",
   "nbconvert_exporter": "python",
   "pygments_lexer": "ipython3",
   "version": "3.6.3"
  }
 },
 "nbformat": 4,
 "nbformat_minor": 2
}
