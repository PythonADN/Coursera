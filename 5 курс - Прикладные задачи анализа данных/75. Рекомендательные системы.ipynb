{
 "cells": [
  {
   "cell_type": "markdown",
   "metadata": {},
   "source": [
    "# Рекомендательные системы"
   ]
  },
  {
   "cell_type": "markdown",
   "metadata": {},
   "source": [
    "Описание задачи\n",
    "\n",
    "Небольшой интернет-магазин попросил вас добавить ранжирование товаров в блок \"Смотрели ранее\" - в нем теперь надо показывать не последние просмотренные пользователем товары, а те товары из просмотренных, которые он наиболее вероятно купит. Качество вашего решения будет оцениваться по количеству покупок в сравнении с прошлым решением в ходе А/В теста, т.к. по доходу от продаж статзначимость будет достигаться дольше из-за разброса цен. Таким образом, ничего заранее не зная про корреляцию оффлайновых и онлайновых метрик качества, в начале проекта вы можете лишь постараться оптимизировать recall@k и precision@k.\n",
    "\n",
    "Это задание посвящено построению простых бейзлайнов для этой задачи: ранжирование просмотренных товаров по частоте просмотров и по частоте покупок. Эти бейзлайны, с одной стороны, могут помочь вам грубо оценить возможный эффект от ранжирования товаров в блоке - например, чтобы вписать какие-то числа в коммерческое предложение заказчику, а с другой стороны, могут оказаться самым хорошим вариантом, если данных очень мало (недостаточно для обучения даже простых моделей).\n",
    "\n",
    "Входные данные\n",
    "\n",
    "Вам дается две выборки с пользовательскими сессиями - id-шниками просмотренных и id-шниками купленных товаров. Одна выборка будет использоваться для обучения (оценки популярностей товаров), а другая - для теста.\n",
    "\n",
    "В файлах записаны сессии по одной в каждой строке. Формат сессии: id просмотренных товаров через , затем идёт ; после чего следуют id купленных товаров (если такие имеются), разделённые запятой. Например, 1,2,3,4; или 1,2,3,4;5,6.\n",
    "\n",
    "Гарантируется, что среди id купленных товаров все различные.\n",
    "\n",
    "Важно:\n",
    "\n",
    "Сессии, в которых пользователь ничего не купил, исключаем из оценки качества.\n",
    "Если товар не встречался в обучающей выборке, его популярность равна 0.\n",
    "Рекомендуем разные товары. И их число должно быть не больше, чем количество различных просмотренных пользователем товаров.\n",
    "Рекомендаций всегда не больше, чем минимум из двух чисел: количество просмотренных пользователем товаров и k в recall@k / precision@k."
   ]
  },
  {
   "cell_type": "code",
   "execution_count": 361,
   "metadata": {
    "collapsed": true
   },
   "outputs": [],
   "source": [
    "import pandas as pd\n",
    "from collections import Counter, OrderedDict\n",
    "import numpy as np"
   ]
  },
  {
   "cell_type": "code",
   "execution_count": 362,
   "metadata": {
    "collapsed": true
   },
   "outputs": [],
   "source": [
    "# сохраним ответ в блокнот\n",
    "def save_answers(k, s):\n",
    "    with open(s, \"w\") as fout:\n",
    "        fout.write(str(k))"
   ]
  },
  {
   "cell_type": "code",
   "execution_count": 363,
   "metadata": {
    "collapsed": true
   },
   "outputs": [],
   "source": [
    "def M(l):\n",
    "    n = []\n",
    "    for i in l:\n",
    "        if i not in n:\n",
    "            n.append(i)\n",
    "    return n"
   ]
  },
  {
   "cell_type": "markdown",
   "metadata": {},
   "source": [
    "Задание\n",
    "\n",
    "1. На обучении постройте частоты появления id в просмотренных и в купленных (id может несколько раз появляться в просмотренных, все появления надо учитывать)\n",
    "2. Реализуйте два алгоритма рекомендаций:\n",
    " сортировка просмотренных id по популярности (частота появления в просмотренных),\n",
    " сортировка просмотренных id по покупаемости (частота появления в покупках).\n",
    "3. Для данных алгоритмов выпишите через пробел AverageRecall@1, AveragePrecision@1, AverageRecall@5, AveragePrecision@5 на обучающей и тестовых выборках, округляя до 2 знака после запятой. Это будут ваши ответы в этом задании. Посмотрите, как они соотносятся друг с другом. Где качество получилось выше? Значимо ли это различие? Обратите внимание на различие качества на обучающей и тестовой выборке в случае рекомендаций по частотам покупки.\n",
    "\n",
    "Если частота одинаковая, то сортировать нужно по возрастанию момента просмотра (чем раньше появился в просмотренных, тем больше приоритет)"
   ]
  },
  {
   "cell_type": "markdown",
   "metadata": {},
   "source": [
    "### Работа на обучающей выборке"
   ]
  },
  {
   "cell_type": "code",
   "execution_count": 364,
   "metadata": {
    "collapsed": true
   },
   "outputs": [],
   "source": [
    "train = pd.read_csv('coursera_sessions_train.txt', header=-1, sep=';', lineterminator='\\n', names=['watch','buy'])"
   ]
  },
  {
   "cell_type": "code",
   "execution_count": 365,
   "metadata": {
    "collapsed": true
   },
   "outputs": [],
   "source": [
    "train.fillna('-1', inplace=True)"
   ]
  },
  {
   "cell_type": "code",
   "execution_count": 366,
   "metadata": {},
   "outputs": [
    {
     "data": {
      "text/html": [
       "<div>\n",
       "<style>\n",
       "    .dataframe thead tr:only-child th {\n",
       "        text-align: right;\n",
       "    }\n",
       "\n",
       "    .dataframe thead th {\n",
       "        text-align: left;\n",
       "    }\n",
       "\n",
       "    .dataframe tbody tr th {\n",
       "        vertical-align: top;\n",
       "    }\n",
       "</style>\n",
       "<table border=\"1\" class=\"dataframe\">\n",
       "  <thead>\n",
       "    <tr style=\"text-align: right;\">\n",
       "      <th></th>\n",
       "      <th>watch</th>\n",
       "      <th>buy</th>\n",
       "    </tr>\n",
       "  </thead>\n",
       "  <tbody>\n",
       "    <tr>\n",
       "      <th>0</th>\n",
       "      <td>0,1,2,3,4,5</td>\n",
       "      <td>-1</td>\n",
       "    </tr>\n",
       "    <tr>\n",
       "      <th>1</th>\n",
       "      <td>9,10,11,9,11,12,9,11</td>\n",
       "      <td>-1</td>\n",
       "    </tr>\n",
       "    <tr>\n",
       "      <th>2</th>\n",
       "      <td>16,17,18,19,20,21</td>\n",
       "      <td>-1</td>\n",
       "    </tr>\n",
       "    <tr>\n",
       "      <th>3</th>\n",
       "      <td>24,25,26,27,24</td>\n",
       "      <td>-1</td>\n",
       "    </tr>\n",
       "    <tr>\n",
       "      <th>4</th>\n",
       "      <td>34,35,36,34,37,35,36,37,38,39,38,39</td>\n",
       "      <td>-1</td>\n",
       "    </tr>\n",
       "    <tr>\n",
       "      <th>5</th>\n",
       "      <td>42</td>\n",
       "      <td>-1</td>\n",
       "    </tr>\n",
       "    <tr>\n",
       "      <th>6</th>\n",
       "      <td>47,48,49</td>\n",
       "      <td>-1</td>\n",
       "    </tr>\n",
       "    <tr>\n",
       "      <th>7</th>\n",
       "      <td>59,60,61,62,60,63,64,65,66,61,67,68,67</td>\n",
       "      <td>67,60,63</td>\n",
       "    </tr>\n",
       "  </tbody>\n",
       "</table>\n",
       "</div>"
      ],
      "text/plain": [
       "                                    watch       buy\n",
       "0                             0,1,2,3,4,5        -1\n",
       "1                    9,10,11,9,11,12,9,11        -1\n",
       "2                       16,17,18,19,20,21        -1\n",
       "3                          24,25,26,27,24        -1\n",
       "4     34,35,36,34,37,35,36,37,38,39,38,39        -1\n",
       "5                                      42        -1\n",
       "6                                47,48,49        -1\n",
       "7  59,60,61,62,60,63,64,65,66,61,67,68,67  67,60,63"
      ]
     },
     "execution_count": 366,
     "metadata": {},
     "output_type": "execute_result"
    }
   ],
   "source": [
    "train.head(8)"
   ]
  },
  {
   "cell_type": "code",
   "execution_count": 467,
   "metadata": {
    "collapsed": true
   },
   "outputs": [],
   "source": [
    "Train_w = [x.split(',') for x in train.watch]\n",
    "Train_b = [x.split(',') for x in train.buy]"
   ]
  },
  {
   "cell_type": "code",
   "execution_count": 468,
   "metadata": {},
   "outputs": [
    {
     "name": "stdout",
     "output_type": "stream",
     "text": [
      "['59', '60', '61', '62', '60', '63', '64', '65', '66', '61', '67', '68', '67']\n",
      "['67', '60', '63']\n"
     ]
    }
   ],
   "source": [
    "print(Train_w[7])\n",
    "print(Train_b[7])"
   ]
  },
  {
   "cell_type": "markdown",
   "metadata": {},
   "source": [
    "### 1"
   ]
  },
  {
   "cell_type": "code",
   "execution_count": 497,
   "metadata": {
    "collapsed": true
   },
   "outputs": [],
   "source": [
    "# Склеиваем сессии просмотров\n",
    "Train_W=[]\n",
    "for x in Train_w:\n",
    "    Train_W += x\n",
    "\n",
    "# частоты товаров по всем сессиям\n",
    "C_w = Counter(Train_W)\n",
    "# Популярность - сортировка частот по ключу с запоминанием порядка\n",
    "Popularity = OrderedDict(sorted(C_w.items(), key=lambda t: t[1], reverse=True))"
   ]
  },
  {
   "cell_type": "code",
   "execution_count": 485,
   "metadata": {
    "collapsed": true
   },
   "outputs": [],
   "source": [
    "n = 0\n",
    "Average_P_5=0\n",
    "Average_R_5=0\n",
    "Average_P_1=0\n",
    "Average_R_1=0\n",
    "\n",
    "for i in range(len(Train_w)):\n",
    "    if Train_b[i]==Train_b[0]: continue\n",
    "    \n",
    "    n += 1\n",
    "\n",
    "    # частоты для товаров из i сессии\n",
    "    P = [Popularity[k] for k in M(Train_w[i])]\n",
    "\n",
    "    # сшивка товаров из i сессии и их частоты (уникальные - множества)\n",
    "    A = map(lambda x,y: [x,y], M(Train_w[i]),P)\n",
    "\n",
    "    # Топ-5 по популярности в сессии\n",
    "    Top_5 = sorted(A, key=lambda t: t[1], reverse=True)[:5]\n",
    "\n",
    "    # количество пересечений просмотров и покупок по топу (посредсвтом множеств)\n",
    "    K_top5 = len(set(Train_b[i]).intersection(set(np.array(Top_5)[:,0])))\n",
    "\n",
    "    # был ли куплен самый топовый товар - первый в топе\n",
    "    K_top1 = Train_b[i].count(Top_5[0][0]) # есть ли в списке значение sorted_w[0]\n",
    "    \n",
    "    \n",
    "    \n",
    "    # Precision@5 (количество покупок по рекомендации/число рекомендаций)\n",
    "    Precision_5 = K_top5/5.\n",
    "\n",
    "    # Recall@5 (количество покупок по рекомендации/число покупок)\n",
    "    Recall_5 = K_top5/float(len(Train_b[i]))\n",
    "\n",
    "    # Precision@1 \n",
    "    Precision_1 = K_top1/1.\n",
    "\n",
    "    # Recall@1\n",
    "    Recall_1 = K_top1/float(len(Train_b[i]))\n",
    "\n",
    "    # определяем суммы для средних\n",
    "    Average_P_5 += Precision_5\n",
    "    Average_R_5 += Recall_5\n",
    "    Average_P_1 += Precision_1\n",
    "    Average_R_1 += Recall_1"
   ]
  },
  {
   "cell_type": "code",
   "execution_count": 486,
   "metadata": {
    "collapsed": true
   },
   "outputs": [],
   "source": [
    "Average_P_5 = Average_P_5/float(n)\n",
    "Average_R_5 = Average_R_5/float(n)\n",
    "Average_P_1 = Average_P_1/float(n)\n",
    "Average_R_1 = Average_R_1/float(n)"
   ]
  },
  {
   "cell_type": "code",
   "execution_count": 487,
   "metadata": {},
   "outputs": [
    {
     "name": "stdout",
     "output_type": "stream",
     "text": [
      "(0.4426343165949593, 0.5121951219512195, 0.8246918247126122, 0.21252771618625918)\n"
     ]
    }
   ],
   "source": [
    "print(Average_R_1, Average_P_1, Average_R_5, Average_P_5)"
   ]
  },
  {
   "cell_type": "code",
   "execution_count": 488,
   "metadata": {
    "collapsed": true
   },
   "outputs": [],
   "source": [
    "save_answers(\"0.44 0.51 0.82 0.21\",'1.txt')"
   ]
  },
  {
   "cell_type": "markdown",
   "metadata": {},
   "source": [
    "### 3"
   ]
  },
  {
   "cell_type": "code",
   "execution_count": 489,
   "metadata": {
    "collapsed": true
   },
   "outputs": [],
   "source": [
    "# Склеиваем сессии просмотров\n",
    "Train_B=[]\n",
    "for x in Train_b:\n",
    "    if x==Train_b[0]: continue\n",
    "    Train_B += x\n",
    "\n",
    "# частоты товаров по всем сессиям\n",
    "C_b = Counter(Train_B)\n",
    "# Популярность - сортировка частот по ключу с запоминанием порядка\n",
    "Popularity2 = OrderedDict(sorted(C_b.items(), key=lambda t: t[1], reverse=True))"
   ]
  },
  {
   "cell_type": "code",
   "execution_count": 490,
   "metadata": {
    "collapsed": true
   },
   "outputs": [],
   "source": [
    "n = 0\n",
    "Average_P_2=0\n",
    "Average_R_2=0\n",
    "Average_P_1=0\n",
    "Average_R_1=0\n",
    "\n",
    "for i in range(len(Train_b)):\n",
    "    if Train_b[i]==Train_b[0]: continue\n",
    "    \n",
    "    n += 1\n",
    "\n",
    "    # частоты для товаров из i сессии\n",
    "    P=[]\n",
    "    for k in M(Train_w[i]):\n",
    "        Popularity2.setdefault(k,0)\n",
    "        P.append(Popularity2[k])\n",
    "\n",
    "    # сшивка товаров из i сессии и их частоты (уникальные - множества)\n",
    "    A = map(lambda x,y: [x,y], M(Train_w[i]),P)\n",
    "\n",
    "    # Топ-5 по популярности в сессии\n",
    "    Top_5 = sorted(A, key=lambda t: t[1], reverse=True)[:5]\n",
    "\n",
    "    # количество пересечений просмотров и покупок по топу (посредсвтом множеств)\n",
    "    K_top5 = len(set(Train_b[i]).intersection(set(np.array(Top_5)[:,0])))\n",
    "\n",
    "    # был ли куплен самый топовый товар - первый в топе\n",
    "    K_top1 = Train_b[i].count(Top_5[0][0]) # есть ли в списке значение sorted_w[0]\n",
    "    \n",
    "    \n",
    "    # Precision@5 (количество покупок по рекомендации/число рекомендаций)\n",
    "    Precision_5 = K_top5/5.\n",
    "\n",
    "    # Recall@5 (количество покупок по рекомендации/число покупок)\n",
    "    Recall_5 = K_top5/float(len(Train_b[i]))\n",
    "\n",
    "    # Precision@1 \n",
    "    Precision_1 = K_top1/1.\n",
    "\n",
    "    # Recall@1\n",
    "    Recall_1 = K_top1/float(len(Train_b[i]))\n",
    "\n",
    "    # определяем суммы для средних\n",
    "    Average_P_5 += Precision_5\n",
    "    Average_R_5 += Recall_5\n",
    "    Average_P_1 += Precision_1\n",
    "    Average_R_1 += Recall_1"
   ]
  },
  {
   "cell_type": "code",
   "execution_count": 491,
   "metadata": {
    "collapsed": true
   },
   "outputs": [],
   "source": [
    "Average_P_5 = Average_P_5/float(n)\n",
    "Average_R_5 = Average_R_5/float(n)\n",
    "Average_P_1 = Average_P_1/float(n)\n",
    "Average_R_1 = Average_R_1/float(n)"
   ]
  },
  {
   "cell_type": "code",
   "execution_count": 492,
   "metadata": {},
   "outputs": [
    {
     "name": "stdout",
     "output_type": "stream",
     "text": [
      "(0.6884494924267653, 0.8037694013303769, 0.9265358755450274, 0.25260879371292183)\n"
     ]
    }
   ],
   "source": [
    "print(Average_R_1, Average_P_1, Average_R_5, Average_P_5)"
   ]
  },
  {
   "cell_type": "code",
   "execution_count": 493,
   "metadata": {
    "collapsed": true
   },
   "outputs": [],
   "source": [
    "save_answers(\"0.69 0.80 0.93 0.25\",'3.txt')"
   ]
  },
  {
   "cell_type": "markdown",
   "metadata": {},
   "source": [
    "### Переходим на тестовую выборку"
   ]
  },
  {
   "cell_type": "code",
   "execution_count": 494,
   "metadata": {
    "collapsed": true
   },
   "outputs": [],
   "source": [
    "test = pd.read_csv('coursera_sessions_test.txt', header=-1, sep=';', lineterminator='\\n', names=['watch','buy'])\n",
    "test.fillna('-1', inplace=True)\n",
    "Test_w = [x.split(',') for x in test.watch]\n",
    "Test_b = [x.split(',') for x in test.buy]"
   ]
  },
  {
   "cell_type": "code",
   "execution_count": 495,
   "metadata": {},
   "outputs": [
    {
     "data": {
      "text/html": [
       "<div>\n",
       "<style>\n",
       "    .dataframe thead tr:only-child th {\n",
       "        text-align: right;\n",
       "    }\n",
       "\n",
       "    .dataframe thead th {\n",
       "        text-align: left;\n",
       "    }\n",
       "\n",
       "    .dataframe tbody tr th {\n",
       "        vertical-align: top;\n",
       "    }\n",
       "</style>\n",
       "<table border=\"1\" class=\"dataframe\">\n",
       "  <thead>\n",
       "    <tr style=\"text-align: right;\">\n",
       "      <th></th>\n",
       "      <th>watch</th>\n",
       "      <th>buy</th>\n",
       "    </tr>\n",
       "  </thead>\n",
       "  <tbody>\n",
       "    <tr>\n",
       "      <th>0</th>\n",
       "      <td>6,7,8</td>\n",
       "      <td>-1</td>\n",
       "    </tr>\n",
       "    <tr>\n",
       "      <th>1</th>\n",
       "      <td>13,14,15</td>\n",
       "      <td>-1</td>\n",
       "    </tr>\n",
       "    <tr>\n",
       "      <th>2</th>\n",
       "      <td>22,23</td>\n",
       "      <td>-1</td>\n",
       "    </tr>\n",
       "  </tbody>\n",
       "</table>\n",
       "</div>"
      ],
      "text/plain": [
       "      watch buy\n",
       "0     6,7,8  -1\n",
       "1  13,14,15  -1\n",
       "2     22,23  -1"
      ]
     },
     "execution_count": 495,
     "metadata": {},
     "output_type": "execute_result"
    }
   ],
   "source": [
    "test.head(3)"
   ]
  },
  {
   "cell_type": "markdown",
   "metadata": {},
   "source": [
    "### 2"
   ]
  },
  {
   "cell_type": "code",
   "execution_count": 498,
   "metadata": {
    "collapsed": true
   },
   "outputs": [],
   "source": [
    "n = 0\n",
    "Average_P_5=0\n",
    "Average_R_5=0\n",
    "Average_P_1=0\n",
    "Average_R_1=0\n",
    "\n",
    "for i in range(len(Test_w)):\n",
    "    if Test_b[i]==Test_b[0]: continue\n",
    "    \n",
    "    n += 1\n",
    "\n",
    "    # частоты для товаров из i сессии\n",
    "    P=[]\n",
    "    for k in M(Test_w[i]):\n",
    "        Popularity.setdefault(k,0)\n",
    "        P.append(Popularity[k])\n",
    "    \n",
    "    \n",
    "    # сшивка товаров из i сессии и их частоты (уникальные - множества)\n",
    "    A = map(lambda x,y: [x,y], M(Test_w[i]),P)\n",
    "\n",
    "    # Топ-5 по популярности в сессии\n",
    "    Top_5 = sorted(A, key=lambda t: t[1], reverse=True)[:5]\n",
    "\n",
    "    # количество пересечений просмотров и покупок по топу (посредсвтом множеств)\n",
    "    K_top5 = len(set(Test_b[i]).intersection(set(np.array(Top_5)[:,0])))\n",
    "\n",
    "    # был ли куплен самый топовый товар - первый в топе\n",
    "    K_top1 = Test_b[i].count(Top_5[0][0]) # есть ли в списке значение sorted_w[0]\n",
    "    \n",
    "    \n",
    "    \n",
    "    # Precision@5 (количество покупок по рекомендации/число рекомендаций)\n",
    "    Precision_5 = K_top5/5.\n",
    "\n",
    "    # Recall@5 (количество покупок по рекомендации/число покупок)\n",
    "    Recall_5 = K_top5/float(len(Test_b[i]))\n",
    "\n",
    "    # Precision@1 \n",
    "    Precision_1 = K_top1/1.\n",
    "\n",
    "    # Recall@1\n",
    "    Recall_1 = K_top1/float(len(Test_b[i]))\n",
    "\n",
    "    # определяем суммы для средних\n",
    "    Average_P_5 += Precision_5\n",
    "    Average_R_5 += Recall_5\n",
    "    Average_P_1 += Precision_1\n",
    "    Average_R_1 += Recall_1"
   ]
  },
  {
   "cell_type": "code",
   "execution_count": 499,
   "metadata": {
    "collapsed": true
   },
   "outputs": [],
   "source": [
    "Average_P_5 = Average_P_5/float(n)\n",
    "Average_R_5 = Average_R_5/float(n)\n",
    "Average_P_1 = Average_P_1/float(n)\n",
    "Average_R_1 = Average_R_1/float(n)"
   ]
  },
  {
   "cell_type": "code",
   "execution_count": 500,
   "metadata": {},
   "outputs": [
    {
     "name": "stdout",
     "output_type": "stream",
     "text": [
      "(0.41733266203252534, 0.48130968622100956, 0.8000340663538579, 0.2037653478854079)\n"
     ]
    }
   ],
   "source": [
    "print(Average_R_1, Average_P_1, Average_R_5, Average_P_5)"
   ]
  },
  {
   "cell_type": "code",
   "execution_count": 501,
   "metadata": {
    "collapsed": true
   },
   "outputs": [],
   "source": [
    "save_answers(\"0.42 0.48 0.80 0.20\",'2.txt')"
   ]
  },
  {
   "cell_type": "markdown",
   "metadata": {},
   "source": [
    "### 4"
   ]
  },
  {
   "cell_type": "code",
   "execution_count": 502,
   "metadata": {
    "collapsed": true
   },
   "outputs": [],
   "source": [
    "n = 0\n",
    "Average_P_5=0\n",
    "Average_R_5=0\n",
    "Average_P_1=0\n",
    "Average_R_1=0\n",
    "\n",
    "for i in range(len(Test_w)):\n",
    "    if Test_b[i]==Test_b[0]: continue\n",
    "    \n",
    "    n += 1\n",
    "\n",
    "    # частоты для товаров из i сессии\n",
    "    P=[]\n",
    "    for k in M(Test_w[i]):\n",
    "        Popularity2.setdefault(k,0)\n",
    "        P.append(Popularity2[k])\n",
    "    \n",
    "    \n",
    "    # сшивка товаров из i сессии и их частоты (уникальные - множества)\n",
    "    A = map(lambda x,y: [x,y], M(Test_w[i]),P)\n",
    "\n",
    "    # Топ-5 по популярности в сессии\n",
    "    Top_5 = sorted(A, key=lambda t: t[1], reverse=True)[:5]\n",
    "\n",
    "    # количество пересечений просмотров и покупок по топу (посредсвтом множеств)\n",
    "    K_top5 = len(set(Test_b[i]).intersection(set(np.array(Top_5)[:,0])))\n",
    "\n",
    "    # был ли куплен самый топовый товар - первый в топе\n",
    "    K_top1 = Test_b[i].count(Top_5[0][0]) # есть ли в списке значение sorted_w[0]\n",
    "    \n",
    "    \n",
    "    \n",
    "    # Precision@5 (количество покупок по рекомендации/число рекомендаций)\n",
    "    Precision_5 = K_top5/5.\n",
    "\n",
    "    # Recall@5 (количество покупок по рекомендации/число покупок)\n",
    "    Recall_5 = K_top5/float(len(Test_b[i]))\n",
    "\n",
    "    # Precision@1 \n",
    "    Precision_1 = K_top1/1.\n",
    "\n",
    "    # Recall@1\n",
    "    Recall_1 = K_top1/float(len(Test_b[i]))\n",
    "\n",
    "    # определяем суммы для средних\n",
    "    Average_P_5 += Precision_5\n",
    "    Average_R_5 += Recall_5\n",
    "    Average_P_1 += Precision_1\n",
    "    Average_R_1 += Recall_1"
   ]
  },
  {
   "cell_type": "code",
   "execution_count": 503,
   "metadata": {
    "collapsed": true
   },
   "outputs": [],
   "source": [
    "Average_P_5 = Average_P_5/float(n)\n",
    "Average_R_5 = Average_R_5/float(n)\n",
    "Average_P_1 = Average_P_1/float(n)\n",
    "Average_R_1 = Average_R_1/float(n)"
   ]
  },
  {
   "cell_type": "code",
   "execution_count": 504,
   "metadata": {},
   "outputs": [
    {
     "name": "stdout",
     "output_type": "stream",
     "text": [
      "(0.4606201666660294, 0.5276944065484311, 0.8201874337490194, 0.21009549795362173)\n"
     ]
    }
   ],
   "source": [
    "print(Average_R_1, Average_P_1, Average_R_5, Average_P_5)"
   ]
  },
  {
   "cell_type": "code",
   "execution_count": 505,
   "metadata": {
    "collapsed": true
   },
   "outputs": [],
   "source": [
    "save_answers(\"0.46 0.53 0.82 0.21\",'4.txt')"
   ]
  },
  {
   "cell_type": "code",
   "execution_count": null,
   "metadata": {
    "collapsed": true
   },
   "outputs": [],
   "source": []
  }
 ],
 "metadata": {
  "kernelspec": {
   "display_name": "Python 2",
   "language": "python",
   "name": "python2"
  },
  "language_info": {
   "codemirror_mode": {
    "name": "ipython",
    "version": 2
   },
   "file_extension": ".py",
   "mimetype": "text/x-python",
   "name": "python",
   "nbconvert_exporter": "python",
   "pygments_lexer": "ipython2",
   "version": "2.7.13"
  }
 },
 "nbformat": 4,
 "nbformat_minor": 2
}
