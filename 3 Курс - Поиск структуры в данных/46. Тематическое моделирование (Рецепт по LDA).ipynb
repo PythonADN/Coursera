{
 "cells": [
  {
   "cell_type": "markdown",
   "metadata": {},
   "source": [
    "# Programming Assignment: \n",
    "## Готовим LDA по рецептам"
   ]
  },
  {
   "cell_type": "markdown",
   "metadata": {},
   "source": [
    "Как вы уже знаете, в тематическом моделировании делается предположение о том, что для определения тематики порядок слов в документе не важен; об этом гласит гипотеза «мешка слов». Сегодня мы будем работать с несколько нестандартной для тематического моделирования коллекцией, которую можно назвать «мешком ингредиентов», потому что она состоит из рецептов блюд разных кухонь. Тематические модели ищут слова, которые часто вместе встречаются в документах, и составляют из них темы. Мы попробуем применить эту идею к рецептам и найти кулинарные «темы». Эта коллекция хороша тем, что не требует предобработки. Кроме того, эта задача достаточно наглядно иллюстрирует принцип работы тематических моделей.\n",
    "\n",
    "Для выполнения заданий, помимо часто используемых в курсе библиотек, потребуются модули *json* и *gensim*. Первый входит в дистрибутив Anaconda, второй можно поставить командой \n",
    "\n",
    "*pip install gensim*\n",
    "\n",
    "Построение модели занимает некоторое время. На ноутбуке с процессором Intel Core i7 и тактовой частотой 2400 МГц на построение одной модели уходит менее 10 минут."
   ]
  },
  {
   "cell_type": "markdown",
   "metadata": {},
   "source": [
    "### Загрузка данных"
   ]
  },
  {
   "cell_type": "markdown",
   "metadata": {},
   "source": [
    "Коллекция дана в json-формате: для каждого рецепта известны его id, кухня (cuisine) и список ингредиентов, в него входящих. Загрузить данные можно с помощью модуля json (он входит в дистрибутив Anaconda):"
   ]
  },
  {
   "cell_type": "code",
   "execution_count": 1,
   "metadata": {
    "collapsed": true
   },
   "outputs": [],
   "source": [
    "import json # формат json"
   ]
  },
  {
   "cell_type": "code",
   "execution_count": 2,
   "metadata": {
    "collapsed": true
   },
   "outputs": [],
   "source": [
    "with open(\"recipes.json\") as f:\n",
    "    recipes = json.load(f)"
   ]
  },
  {
   "cell_type": "code",
   "execution_count": 3,
   "metadata": {},
   "outputs": [
    {
     "name": "stdout",
     "output_type": "stream",
     "text": [
      "{u'cuisine': u'greek', u'id': 10259, u'ingredients': [u'romaine lettuce', u'black olives', u'grape tomatoes', u'garlic', u'pepper', u'purple onion', u'seasoning', u'garbanzo beans', u'feta cheese crumbles']}\n"
     ]
    }
   ],
   "source": [
    "print recipes[0]"
   ]
  },
  {
   "cell_type": "markdown",
   "metadata": {},
   "source": [
    "### Составление корпуса"
   ]
  },
  {
   "cell_type": "code",
   "execution_count": 5,
   "metadata": {
    "collapsed": true
   },
   "outputs": [],
   "source": [
    "from gensim import corpora, models\n",
    "import numpy as np"
   ]
  },
  {
   "cell_type": "markdown",
   "metadata": {},
   "source": [
    "Наша коллекция небольшая, и целиком помещается в оперативную память. Gensim может работать с такими данными и не требует их сохранения на диск в специальном формате. Для этого коллекция должна быть представлена в виде списка списков, каждый внутренний список соответствует отдельному документу и состоит из его слов. Пример коллекции из двух документов: \n",
    "\n",
    "[[\"hello\", \"world\"], [\"programming\", \"in\", \"python\"]]\n",
    "\n",
    "Преобразуем наши данные в такой формат, а затем создадим объекты corpus и dictionary, с которыми будет работать модель."
   ]
  },
  {
   "cell_type": "code",
   "execution_count": 6,
   "metadata": {
    "collapsed": true
   },
   "outputs": [],
   "source": [
    "texts = [recipe[\"ingredients\"] for recipe in recipes] # выбираем в texts только текст рецепта\n",
    "dictionary = corpora.Dictionary(texts)   # составляем словарь из texts\n",
    "corpus = [dictionary.doc2bow(text) for text in texts]  # составляем корпус документов"
   ]
  },
  {
   "cell_type": "code",
   "execution_count": 7,
   "metadata": {},
   "outputs": [
    {
     "name": "stdout",
     "output_type": "stream",
     "text": [
      "[u'romaine lettuce', u'black olives', u'grape tomatoes', u'garlic', u'pepper', u'purple onion', u'seasoning', u'garbanzo beans', u'feta cheese crumbles']\n",
      "[(0, 1), (1, 1), (2, 1), (3, 1), (4, 1), (5, 1), (6, 1), (7, 1), (8, 1)]\n"
     ]
    }
   ],
   "source": [
    "print texts[0]\n",
    "print corpus[0]"
   ]
  },
  {
   "cell_type": "markdown",
   "metadata": {},
   "source": [
    "У объекта dictionary есть полезная переменная dictionary.token2id, позволяющая находить соответствие между ингредиентами и их индексами."
   ]
  },
  {
   "cell_type": "markdown",
   "metadata": {},
   "source": [
    "### Обучение модели\n",
    "Вам может понадобиться [документация](https://radimrehurek.com/gensim/models/ldamodel.html) LDA в gensim."
   ]
  },
  {
   "cell_type": "markdown",
   "metadata": {},
   "source": [
    "__Задание 1.__ Обучите модель LDA с 40 темами, установив количество проходов по коллекции 5 и оставив остальные параметры по умолчанию. \n",
    "\n",
    "\n",
    "Затем вызовите метод модели *show_topics*, указав количество тем 40 и количество токенов 10, и сохраните результат (топы ингредиентов в темах) в отдельную переменную. Если при вызове метода *show_topics* указать параметр *formatted=True*, то топы ингредиентов будет удобно выводить на печать, если *formatted=False*, будет удобно работать со списком программно. Выведите топы на печать, рассмотрите темы, а затем ответьте на вопрос:\n",
    "\n",
    "Сколько раз ингредиенты \"salt\", \"sugar\", \"water\", \"mushrooms\", \"chicken\", \"eggs\" встретились среди топов-10 всех 40 тем? При ответе __не нужно__ учитывать составные ингредиенты, например, \"hot water\".\n",
    "\n",
    "Передайте 6 чисел в функцию save_answers1 и загрузите сгенерированный файл в форму.\n",
    "\n",
    "У gensim нет возможности фиксировать случайное приближение через параметры метода, но библиотека использует numpy для инициализации матриц. Поэтому, по утверждению автора библиотеки, фиксировать случайное приближение нужно командой, которая написана в следующей ячейке. __Перед строкой кода с построением модели обязательно вставляйте указанную строку фиксации random.seed.__"
   ]
  },
  {
   "cell_type": "code",
   "execution_count": 8,
   "metadata": {
    "collapsed": true
   },
   "outputs": [],
   "source": [
    "np.random.seed(76543)\n",
    "# Модель LDA\n",
    "lda = models.ldamodel.LdaModel(corpus, num_topics=40, passes=5)"
   ]
  },
  {
   "cell_type": "code",
   "execution_count": 9,
   "metadata": {},
   "outputs": [
    {
     "name": "stdout",
     "output_type": "stream",
     "text": [
      "{'mushrooms': 1, 'eggs': 1, 'sugar': 7, 'water': 8, 'chicken': 1, 'salt': 20}\n"
     ]
    }
   ],
   "source": [
    "# создаем словарь нужных нам слов\n",
    "dic = { \"salt\": dictionary.token2id[\"salt\"], \"sugar\": dictionary.token2id[\"sugar\"],\n",
    "        \"water\": dictionary.token2id[\"water\"], \"mushrooms\": dictionary.token2id[\"mushrooms\"],\n",
    "        \"chicken\": dictionary.token2id[\"chicken\"], \"eggs\": dictionary.token2id[\"eggs\"] }\n",
    "\n",
    "# создаем словарь счетчика данных слов (в цикле будем набирать слова)\n",
    "dic_2 = { \"salt\": 0, \"sugar\": 0, \"water\": 0, \"mushrooms\": 0,\"chicken\": 0, \"eggs\": 0 }\n",
    "\n",
    "# создаем Топ 40 тем в которых будет по 10 топ слов\n",
    "top_40_10 = lda.show_topics(num_topics=40, num_words=10, formatted=False)\n",
    "\n",
    "for topics, words in top_40_10: # wцикл по Топ-40 темам\n",
    "    for i in range(10): # цикл по Топ-10 словам в теме\n",
    "        for k in dic.keys(): # цикл по ключам dic\n",
    "            if dic[k] == int(words[i][0]):\n",
    "                dic_2[k]+=1\n",
    "\n",
    "print dic_2"
   ]
  },
  {
   "cell_type": "code",
   "execution_count": 10,
   "metadata": {
    "collapsed": true
   },
   "outputs": [],
   "source": [
    "def save_answers1(c_salt, c_sugar, c_water, c_mushrooms, c_chicken, c_eggs):\n",
    "    with open(\"cooking_LDA_pa_task1.txt\", \"w\") as fout:\n",
    "        fout.write(\" \".join([str(el) for el in [c_salt, c_sugar, c_water, c_mushrooms, c_chicken, c_eggs]]))"
   ]
  },
  {
   "cell_type": "code",
   "execution_count": 11,
   "metadata": {
    "collapsed": true
   },
   "outputs": [],
   "source": [
    "# сохраняем в файл задание 1\n",
    "save_answers1(20, 7, 8, 1, 1, 1)"
   ]
  },
  {
   "cell_type": "code",
   "execution_count": 12,
   "metadata": {},
   "outputs": [
    {
     "name": "stdout",
     "output_type": "stream",
     "text": [
      "тема: 0\n",
      " слова: cooking spray\n",
      " слова: salt\n",
      " слова: garlic cloves\n",
      " слова: olive oil\n",
      " слова: chopped onion\n",
      " слова: crushed red pepper\n",
      " слова: fat free less sodium chicken broth\n",
      " слова: black pepper\n",
      " слова: ground black pepper\n",
      " слова: water\n",
      "\n",
      "тема: 1\n",
      " слова: carrots\n",
      " слова: onions\n",
      " слова: sauce\n",
      " слова: cabbage\n",
      " слова: spinach\n",
      " слова: beef\n",
      " слова: low sodium chicken broth\n",
      " слова: water\n",
      " слова: firm tofu\n",
      " слова: green cabbage\n",
      "\n",
      "тема: 2\n",
      " слова: cracked black pepper\n",
      " слова: dry red wine\n",
      " слова: shortening\n",
      " слова: beef broth\n",
      " слова: vegetable oil cooking spray\n",
      " слова: grape tomatoes\n",
      " слова: cilantro sprigs\n",
      " слова: french bread\n",
      " слова: dried rosemary\n",
      " слова: all-purpose flour\n",
      "\n",
      "тема: 3\n",
      " слова: potatoes\n",
      " слова: oil\n",
      " слова: salt\n",
      " слова: chickpeas\n",
      " слова: onions\n",
      " слова: coriander\n",
      " слова: pepper\n",
      " слова: saffron\n",
      " слова: chopped tomatoes\n",
      " слова: vegetables\n",
      "\n",
      "тема: 4\n",
      " слова: green bell pepper\n",
      " слова: garlic powder\n",
      " слова: cayenne pepper\n",
      " слова: salt\n",
      " слова: paprika\n",
      " слова: onions\n",
      " слова: dried thyme\n",
      " слова: worcestershire sauce\n",
      " слова: onion powder\n",
      " слова: ground black pepper\n",
      "\n",
      "тема: 5\n",
      " слова: ground cumin\n",
      " слова: salt\n",
      " слова: ground coriander\n",
      " слова: onions\n",
      " слова: olive oil\n",
      " слова: garlic\n",
      " слова: paprika\n",
      " слова: tumeric\n",
      " слова: cayenne pepper\n",
      " слова: garlic cloves\n",
      "\n",
      "тема: 6\n",
      " слова: ground cinnamon\n",
      " слова: ground nutmeg\n",
      " слова: honey\n",
      " слова: ground allspice\n",
      " слова: raisins\n",
      " слова: ground cloves\n",
      " слова: light brown sugar\n",
      " слова: ground ginger\n",
      " слова: brown sugar\n",
      " слова: margarine\n",
      "\n",
      "тема: 7\n",
      " слова: zucchini\n",
      " слова: plum tomatoes\n",
      " слова: fresh basil\n",
      " слова: olive oil\n",
      " слова: eggplant\n",
      " слова: salt\n",
      " слова: grated parmesan cheese\n",
      " слова: garlic cloves\n",
      " слова: red bell pepper\n",
      " слова: spaghetti\n",
      "\n",
      "тема: 8\n",
      " слова: rice\n",
      " слова: cooking oil\n",
      " слова: salt\n",
      " слова: water\n",
      " слова: basmati rice\n",
      " слова: vinegar\n",
      " слова: ginger\n",
      " слова: curry leaves\n",
      " слова: mint leaves\n",
      " слова: red cabbage\n",
      "\n",
      "тема: 9\n",
      " слова: dried oregano\n",
      " слова: onions\n",
      " слова: garlic\n",
      " слова: tomato sauce\n",
      " слова: salt\n",
      " слова: ground beef\n",
      " слова: diced tomatoes\n",
      " слова: dried basil\n",
      " слова: tomato paste\n",
      " слова: olive oil\n",
      "\n",
      "тема: 10\n",
      " слова: white wine\n",
      " слова: ground black pepper\n",
      " слова: butter\n",
      " слова: russet potatoes\n",
      " слова: chopped fresh chives\n",
      " слова: kosher salt\n",
      " слова: red potato\n",
      " слова: ham\n",
      " слова: large eggs\n",
      " слова: salt\n",
      "\n",
      "тема: 11\n",
      " слова: jalapeno chilies\n",
      " слова: salt\n",
      " слова: avocado\n",
      " слова: lime\n",
      " слова: purple onion\n",
      " слова: garlic\n",
      " слова: olive oil\n",
      " слова: fresh cilantro\n",
      " слова: cilantro\n",
      " слова: lime juice\n",
      "\n",
      "тема: 12\n",
      " слова: cucumber\n",
      " слова: lean ground beef\n",
      " слова: cider vinegar\n",
      " слова: feta cheese\n",
      " слова: lemon wedge\n",
      " слова: romaine lettuce\n",
      " слова: cream\n",
      " слова: cherry tomatoes\n",
      " слова: chili\n",
      " слова: taco seasoning mix\n",
      "\n",
      "тема: 13\n",
      " слова: sour cream\n",
      " слова: salsa\n",
      " слова: shredded cheddar cheese\n",
      " слова: flour tortillas\n",
      " слова: chili powder\n",
      " слова: black beans\n",
      " слова: green onions\n",
      " слова: ground cumin\n",
      " слова: corn tortillas\n",
      " слова: cheddar cheese\n",
      "\n",
      "тема: 14\n",
      " слова: white sugar\n",
      " слова: sweet potatoes\n",
      " слова: fresh mint\n",
      " слова: black peppercorns\n",
      " слова: fennel seeds\n",
      " слова: red wine\n",
      " слова: vegetable stock\n",
      " слова: sugar\n",
      " слова: maple syrup\n",
      " слова: garlic chili sauce\n",
      "\n",
      "тема: 15\n",
      " слова: cold water\n",
      " слова: cinnamon sticks\n",
      " слова: boiling water\n",
      " слова: sugar\n",
      " слова: star anise\n",
      " слова: slivered almonds\n",
      " слова: cake flour\n",
      " слова: panko breadcrumbs\n",
      " слова: green olives\n",
      " слова: apple cider vinegar\n",
      "\n",
      "тема: 16\n",
      " слова: extra-virgin olive oil\n",
      " слова: garlic cloves\n",
      " слова: olive oil\n",
      " слова: flat leaf parsley\n",
      " слова: freshly ground pepper\n",
      " слова: fresh lemon juice\n",
      " слова: salt\n",
      " слова: dry white wine\n",
      " слова: large garlic cloves\n",
      " слова: ground black pepper\n",
      "\n",
      "тема: 17\n",
      " слова: coconut milk\n",
      " слова: parsley\n",
      " слова: thyme\n",
      " слова: chicken thighs\n",
      " слова: garlic\n",
      " слова: coconut oil\n",
      " слова: onions\n",
      " слова: Thai red curry paste\n",
      " слова: bread\n",
      " слова: salt\n",
      "\n",
      "тема: 18\n",
      " слова: salt\n",
      " слова: all-purpose flour\n",
      " слова: eggs\n",
      " слова: milk\n",
      " слова: butter\n",
      " слова: baking powder\n",
      " слова: sugar\n",
      " слова: flour\n",
      " слова: baking soda\n",
      " слова: buttermilk\n",
      "\n",
      "тема: 19\n",
      " слова: curry powder\n",
      " слова: frozen peas\n",
      " слова: long-grain rice\n",
      " слова: sweetened condensed milk\n",
      " слова: greek yogurt\n",
      " слова: egg whites\n",
      " слова: cauliflower\n",
      " слова: cardamom pods\n",
      " слова: black-eyed peas\n",
      " слова: ground cayenne pepper\n",
      "\n",
      "тема: 20\n",
      " слова: peanut oil\n",
      " слова: ground white pepper\n",
      " слова: beansprouts\n",
      " слова: Sriracha\n",
      " слова: rice noodles\n",
      " слова: medium shrimp\n",
      " слова: peanuts\n",
      " слова: minced ginger\n",
      " слова: fish sauce\n",
      " слова: english cucumber\n",
      "\n",
      "тема: 21\n",
      " слова: boneless skinless chicken breast halves\n",
      " слова: coarse salt\n",
      " слова: ground pepper\n",
      " слова: sweet onion\n",
      " слова: mayonaise\n",
      " слова: pork tenderloin\n",
      " слова: minced garlic\n",
      " слова: juice\n",
      " слова: minced onion\n",
      " слова: dried parsley\n",
      "\n",
      "тема: 22\n",
      " слова: diced onions\n",
      " слова: lettuce\n",
      " слова: self rising flour\n",
      " слова: provolone cheese\n",
      " слова: iceberg lettuce\n",
      " слова: frozen pastry puff sheets\n",
      " слова: romano cheese\n",
      " слова: semi-sweet chocolate morsels\n",
      " слова: shredded cheese\n",
      " слова: reduced-fat sour cream\n",
      "\n",
      "тема: 23\n",
      " слова: lemon juice\n",
      " слова: dijon mustard\n",
      " слова: creole seasoning\n",
      " слова: white pepper\n",
      " слова: fresh orange juice\n",
      " слова: nutmeg\n",
      " слова: kale\n",
      " слова: mayonaise\n",
      " слова: salmon fillets\n",
      " слова: cream cheese, soften\n",
      "\n",
      "тема: 24\n",
      " слова: sugar\n",
      " слова: whipping cream\n",
      " слова: orange juice\n",
      " слова: hot water\n",
      " слова: chopped garlic\n",
      " слова: orange\n",
      " слова: bananas\n",
      " слова: bread flour\n",
      " слова: water\n",
      " слова: brandy\n",
      "\n",
      "тема: 25\n",
      " слова: salt\n",
      " слова: cumin seed\n",
      " слова: onions\n",
      " слова: ground turmeric\n",
      " слова: garam masala\n",
      " слова: green chilies\n",
      " слова: clove\n",
      " слова: chili powder\n",
      " слова: tomatoes\n",
      " слова: oil\n",
      "\n",
      "тема: 26\n",
      " слова: fish sauce\n",
      " слова: white vinegar\n",
      " слова: sugar\n",
      " слова: garlic\n",
      " слова: lime juice\n",
      " слова: vegetable oil\n",
      " слова: shallots\n",
      " слова: water\n",
      " слова: lemongrass\n",
      " слова: red chili peppers\n",
      "\n",
      "тема: 27\n",
      " слова: grated parmesan cheese\n",
      " слова: warm water\n",
      " слова: salt\n",
      " слова: shredded mozzarella cheese\n",
      " слова: olive oil\n",
      " слова: ricotta cheese\n",
      " слова: active dry yeast\n",
      " слова: mozzarella cheese\n",
      " слова: butter\n",
      " слова: italian seasoning\n",
      "\n",
      "тема: 28\n",
      " слова: shrimp\n",
      " слова: pork\n",
      " слова: baby spinach\n",
      " слова: jasmine rice\n",
      " слова: unsweetened coconut milk\n",
      " слова: fresh tomatoes\n",
      " слова: noodles\n",
      " слова: black mustard seeds\n",
      " слова: sausage casings\n",
      " слова: sea scallops\n",
      "\n",
      "тема: 29\n",
      " слова: mushrooms\n",
      " слова: white wine vinegar\n",
      " слова: shallots\n",
      " слова: boneless chicken breast\n",
      " слова: olive oil\n",
      " слова: chopped fresh sage\n",
      " слова: butter\n",
      " слова: chorizo sausage\n",
      " слова: blanched almonds\n",
      " слова: chicken drumsticks\n",
      "\n",
      "тема: 30\n",
      " слова: large eggs\n",
      " слова: unsalted butter\n",
      " слова: sugar\n",
      " слова: salt\n",
      " слова: all-purpose flour\n",
      " слова: heavy cream\n",
      " слова: whole milk\n",
      " слова: vanilla extract\n",
      " слова: granulated sugar\n",
      " слова: large egg yolks\n",
      "\n",
      "тема: 31\n",
      " слова: salt\n",
      " слова: ground red pepper\n",
      " слова: water\n",
      " слова: finely chopped onion\n",
      " слова: chopped celery\n",
      " слова: green beans\n",
      " слова: hot pepper sauce\n",
      " слова: long grain white rice\n",
      " слова: chopped onion\n",
      " слова: chopped green bell pepper\n",
      "\n",
      "тема: 32\n",
      " слова: water\n",
      " слова: fine sea salt\n",
      " слова: lemon zest\n",
      " слова: fresh spinach\n",
      " слова: yukon gold potatoes\n",
      " слова: sesame seeds\n",
      " слова: collard greens\n",
      " слова: parmigiano reggiano cheese\n",
      " слова: rice flour\n",
      " слова: tofu\n",
      "\n",
      "тема: 33\n",
      " слова: balsamic vinegar\n",
      " слова: dark soy sauce\n",
      " слова: chopped fresh mint\n",
      " слова: baguette\n",
      " слова: broccoli\n",
      " слова: penne\n",
      " слова: mint\n",
      " слова: tequila\n",
      " слова: red kidney beans\n",
      " слова: arugula\n",
      "\n",
      "тема: 34\n",
      " слова: onions\n",
      " слова: salt\n",
      " слова: garlic\n",
      " слова: olive oil\n",
      " слова: bay leaves\n",
      " слова: ground black pepper\n",
      " слова: chicken stock\n",
      " слова: pepper\n",
      " слова: carrots\n",
      " слова: chicken\n",
      "\n",
      "тема: 35\n",
      " слова: soy sauce\n",
      " слова: sesame oil\n",
      " слова: sugar\n",
      " слова: corn starch\n",
      " слова: garlic\n",
      " слова: green onions\n",
      " слова: scallions\n",
      " слова: rice vinegar\n",
      " слова: salt\n",
      " слова: water\n",
      "\n",
      "тема: 36\n",
      " слова: cheese\n",
      " слова: garlic salt\n",
      " слова: rice wine\n",
      " слова: chives\n",
      " слова: chicken breast halves\n",
      " слова: shredded sharp cheddar cheese\n",
      " слова: roasted peanuts\n",
      " слова: Mexican cheese blend\n",
      " слова: non-fat sour cream\n",
      " слова: dashi\n",
      "\n",
      "тема: 37\n",
      " слова: chicken broth\n",
      " слова: chicken breasts\n",
      " слова: onions\n",
      " слова: crushed red pepper flakes\n",
      " слова: garlic\n",
      " слова: pepper\n",
      " слова: chopped parsley\n",
      " слова: salt\n",
      " слова: olive oil\n",
      " слова: bay leaf\n",
      "\n",
      "тема: 38\n",
      " слова: olive oil\n",
      " слова: red wine vinegar\n",
      " слова: salt\n",
      " слова: parmesan cheese\n",
      " слова: garlic\n",
      " слова: fresh basil leaves\n",
      " слова: extra-virgin olive oil\n",
      " слова: pepper\n",
      " слова: ground black pepper\n",
      " слова: tomatoes\n",
      "\n",
      "тема: 39\n",
      " слова: canola oil\n",
      " слова: fresh lime juice\n",
      " слова: chopped cilantro fresh\n",
      " слова: kosher salt\n",
      " слова: garlic cloves\n",
      " слова: peeled fresh ginger\n",
      " слова: chiles\n",
      " слова: vegetable oil\n",
      " слова: serrano chile\n",
      " слова: boneless chicken skinless thigh\n",
      "\n"
     ]
    }
   ],
   "source": [
    "# сопоставим индексы терминов со словареми выведим термины в топовых темах\n",
    "for t, w in top_40_10:\n",
    "    print \"тема:\", t\n",
    "    for i in range(10):\n",
    "        print \" слова:\",  dictionary[ (int)(w[i][0]) ]\n",
    "    print\n"
   ]
  },
  {
   "cell_type": "markdown",
   "metadata": {},
   "source": [
    "### Фильтрация словаря\n",
    "В топах тем гораздо чаще встречаются первые три рассмотренных ингредиента, чем последние три. При этом наличие в рецепте курицы, яиц и грибов яснее дает понять, что мы будем готовить, чем наличие соли, сахара и воды. Таким образом, даже в рецептах есть слова, часто встречающиеся в текстах и не несущие смысловой нагрузки, и поэтому их не желательно видеть в темах. Наиболее простой прием борьбы с такими фоновыми элементами — фильтрация словаря по частоте. Обычно словарь фильтруют с двух сторон: убирают очень редкие слова (в целях экономии памяти) и очень частые слова (в целях повышения интерпретируемости тем). Мы уберем только частые слова."
   ]
  },
  {
   "cell_type": "code",
   "execution_count": 13,
   "metadata": {
    "collapsed": true
   },
   "outputs": [],
   "source": [
    "# сдлаем копию нашего словаря\n",
    "import copy\n",
    "dictionary2 = copy.deepcopy(dictionary)"
   ]
  },
  {
   "cell_type": "markdown",
   "metadata": {},
   "source": [
    "__Задание 2.__ У объекта dictionary2 есть переменная *dfs* — это словарь, ключами которого являются id токена, а элементами — число раз, сколько слово встретилось во всей коллекции. Сохраните в отдельный список ингредиенты, которые встретились в коллекции больше 4000 раз. Вызовите метод словаря *filter_tokens*, подав в качестве первого аргумента полученный список популярных ингредиентов. Вычислите две величины: dict_size_before и dict_size_after — размер словаря до и после фильтрации.\n",
    "\n",
    "Затем, используя новый словарь, создайте новый корпус документов, corpus2, по аналогии с тем, как это сделано в начале ноутбука. Вычислите две величины: corpus_size_before и corpus_size_after — суммарное количество ингредиентов в корпусе (для каждого документа вычислите число различных ингредиентов в нем и просуммируйте по всем документам) до и после фильтрации.\n",
    "\n",
    "Передайте величины dict_size_before, dict_size_after, corpus_size_before, corpus_size_after в функцию save_answers2 и загрузите сгенерированный файл в форму."
   ]
  },
  {
   "cell_type": "code",
   "execution_count": 14,
   "metadata": {},
   "outputs": [
    {
     "name": "stdout",
     "output_type": "stream",
     "text": [
      "100\n",
      "6236\n"
     ]
    }
   ],
   "source": [
    "print dictionary2.dfs.keys()[100] # ключ слова\n",
    "print dictionary2.dfs[100] # частота слова в коллекции документов"
   ]
  },
  {
   "cell_type": "code",
   "execution_count": 15,
   "metadata": {},
   "outputs": [
    {
     "name": "stdout",
     "output_type": "stream",
     "text": [
      "id популярных ингридиентов: [0, 4, 9, 12, 17, 21, 29, 45, 48, 54, 100, 117]\n",
      "длина до фильтрации: 6714\n",
      "длина после фильтрации: 6702\n"
     ]
    }
   ],
   "source": [
    "dic2_2 = [] # создаем пустой список популярных слов\n",
    "\n",
    "# добавляем в список только популярные слова с частотой более 4000\n",
    "for i in range(len(dictionary2.dfs)):\n",
    "    if dictionary2.dfs[i] > 4000:\n",
    "        dic2_2.append(i)\n",
    "print \"id популярных ингридиентов:\", dic2_2\n",
    "\n",
    "# фильтрация словаря\n",
    "dict_size_before = len(dictionary2) # длина словаря до фильтрации\n",
    "dictionary2.filter_tokens(dic2_2) # фильтруем словарь выкидывая популярные(сахар,вода,...) слова из списка dic2_2 по токену (id) \n",
    "dict_size_after = len(dictionary2) # длина словаря после фильтрации\n",
    "print \"длина до фильтрации:\", dict_size_before\n",
    "print \"длина после фильтрации:\", dict_size_after"
   ]
  },
  {
   "cell_type": "code",
   "execution_count": 16,
   "metadata": {},
   "outputs": [
    {
     "name": "stdout",
     "output_type": "stream",
     "text": [
      "суммарное количество ингредиентов в корпусе до фильтра = 428249\n",
      "суммарное количество ингредиентов в корпусе после фильтра = 343665\n"
     ]
    }
   ],
   "source": [
    "corpus2 = [dictionary2.doc2bow(text) for text in texts]  # составляем второй корпус документов по новому словарю\n",
    "\n",
    "import collections\n",
    "\n",
    "# через Counter создаем список из неповторяющихся терминов в каждом документе d и определяем длину данного списка\n",
    "# она равна количеству неповторяющихся терминов в докумнте, затем список таких сумм (map) нам нужно проссумировать по элементам\n",
    "corpus_size_before = sum(map(lambda d: len(collections.Counter(d)), corpus))\n",
    "corpus_size_after = sum(map(lambda d: len(collections.Counter(d)), corpus2))\n",
    "\n",
    "print \"суммарное количество ингредиентов в корпусе до фильтра =\", corpus_size_before\n",
    "print \"суммарное количество ингредиентов в корпусе после фильтра =\", corpus_size_after"
   ]
  },
  {
   "cell_type": "code",
   "execution_count": 17,
   "metadata": {
    "collapsed": true
   },
   "outputs": [],
   "source": [
    "def save_answers2(dict_size_before, dict_size_after, corpus_size_before, corpus_size_after):\n",
    "    with open(\"cooking_LDA_pa_task2.txt\", \"w\") as fout:\n",
    "        fout.write(\" \".join([str(el) for el in [dict_size_before, dict_size_after, corpus_size_before, corpus_size_after]]))\n",
    "        \n",
    "\n",
    "# сохраняем в файл задание 2       \n",
    "save_answers2(dict_size_before, dict_size_after, corpus_size_before, corpus_size_after)"
   ]
  },
  {
   "cell_type": "markdown",
   "metadata": {},
   "source": [
    "### Сравнение когерентностей\n",
    "__Задание 3.__ Постройте еще одну модель по корпусу corpus2 и словарю dictionary2, остальные параметры оставьте такими же, как при первом построении модели. Сохраните новую модель в другую переменную (не перезаписывайте предыдущую модель). Не забудьте про фиксирование seed!\n",
    "\n",
    "Затем воспользуйтесь методом *top_topics* модели, чтобы вычислить ее когерентность. Передайте в качестве аргумента соответствующий модели корпус. Метод вернет список кортежей (топ токенов, когерентность), отсортированных по убыванию последней. Вычислите среднюю по всем темам когерентность для каждой из двух моделей и передайте в функцию save_answers3. "
   ]
  },
  {
   "cell_type": "code",
   "execution_count": 18,
   "metadata": {
    "collapsed": true
   },
   "outputs": [],
   "source": [
    "np.random.seed(76543)\n",
    "# Модель LDA 2\n",
    "lda2 = models.ldamodel.LdaModel(corpus2, num_topics=40, passes=5)"
   ]
  },
  {
   "cell_type": "code",
   "execution_count": 19,
   "metadata": {
    "collapsed": true,
    "scrolled": true
   },
   "outputs": [],
   "source": [
    "np.random.seed(76543)\n",
    "\n",
    "# вычисление Когерентности моделей lda1 и lda2 (отсортированные по когерентности: топ токенов, когерентность)\n",
    "Coherence = lda.top_topics(corpus)\n",
    "Coherence2 = lda2.top_topics(corpus2)"
   ]
  },
  {
   "cell_type": "code",
   "execution_count": 20,
   "metadata": {},
   "outputs": [
    {
     "name": "stdout",
     "output_type": "stream",
     "text": [
      "-691.775594626   -763.054710141\n"
     ]
    }
   ],
   "source": [
    "# перейдем к массиву numpy, чтобы обращаться к столцам массивов [:,1]\n",
    "Coherence = np.array(Coherence)\n",
    "Coherence2 = np.array(Coherence2)\n",
    "\n",
    "# найдем средние Когерентности по первым столбцам массивов\n",
    "Mean_Coherence = np.mean(Coherence[:,1])\n",
    "Mean_Coherence2 = np.mean(Coherence2[:,1])\n",
    "\n",
    "print Mean_Coherence, \" \", Mean_Coherence2"
   ]
  },
  {
   "cell_type": "code",
   "execution_count": 21,
   "metadata": {
    "collapsed": true
   },
   "outputs": [],
   "source": [
    "def save_answers3(coherence, coherence2):\n",
    "    with open(\"cooking_LDA_pa_task3.txt\", \"w\") as fout:\n",
    "        fout.write(\" \".join([\"%3f\"%el for el in [coherence, coherence2]]))\n",
    "        \n",
    "# сохраняем в файл задание 3\n",
    "save_answers3(Mean_Coherence, Mean_Coherence2)"
   ]
  },
  {
   "cell_type": "markdown",
   "metadata": {},
   "source": [
    "Считается, что когерентность хорошо соотносится с человеческими оценками интерпретируемости тем. Поэтому на больших текстовых коллекциях когерентность обычно повышается, если убрать фоновую лексику. Однако в нашем случае этого не произошло. "
   ]
  },
  {
   "cell_type": "markdown",
   "metadata": {},
   "source": [
    "### Изучение влияния гиперпараметра alpha"
   ]
  },
  {
   "cell_type": "markdown",
   "metadata": {},
   "source": [
    "В этом разделе мы будем работать со второй моделью, то есть той, которая построена по сокращенному корпусу. \n",
    "\n",
    "Пока что мы посмотрели только на матрицу темы-слова, теперь давайте посмотрим на матрицу темы-документы. Выведите темы для нулевого (или любого другого) документа из корпуса, воспользовавшись методом *get_document_topics* второй модели:"
   ]
  },
  {
   "cell_type": "code",
   "execution_count": 22,
   "metadata": {},
   "outputs": [
    {
     "data": {
      "text/plain": [
       "[(19, 0.13646843904852057),\n",
       " (33, 0.6197815609514794),\n",
       " (37, 0.12812499999999999)]"
      ]
     },
     "execution_count": 22,
     "metadata": {},
     "output_type": "execute_result"
    }
   ],
   "source": [
    "# вывести темы для нулевого документа из корпуса (corpus2) модели (lda2)\n",
    "lda2.get_document_topics(corpus2[0])"
   ]
  },
  {
   "cell_type": "markdown",
   "metadata": {},
   "source": [
    "Также выведите содержимое переменной *.alpha* второй модели:"
   ]
  },
  {
   "cell_type": "code",
   "execution_count": 23,
   "metadata": {},
   "outputs": [
    {
     "data": {
      "text/plain": [
       "array([ 0.025,  0.025,  0.025,  0.025,  0.025,  0.025,  0.025,  0.025,\n",
       "        0.025,  0.025,  0.025,  0.025,  0.025,  0.025,  0.025,  0.025,\n",
       "        0.025,  0.025,  0.025,  0.025,  0.025,  0.025,  0.025,  0.025,\n",
       "        0.025,  0.025,  0.025,  0.025,  0.025,  0.025,  0.025,  0.025,\n",
       "        0.025,  0.025,  0.025,  0.025,  0.025,  0.025,  0.025,  0.025])"
      ]
     },
     "execution_count": 23,
     "metadata": {},
     "output_type": "execute_result"
    }
   ],
   "source": [
    "# вывод гипермараметра alpha\n",
    "lda2.alpha"
   ]
  },
  {
   "cell_type": "markdown",
   "metadata": {},
   "source": [
    "У вас должно получиться, что документ характеризуется небольшим числом тем. Попробуем поменять гиперпараметр alpha, задающий априорное распределение Дирихле для распределений тем в документах."
   ]
  },
  {
   "cell_type": "markdown",
   "metadata": {},
   "source": [
    "__Задание 4.__ Обучите третью модель: используйте сокращенный корпус (corpus2 и dictionary2) и установите параметр __alpha=1__, passes=5. Не забудьте про фиксацию seed! Выведите темы новой модели для нулевого документа; должно получиться, что распределение над множеством тем практически равномерное. Чтобы убедиться в том, что во второй модели документы описываются гораздо более разреженными распределениями, чем в третьей, посчитайте суммарное количество элементов, __превосходящих 0.01__, в матрицах темы-документы обеих моделей. Другими словами, запросите темы  модели для каждого документа с параметром *minimum_probability=0.01* и просуммируйте число элементов в получаемых массивах. Передайте две суммы (сначала для модели с alpha по умолчанию, затем для модели в alpha=1) в функцию save_answers4."
   ]
  },
  {
   "cell_type": "code",
   "execution_count": 24,
   "metadata": {
    "collapsed": true
   },
   "outputs": [],
   "source": [
    "np.random.seed(76543)\n",
    "# Модель LDA 3\n",
    "lda3 = models.ldamodel.LdaModel(corpus2, num_topics=40, alpha=1, passes=5)"
   ]
  },
  {
   "cell_type": "code",
   "execution_count": 80,
   "metadata": {},
   "outputs": [
    {
     "data": {
      "text/plain": [
       "[(0, 0.021280822730040644),\n",
       " (1, 0.026587967891814692),\n",
       " (2, 0.021607526217663531),\n",
       " (3, 0.021276595773192741),\n",
       " (4, 0.021276595744680854),\n",
       " (5, 0.04532299669773119),\n",
       " (6, 0.021360216905604953),\n",
       " (7, 0.021426841621799534),\n",
       " (8, 0.021301512832182852),\n",
       " (9, 0.021276595744680854),\n",
       " (10, 0.021276595744680854),\n",
       " (11, 0.021277655802295466),\n",
       " (12, 0.021293717280997559),\n",
       " (13, 0.021276595749065933),\n",
       " (14, 0.021361611469720092),\n",
       " (15, 0.021276595744680854),\n",
       " (16, 0.021292161075523838),\n",
       " (17, 0.021287769651638238),\n",
       " (18, 0.021392613116651867),\n",
       " (19, 0.07665105729214354),\n",
       " (20, 0.04271942051036183),\n",
       " (21, 0.021430682277088053),\n",
       " (22, 0.031411587708908797),\n",
       " (23, 0.021276595744680868),\n",
       " (24, 0.021329231590978687),\n",
       " (25, 0.043150454206742662),\n",
       " (26, 0.021387835101242796),\n",
       " (27, 0.021276596591238185),\n",
       " (28, 0.021277116439632992),\n",
       " (29, 0.021410271527134268),\n",
       " (30, 0.021276644466145869),\n",
       " (31, 0.021276595744680854),\n",
       " (32, 0.021276595755339755),\n",
       " (33, 0.02633861317014936),\n",
       " (34, 0.021294946705676155),\n",
       " (35, 0.021300881539827274),\n",
       " (36, 0.021297742661074877),\n",
       " (37, 0.02555760156560034),\n",
       " (38, 0.021327975024563531),\n",
       " (39, 0.021278566582142895)]"
      ]
     },
     "execution_count": 80,
     "metadata": {},
     "output_type": "execute_result"
    }
   ],
   "source": [
    "# Распределение тем в нулевом документе\n",
    "lda3.get_document_topics(corpus2[0])"
   ]
  },
  {
   "cell_type": "code",
   "execution_count": 92,
   "metadata": {
    "collapsed": true
   },
   "outputs": [],
   "source": [
    "# сумма по массиву количеств стем в каждом документе по модели 2\n",
    "count_model2 = sum ( map(lambda x: len(lda2.get_document_topics(x, minimum_probability=0.01)) , corpus2 ) )"
   ]
  },
  {
   "cell_type": "code",
   "execution_count": 94,
   "metadata": {
    "collapsed": true
   },
   "outputs": [],
   "source": [
    "# сумма по массиву количеств стем в каждом документе по модели 3\n",
    "count_model3 = sum ( map(lambda x: len(lda3.get_document_topics(x, minimum_probability=0.01)) , corpus2 ) )"
   ]
  },
  {
   "cell_type": "code",
   "execution_count": 95,
   "metadata": {},
   "outputs": [
    {
     "name": "stdout",
     "output_type": "stream",
     "text": [
      "198995 1590960\n"
     ]
    }
   ],
   "source": [
    "print count_model2, count_model3"
   ]
  },
  {
   "cell_type": "code",
   "execution_count": 96,
   "metadata": {
    "collapsed": true
   },
   "outputs": [],
   "source": [
    "def save_answers4(count_model2, count_model3):\n",
    "    with open(\"cooking_LDA_pa_task4.txt\", \"w\") as fout:\n",
    "        fout.write(\" \".join([str(el) for el in [count_model2, count_model3]]))\n",
    "\n",
    "# сохраняем в файл задание 4\n",
    "save_answers4(count_model2, count_model3)"
   ]
  },
  {
   "cell_type": "markdown",
   "metadata": {},
   "source": [
    "Таким образом, гиперпараметр __alpha__ влияет на разреженность распределений тем в документах. Аналогично гиперпараметр __eta__ влияет на разреженность распределений слов в темах."
   ]
  },
  {
   "cell_type": "markdown",
   "metadata": {},
   "source": [
    "### LDA как способ понижения размерности\n",
    "Иногда, распределения над темами, найденные с помощью LDA, добавляют в матрицу объекты-признаки как дополнительные, семантические, признаки, и это может улучшить качество решения задачи. Для простоты давайте просто обучим классификатор рецептов на кухни на признаках, полученных из LDA, и измерим точность (accuracy).\n",
    "\n",
    "__Задание 5.__ Используйте модель, построенную по сокращенной выборке с alpha по умолчанию (вторую модель). Составьте матрицу $\\Theta = p(t|d)$ вероятностей тем в документах; вы можете использовать тот же метод get_document_topics, а также вектор правильных ответов y (в том же порядке, в котором рецепты идут в переменной recipes). Создайте объект RandomForestClassifier со 100 деревьями, с помощью функции cross_val_score вычислите среднюю accuracy по трем фолдам (перемешивать данные не нужно) и передайте в функцию save_answers5."
   ]
  },
  {
   "cell_type": "code",
   "execution_count": 98,
   "metadata": {
    "collapsed": true
   },
   "outputs": [],
   "source": [
    "from sklearn.ensemble import RandomForestClassifier\n",
    "from sklearn.cross_validation import cross_val_score"
   ]
  },
  {
   "cell_type": "code",
   "execution_count": 150,
   "metadata": {
    "collapsed": true
   },
   "outputs": [],
   "source": [
    "# матрица частот тем в коллекции документов\n",
    "matrica = np.zeros((len(texts), 40))  # создаем пустую матрицу документы / темы\n",
    "\n",
    "for i in range(len(corpus2[:])): # цикл по коллекции документов\n",
    "    k = lda2.get_document_topics(corpus2[i]) # получаем темы в каждом документе (номер темы, частота)\n",
    "    for j in range(len(k)): # цикл по темам в каждом документе\n",
    "        n = k[j][0] # номер темы\n",
    "        m = k[j][1] # частота темы\n",
    "        matrica[i,n] = m"
   ]
  },
  {
   "cell_type": "code",
   "execution_count": 169,
   "metadata": {
    "collapsed": true
   },
   "outputs": [],
   "source": [
    "# создаем целевые метки по названию кухонь мира\n",
    "y = map(lambda x:  x['cuisine'], recipes)\n",
    "\n",
    "# модель Случайный лес\n",
    "FOREST = RandomForestClassifier(n_estimators = 100, random_state=0)\n",
    "\n",
    "# Кросс Валидация\n",
    "cv = cross_val_score(estimator=FOREST, X=matrica, y=y)\n",
    "\n",
    "# Оценка точности\n",
    "accuracy_mean_score = np.mean(cv)"
   ]
  },
  {
   "cell_type": "code",
   "execution_count": 170,
   "metadata": {},
   "outputs": [
    {
     "data": {
      "text/plain": [
       "0.54789558924835025"
      ]
     },
     "execution_count": 170,
     "metadata": {},
     "output_type": "execute_result"
    }
   ],
   "source": [
    "accuracy_mean_score"
   ]
  },
  {
   "cell_type": "code",
   "execution_count": 171,
   "metadata": {
    "collapsed": true
   },
   "outputs": [],
   "source": [
    "def save_answers5(accuracy):\n",
    "     with open(\"cooking_LDA_pa_task5.txt\", \"w\") as fout:\n",
    "        fout.write(str(accuracy))\n",
    "        \n",
    "# сохраняем в файл задание 5\n",
    "save_answers5(accuracy_mean_score)"
   ]
  },
  {
   "cell_type": "markdown",
   "metadata": {},
   "source": [
    "Для такого большого количества классов это неплохая точность. Вы можете попроовать обучать RandomForest на исходной матрице частот слов, имеющей значительно большую размерность, и увидеть, что accuracy увеличивается на 10–15%. Таким образом, LDA собрал не всю, но достаточно большую часть информации из выборки, в матрице низкого ранга."
   ]
  },
  {
   "cell_type": "markdown",
   "metadata": {},
   "source": [
    "### LDA — вероятностная модель\n",
    "Матричное разложение, использующееся в LDA, интерпретируется как следующий процесс генерации документов.\n",
    "\n",
    "Для документа $d$ длины $n_d$:\n",
    "1. Из априорного распределения Дирихле с параметром alpha сгенерировать распределение над множеством тем: $\\theta_d \\sim Dirichlet(\\alpha)$\n",
    "1. Для каждого слова $w = 1, \\dots, n_d$:\n",
    "    1. Сгенерировать тему из дискретного распределения $t \\sim \\theta_{d}$\n",
    "    1. Сгенерировать слово из дискретного распределения $w \\sim \\phi_{t}$.\n",
    "    \n",
    "Подробнее об этом в [Википедии](https://en.wikipedia.org/wiki/Latent_Dirichlet_allocation).\n",
    "\n",
    "В контексте нашей задачи получается, что, используя данный генеративный процесс, можно создавать новые рецепты. Вы можете передать в функцию модель и число ингредиентов и сгенерировать рецепт :)"
   ]
  },
  {
   "cell_type": "code",
   "execution_count": 172,
   "metadata": {
    "collapsed": true
   },
   "outputs": [],
   "source": [
    "def generate_recipe(model, num_ingredients):\n",
    "    theta = np.random.dirichlet(model.alpha)\n",
    "    for i in range(num_ingredients):\n",
    "        t = np.random.choice(np.arange(model.num_topics), p=theta)\n",
    "        topic = model.show_topic(t, topn=model.num_terms)\n",
    "        topic_distr = [x[1] for x in topic]\n",
    "        terms = [x[0] for x in topic]\n",
    "        w = np.random.choice(terms, p=topic_distr)\n",
    "        print w"
   ]
  },
  {
   "cell_type": "code",
   "execution_count": 209,
   "metadata": {},
   "outputs": [
    {
     "name": "stdout",
     "output_type": "stream",
     "text": [
      "3117\n",
      "371\n",
      "1972\n",
      "3759\n",
      "4759\n"
     ]
    }
   ],
   "source": [
    "generate_recipe(lda2, 5)"
   ]
  },
  {
   "cell_type": "markdown",
   "metadata": {},
   "source": [
    "### Интерпретация построенной модели\n",
    "Вы можете рассмотреть топы ингредиентов каждой темы. Большиснтво тем сами по себе похожи на рецепты; в некоторых собираются продукты одного вида, например, свежие фрукты или разные виды сыра.\n",
    "\n",
    "Попробуем эмпирически соотнести наши темы с национальными кухнями (cuisine). Построим матрицу $A$ размера темы $x$ кухни, ее элементы $a_{tc}$ — суммы $p(t|d)$ по всем документам $d$, которые отнесены к кухне $c$. Нормируем матрицу на частоты рецептов по разным кухням, чтобы избежать дисбаланса между кухнями. Следующая функция получает на вход объект модели, объект корпуса и исходные данные и возвращает нормированную матрицу $A$. Ее удобно визуализировать с помощью seaborn."
   ]
  },
  {
   "cell_type": "code",
   "execution_count": 217,
   "metadata": {
    "collapsed": true
   },
   "outputs": [],
   "source": [
    "import pandas\n",
    "import seaborn\n",
    "from matplotlib import pyplot as plt\n",
    "%matplotlib inline"
   ]
  },
  {
   "cell_type": "code",
   "execution_count": 218,
   "metadata": {
    "collapsed": true
   },
   "outputs": [],
   "source": [
    "def compute_topic_cuisine_matrix(model, corpus, recipes):\n",
    "    # составляем вектор целевых признаков\n",
    "    targets = list(set([recipe[\"cuisine\"] for recipe in recipes]))\n",
    "    # составляем матрицу\n",
    "    tc_matrix = pandas.DataFrame(data=np.zeros((model.num_topics, len(targets))), columns=targets)\n",
    "    for recipe, bow in zip(recipes, corpus):\n",
    "        recipe_topic = model.get_document_topics(bow)\n",
    "        for t, prob in recipe_topic:\n",
    "            tc_matrix[recipe[\"cuisine\"]][t] += prob\n",
    "    # нормируем матрицу\n",
    "    target_sums = pandas.DataFrame(data=np.zeros((1, len(targets))), columns=targets)\n",
    "    for recipe in recipes:\n",
    "        target_sums[recipe[\"cuisine\"]] += 1\n",
    "    return pandas.DataFrame(tc_matrix.values/target_sums.values, columns=tc_matrix.columns)"
   ]
  },
  {
   "cell_type": "code",
   "execution_count": 219,
   "metadata": {
    "collapsed": true
   },
   "outputs": [],
   "source": [
    "def plot_matrix(tc_matrix):\n",
    "    plt.figure(figsize=(10, 10))\n",
    "    seaborn.heatmap(tc_matrix, square=True)"
   ]
  },
  {
   "cell_type": "code",
   "execution_count": 222,
   "metadata": {},
   "outputs": [
    {
     "data": {
      "image/png": "[encoded data removed]",
      "text/plain": [
       "<matplotlib.figure.Figure at 0x10620870>"
      ]
     },
     "metadata": {},
     "output_type": "display_data"
    }
   ],
   "source": [
    "# Визуализируйте матрицу\n",
    "plot_matrix(compute_topic_cuisine_matrix(lda2, corpus2, recipes) )"
   ]
  },
  {
   "cell_type": "markdown",
   "metadata": {},
   "source": [
    "Чем темнее квадрат в матрице, тем больше связь этой темы с данной кухней. Мы видим, что у нас есть темы, которые связаны с несколькими кухнями. Такие темы показывают набор ингредиентов, которые популярны в кухнях нескольких народов, то есть указывают на схожесть кухонь этих народов. Некоторые темы распределены по всем кухням равномерно, они показывают наборы продуктов, которые часто используются в кулинарии всех стран. "
   ]
  },
  {
   "cell_type": "markdown",
   "metadata": {},
   "source": [
    "Жаль, что в датасете нет названий рецептов, иначе темы было бы проще интерпретировать..."
   ]
  },
  {
   "cell_type": "markdown",
   "metadata": {},
   "source": [
    "### Заключение\n",
    "В этом задании вы построили несколько моделей LDA, посмотрели, на что влияют гиперпараметры модели и как можно использовать построенную модель. "
   ]
  }
 ],
 "metadata": {
  "kernelspec": {
   "display_name": "Python 2",
   "language": "python",
   "name": "python2"
  },
  "language_info": {
   "codemirror_mode": {
    "name": "ipython",
    "version": 2
   },
   "file_extension": ".py",
   "mimetype": "text/x-python",
   "name": "python",
   "nbconvert_exporter": "python",
   "pygments_lexer": "ipython2",
   "version": "2.7.13"
  }
 },
 "nbformat": 4,
 "nbformat_minor": 1
}
