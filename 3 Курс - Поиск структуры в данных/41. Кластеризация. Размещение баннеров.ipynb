{
 "cells": [
  {
   "cell_type": "markdown",
   "metadata": {},
   "source": [
    "# Кластеризация: Размещение баннеров"
   ]
  },
  {
   "cell_type": "code",
   "execution_count": 1,
   "metadata": {
    "collapsed": true
   },
   "outputs": [],
   "source": [
    "import pandas as pd\n",
    "import numpy as np"
   ]
  },
  {
   "cell_type": "markdown",
   "metadata": {},
   "source": [
    "##### Подгрузим данные о скоплении туристов по географическим координатам"
   ]
  },
  {
   "cell_type": "code",
   "execution_count": 3,
   "metadata": {},
   "outputs": [],
   "source": [
    "data = pd.read_csv(\"checkins.csv\", header=0, sep='|')"
   ]
  },
  {
   "cell_type": "code",
   "execution_count": 4,
   "metadata": {},
   "outputs": [
    {
     "data": {
      "text/html": [
       "<div>\n",
       "<style>\n",
       "    .dataframe thead tr:only-child th {\n",
       "        text-align: right;\n",
       "    }\n",
       "\n",
       "    .dataframe thead th {\n",
       "        text-align: left;\n",
       "    }\n",
       "\n",
       "    .dataframe tbody tr th {\n",
       "        vertical-align: top;\n",
       "    }\n",
       "</style>\n",
       "<table border=\"1\" class=\"dataframe\">\n",
       "  <thead>\n",
       "    <tr style=\"text-align: right;\">\n",
       "      <th></th>\n",
       "      <th>id</th>\n",
       "      <th>user_id</th>\n",
       "      <th>venue_id</th>\n",
       "      <th>latitude</th>\n",
       "      <th>longitude</th>\n",
       "      <th>created_at</th>\n",
       "    </tr>\n",
       "  </thead>\n",
       "  <tbody>\n",
       "    <tr>\n",
       "      <th>0</th>\n",
       "      <td>984301</td>\n",
       "      <td>2041916.0</td>\n",
       "      <td>5222.0</td>\n",
       "      <td></td>\n",
       "      <td></td>\n",
       "      <td>2012-04-21 17:39:01</td>\n",
       "    </tr>\n",
       "    <tr>\n",
       "      <th>1</th>\n",
       "      <td>984222</td>\n",
       "      <td>15824.0</td>\n",
       "      <td>5222.0</td>\n",
       "      <td>38.8951118</td>\n",
       "      <td>-77.0363658</td>\n",
       "      <td>2012-04-21 17:43:47</td>\n",
       "    </tr>\n",
       "    <tr>\n",
       "      <th>2</th>\n",
       "      <td>984315</td>\n",
       "      <td>1764391.0</td>\n",
       "      <td>5222.0</td>\n",
       "      <td></td>\n",
       "      <td></td>\n",
       "      <td>2012-04-21 17:37:18</td>\n",
       "    </tr>\n",
       "    <tr>\n",
       "      <th>3</th>\n",
       "      <td>984234</td>\n",
       "      <td>44652.0</td>\n",
       "      <td>5222.0</td>\n",
       "      <td>33.800745</td>\n",
       "      <td>-84.41052</td>\n",
       "      <td>2012-04-21 17:43:43</td>\n",
       "    </tr>\n",
       "    <tr>\n",
       "      <th>4</th>\n",
       "      <td>984249</td>\n",
       "      <td>2146840.0</td>\n",
       "      <td>5222.0</td>\n",
       "      <td></td>\n",
       "      <td></td>\n",
       "      <td>2012-04-21 17:42:58</td>\n",
       "    </tr>\n",
       "  </tbody>\n",
       "</table>\n",
       "</div>"
      ],
      "text/plain": [
       "     id       user_id    venue_id        latitude             longitude       \\\n",
       "0    984301  2041916.0      5222.0                                             \n",
       "1    984222    15824.0      5222.0          38.8951118          -77.0363658    \n",
       "2    984315  1764391.0      5222.0                                             \n",
       "3    984234    44652.0      5222.0           33.800745            -84.41052    \n",
       "4    984249  2146840.0      5222.0                                             \n",
       "\n",
       "       created_at        \n",
       "0   2012-04-21 17:39:01  \n",
       "1   2012-04-21 17:43:47  \n",
       "2   2012-04-21 17:37:18  \n",
       "3   2012-04-21 17:43:43  \n",
       "4   2012-04-21 17:42:58  "
      ]
     },
     "execution_count": 4,
     "metadata": {},
     "output_type": "execute_result"
    }
   ],
   "source": [
    "data.head(5)"
   ]
  },
  {
   "cell_type": "code",
   "execution_count": 5,
   "metadata": {},
   "outputs": [
    {
     "data": {
      "text/plain": [
       "Index([u'   id    ', u' user_id ', u' venue_id ', u'     latitude      ',\n",
       "       u'     longitude     ', u'     created_at      '],\n",
       "      dtype='object')"
      ]
     },
     "execution_count": 5,
     "metadata": {},
     "output_type": "execute_result"
    }
   ],
   "source": [
    "# выведим название столбцов\n",
    "data.columns"
   ]
  },
  {
   "cell_type": "code",
   "execution_count": 6,
   "metadata": {
    "collapsed": true
   },
   "outputs": [],
   "source": [
    "# удаление лишних стобцов\n",
    "data.drop(['   id    ',' user_id ',' venue_id ','     created_at      '], axis=1, inplace=True)"
   ]
  },
  {
   "cell_type": "code",
   "execution_count": 7,
   "metadata": {},
   "outputs": [
    {
     "data": {
      "text/html": [
       "<div>\n",
       "<style>\n",
       "    .dataframe thead tr:only-child th {\n",
       "        text-align: right;\n",
       "    }\n",
       "\n",
       "    .dataframe thead th {\n",
       "        text-align: left;\n",
       "    }\n",
       "\n",
       "    .dataframe tbody tr th {\n",
       "        vertical-align: top;\n",
       "    }\n",
       "</style>\n",
       "<table border=\"1\" class=\"dataframe\">\n",
       "  <thead>\n",
       "    <tr style=\"text-align: right;\">\n",
       "      <th></th>\n",
       "      <th>latitude</th>\n",
       "      <th>longitude</th>\n",
       "    </tr>\n",
       "  </thead>\n",
       "  <tbody>\n",
       "    <tr>\n",
       "      <th>0</th>\n",
       "      <td></td>\n",
       "      <td></td>\n",
       "    </tr>\n",
       "    <tr>\n",
       "      <th>1</th>\n",
       "      <td>38.8951118</td>\n",
       "      <td>-77.0363658</td>\n",
       "    </tr>\n",
       "    <tr>\n",
       "      <th>2</th>\n",
       "      <td></td>\n",
       "      <td></td>\n",
       "    </tr>\n",
       "    <tr>\n",
       "      <th>3</th>\n",
       "      <td>33.800745</td>\n",
       "      <td>-84.41052</td>\n",
       "    </tr>\n",
       "    <tr>\n",
       "      <th>4</th>\n",
       "      <td></td>\n",
       "      <td></td>\n",
       "    </tr>\n",
       "  </tbody>\n",
       "</table>\n",
       "</div>"
      ],
      "text/plain": [
       "        latitude             longitude     \n",
       "0                                          \n",
       "1          38.8951118          -77.0363658 \n",
       "2                                          \n",
       "3           33.800745            -84.41052 \n",
       "4                                          "
      ]
     },
     "execution_count": 7,
     "metadata": {},
     "output_type": "execute_result"
    }
   ],
   "source": [
    "data.head(5)"
   ]
  },
  {
   "cell_type": "code",
   "execution_count": 8,
   "metadata": {
    "collapsed": true
   },
   "outputs": [],
   "source": [
    "# выкидывем строки с пустыми ячейками\n",
    "data = data.replace(r'^\\s+$', np.nan, regex=True).dropna() "
   ]
  },
  {
   "cell_type": "code",
   "execution_count": 9,
   "metadata": {},
   "outputs": [
    {
     "data": {
      "text/html": [
       "<div>\n",
       "<style>\n",
       "    .dataframe thead tr:only-child th {\n",
       "        text-align: right;\n",
       "    }\n",
       "\n",
       "    .dataframe thead th {\n",
       "        text-align: left;\n",
       "    }\n",
       "\n",
       "    .dataframe tbody tr th {\n",
       "        vertical-align: top;\n",
       "    }\n",
       "</style>\n",
       "<table border=\"1\" class=\"dataframe\">\n",
       "  <thead>\n",
       "    <tr style=\"text-align: right;\">\n",
       "      <th></th>\n",
       "      <th>latitude</th>\n",
       "      <th>longitude</th>\n",
       "    </tr>\n",
       "  </thead>\n",
       "  <tbody>\n",
       "    <tr>\n",
       "      <th>1</th>\n",
       "      <td>38.8951118</td>\n",
       "      <td>-77.0363658</td>\n",
       "    </tr>\n",
       "    <tr>\n",
       "      <th>3</th>\n",
       "      <td>33.800745</td>\n",
       "      <td>-84.41052</td>\n",
       "    </tr>\n",
       "    <tr>\n",
       "      <th>7</th>\n",
       "      <td>45.5234515</td>\n",
       "      <td>-122.6762071</td>\n",
       "    </tr>\n",
       "    <tr>\n",
       "      <th>9</th>\n",
       "      <td>40.764462</td>\n",
       "      <td>-111.904565</td>\n",
       "    </tr>\n",
       "    <tr>\n",
       "      <th>10</th>\n",
       "      <td>33.4483771</td>\n",
       "      <td>-112.0740373</td>\n",
       "    </tr>\n",
       "  </tbody>\n",
       "</table>\n",
       "</div>"
      ],
      "text/plain": [
       "         latitude             longitude     \n",
       "1           38.8951118          -77.0363658 \n",
       "3            33.800745            -84.41052 \n",
       "7           45.5234515         -122.6762071 \n",
       "9            40.764462          -111.904565 \n",
       "10          33.4483771         -112.0740373 "
      ]
     },
     "execution_count": 9,
     "metadata": {},
     "output_type": "execute_result"
    }
   ],
   "source": [
    "data.head(5)"
   ]
  },
  {
   "cell_type": "code",
   "execution_count": 10,
   "metadata": {
    "collapsed": true
   },
   "outputs": [],
   "source": [
    "# перемешаем строки в таблице\n",
    "from sklearn.utils import shuffle\n",
    "data = shuffle(data)"
   ]
  },
  {
   "cell_type": "code",
   "execution_count": 11,
   "metadata": {},
   "outputs": [
    {
     "data": {
      "text/html": [
       "<div>\n",
       "<style>\n",
       "    .dataframe thead tr:only-child th {\n",
       "        text-align: right;\n",
       "    }\n",
       "\n",
       "    .dataframe thead th {\n",
       "        text-align: left;\n",
       "    }\n",
       "\n",
       "    .dataframe tbody tr th {\n",
       "        vertical-align: top;\n",
       "    }\n",
       "</style>\n",
       "<table border=\"1\" class=\"dataframe\">\n",
       "  <thead>\n",
       "    <tr style=\"text-align: right;\">\n",
       "      <th></th>\n",
       "      <th>latitude</th>\n",
       "      <th>longitude</th>\n",
       "    </tr>\n",
       "  </thead>\n",
       "  <tbody>\n",
       "    <tr>\n",
       "      <th>448621</th>\n",
       "      <td>42.48059</td>\n",
       "      <td>-83.4754913</td>\n",
       "    </tr>\n",
       "    <tr>\n",
       "      <th>11654</th>\n",
       "      <td>31.8456816</td>\n",
       "      <td>-102.3676431</td>\n",
       "    </tr>\n",
       "    <tr>\n",
       "      <th>512840</th>\n",
       "      <td>30.3321838</td>\n",
       "      <td>-81.655651</td>\n",
       "    </tr>\n",
       "    <tr>\n",
       "      <th>65501</th>\n",
       "      <td>33.4941704</td>\n",
       "      <td>-111.9260519</td>\n",
       "    </tr>\n",
       "    <tr>\n",
       "      <th>310254</th>\n",
       "      <td>36.1988592</td>\n",
       "      <td>-115.1175013</td>\n",
       "    </tr>\n",
       "  </tbody>\n",
       "</table>\n",
       "</div>"
      ],
      "text/plain": [
       "             latitude             longitude     \n",
       "448621            42.48059          -83.4754913 \n",
       "11654           31.8456816         -102.3676431 \n",
       "512840          30.3321838           -81.655651 \n",
       "65501           33.4941704         -111.9260519 \n",
       "310254          36.1988592         -115.1175013 "
      ]
     },
     "execution_count": 11,
     "metadata": {},
     "output_type": "execute_result"
    }
   ],
   "source": [
    "data.head(5)"
   ]
  },
  {
   "cell_type": "code",
   "execution_count": 12,
   "metadata": {},
   "outputs": [
    {
     "data": {
      "text/plain": [
       "(396634, 2)"
      ]
     },
     "execution_count": 12,
     "metadata": {},
     "output_type": "execute_result"
    }
   ],
   "source": [
    "data.shape"
   ]
  },
  {
   "cell_type": "code",
   "execution_count": 13,
   "metadata": {},
   "outputs": [
    {
     "data": {
      "text/plain": [
       "(100000, 2)"
      ]
     },
     "execution_count": 13,
     "metadata": {},
     "output_type": "execute_result"
    }
   ],
   "source": [
    "# выберем для анализа первые 100 000 строк\n",
    "data = data[:100000]\n",
    "data.shape"
   ]
  },
  {
   "cell_type": "markdown",
   "metadata": {},
   "source": [
    "##### Строим модель кластеризации MeanShift"
   ]
  },
  {
   "cell_type": "code",
   "execution_count": 14,
   "metadata": {},
   "outputs": [
    {
     "data": {
      "text/plain": [
       "MeanShift(bandwidth=0.1, bin_seeding=False, cluster_all=True, min_bin_freq=1,\n",
       "     n_jobs=1, seeds=None)"
      ]
     },
     "execution_count": 14,
     "metadata": {},
     "output_type": "execute_result"
    }
   ],
   "source": [
    "from sklearn.cluster import MeanShift\n",
    "\n",
    "ms = MeanShift(bandwidth=0.1) # создаем модель\n",
    "ms.fit(data) # обучаем модель на нашей выборке"
   ]
  },
  {
   "cell_type": "code",
   "execution_count": 15,
   "metadata": {},
   "outputs": [
    {
     "name": "stdout",
     "output_type": "stream",
     "text": [
      "(100000,)\n",
      "(3636, 2)\n"
     ]
    }
   ],
   "source": [
    "# получение сгенерированных целевых меток (y) для всех элементов выборки (мы сами создаем целевые метки для каждого элемента)\n",
    "labels = ms.labels_\n",
    "# получение центров кластеров (в порядке меток labels)\n",
    "cluster_centers = ms.cluster_centers_\n",
    "print labels.shape\n",
    "print cluster_centers.shape"
   ]
  },
  {
   "cell_type": "code",
   "execution_count": 64,
   "metadata": {},
   "outputs": [
    {
     "name": "stdout",
     "output_type": "stream",
     "text": [
      "609\n"
     ]
    }
   ],
   "source": [
    "#подсчет объема кластеров и отбор больших (в которых элементов больше 15)\n",
    "\n",
    "# создаем счетчик по целевым меткам (подсчитаем количетсов элементов для каждого кластера - целевой метки labels)\n",
    "import collections\n",
    "counter = collections.Counter(labels)\n",
    "\n",
    "# filter возвращает элементы из counter.items() в которых элемент[1]>15\n",
    "result = filter(lambda x: x[1]>15, counter.items()) # result - массив состоящий из (класс, количетсво)\n",
    "labels_bigclusters = zip(*result) # zip(*result) распаковывает массив result (поворачивает матрицу на 90 градусов)\n",
    "print len(labels_bigclusters[0]) # всего у нас 609 кластеров"
   ]
  },
  {
   "cell_type": "code",
   "execution_count": 65,
   "metadata": {
    "collapsed": true
   },
   "outputs": [],
   "source": [
    "#загрузка Офисов, в разных городах, из задания по координатам latitude (широта) и longitude (долгота)\n",
    "carivalOffice = pd.DataFrame({'latitude':[33.751277, 25.867736, 51.503016, 52.378894, 39.366487, -33.868457],\n",
    "                              'longitude':[-118.188740, -80.324116, -0.075479, 4.885084, 117.036146, 151.205134]})"
   ]
  },
  {
   "cell_type": "code",
   "execution_count": 66,
   "metadata": {},
   "outputs": [
    {
     "data": {
      "text/plain": [
       "(6, 2)"
      ]
     },
     "execution_count": 66,
     "metadata": {},
     "output_type": "execute_result"
    }
   ],
   "source": [
    "carivalOffice.shape"
   ]
  },
  {
   "cell_type": "code",
   "execution_count": 81,
   "metadata": {},
   "outputs": [
    {
     "name": "stdout",
     "output_type": "stream",
     "text": [
      "[[0, 16.144646053158699], [1, 17.598479662824378], [2, 6.2938142711283929], [3, 6.1221520997406769], [4, 13.424171651463816], [5, 5.7707575539552298], [6, 5.8494294363827066], [7, 8.8868153711422586], [8, 18.911710128922916], [9, 14.461240793690903], [10, 0.32283987744148179], [11, 6.3785289092096393], [12, 3.8344733650684897], [13, 23.080729367116763], [14, 17.965936946793459], [15, 15.000052325324734], [16, 16.252502182158793], [17, 1.3513434339175854], [18, 0.3770118395450533], [19, 14.494116289068934]]\n",
      "[[243, 0.0013999018759021488], [279, 0.0097628089753440134], [52, 0.052101984401796024], [208, 0.066447991387102875], [50, 0.072808064284032678], [23, 0.13604952649957955], [94, 0.18360902195019474], [83, 0.19548226212119962], [49, 0.26844818184191882], [33, 0.2879918285307409], [54, 0.28873222567481893], [32, 0.30129623076146728], [10, 0.32283987744148179], [34, 0.35402563731314485], [79, 0.36681094440145873], [18, 0.3770118395450533], [56, 0.38265943582281103], [118, 0.3860635720252702], [22, 0.41063195789772], [39, 0.41366966356221568]]\n"
     ]
    }
   ],
   "source": [
    "#ищем 20 кластерных центров наиболее близких к офисам\n",
    "result_dist = []\n",
    "countertmp = 0\n",
    "\n",
    "from numpy import linalg\n",
    "\n",
    "for tmp in cluster_centers: # цикл по центрам кластеров (координатам)\n",
    "    if countertmp in labels_bigclusters[0]: # если такой кластер существует (мы его не удалили)\n",
    "        # тогда добавь в массив: данная целева метка кластера, дистанция от центра кластера до Ближайшего Офиса (min) \n",
    "        result_dist.append ([countertmp, min(linalg.norm(carivalOffice - tmp, axis=1))])  \n",
    "    countertmp += 1\n",
    "    \n",
    "print result_dist[:20]\n",
    "# Упорядочим элементы словаря по первому элементу (дистанции)\n",
    "result_dist = sorted(result_dist, key=lambda distance: distance[1])\n",
    "print result_dist[:20]"
   ]
  },
  {
   "cell_type": "code",
   "execution_count": 82,
   "metadata": {},
   "outputs": [
    {
     "name": "stdout",
     "output_type": "stream",
     "text": [
      "index 243 - center [ -33.86706468  151.20498854] - dist 0.0013999018759 - power 54\n",
      "index 279 - center [ 52.37177154   4.89176105] - dist 0.00976280897534 - power 48\n",
      "index 52 - center [ 51.5028701   -0.12758078] - dist 0.0521019844018 - power 319\n",
      "index 208 - center [ 25.91402968 -80.27644808] - dist 0.0664479913871 - power 76\n",
      "index 50 - center [  33.81085567 -118.14689031] - dist 0.072808064284 - power 335\n",
      "index 23 - center [ 25.78676198 -80.21478768] - dist 0.1360495265 - power 700\n",
      "index 94 - center [ 26.00653795 -80.20392327] - dist 0.18360902195 - power 122\n",
      "index 83 - center [  33.90025783 -118.06217766] - dist 0.195482262121 - power 160\n",
      "index 49 - center [  33.64203986 -117.94352239] - dist 0.268448181842 - power 326\n",
      "index 33 - center [  33.93872277 -118.40737983] - dist 0.287991828531 - power 424\n",
      "index 54 - center [ 26.10467683 -80.15911496] - dist 0.288732225675 - power 227\n",
      "index 32 - center [  33.8102705  -117.89327564] - dist 0.301296230761 - power 467\n",
      "index 10 - center [  34.06492832 -118.26521508] - dist 0.322839877441 - power 974\n",
      "index 34 - center [  33.68767567 -117.84047426] - dist 0.354025637313 - power 352\n",
      "index 79 - center [  34.06386201 -117.99680022] - dist 0.366810944401 - power 209\n",
      "index 18 - center [  34.03420587 -118.43791701] - dist 0.377011839545 - power 672\n",
      "index 56 - center [  34.12793767 -118.12124941] - dist 0.382659435823 - power 263\n",
      "index 118 - center [ 26.23142364 -80.19459234] - dist 0.386063572025 - power 101\n",
      "index 22 - center [  34.12792127 -118.35231781] - dist 0.410631957898 - power 541\n",
      "index 39 - center [  34.16232128 -118.23527165] - dist 0.413669663562 - power 94\n"
     ]
    }
   ],
   "source": [
    "for tmp in result_dist[:20]:\n",
    "    print \"index %s - center %s - dist %s - power %s\" % (tmp[0],cluster_centers[tmp[0]], tmp[1],labels_bigclusters[1][tmp[0]] )"
   ]
  },
  {
   "cell_type": "code",
   "execution_count": 83,
   "metadata": {
    "collapsed": true
   },
   "outputs": [],
   "source": [
    "# запишем ответ в файл\n",
    "with open(\"answer.txt\", \"w\") as F:\n",
    "    F.write(\"-33.86792497  151.20815811\")"
   ]
  }
 ],
 "metadata": {
  "kernelspec": {
   "display_name": "Python 2",
   "language": "python",
   "name": "python2"
  },
  "language_info": {
   "codemirror_mode": {
    "name": "ipython",
    "version": 2
   },
   "file_extension": ".py",
   "mimetype": "text/x-python",
   "name": "python",
   "nbconvert_exporter": "python",
   "pygments_lexer": "ipython2",
   "version": "2.7.13"
  }
 },
 "nbformat": 4,
 "nbformat_minor": 2
}
