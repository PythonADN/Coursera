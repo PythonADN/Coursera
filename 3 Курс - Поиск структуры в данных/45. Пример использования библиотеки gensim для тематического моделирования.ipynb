{
 "cells": [
  {
   "cell_type": "markdown",
   "metadata": {},
   "source": [
    "# Пример использования библиотеки gensim для тематического моделирования"
   ]
  },
  {
   "cell_type": "markdown",
   "metadata": {},
   "source": [
    "Такая полезная теорема Байеса! :)\n",
    "\n",
    "![comic1](http://imgs.xkcd.com/comics/seashell.png)"
   ]
  },
  {
   "cell_type": "code",
   "execution_count": 1,
   "metadata": {},
   "outputs": [
    {
     "name": "stderr",
     "output_type": "stream",
     "text": [
      "C:\\Users\\Dima\\Anaconda2\\lib\\site-packages\\gensim\\utils.py:860: UserWarning: detected Windows; aliasing chunkize to chunkize_serial\n",
      "  warnings.warn(\"detected Windows; aliasing chunkize to chunkize_serial\")\n",
      "No handlers could be found for logger \"gensim.models.doc2vec\"\n"
     ]
    }
   ],
   "source": [
    "from gensim import corpora, models\n",
    "# corpora - импортирует данные в нужном формате\n",
    "# models - строит саму модель"
   ]
  },
  {
   "cell_type": "code",
   "execution_count": 2,
   "metadata": {
    "collapsed": true
   },
   "outputs": [],
   "source": [
    "# Импортируем данные в формте UCI Bag of Words (хорошо представляет данные в разреженной матрице частоты слов)\n",
    "data = corpora.UciCorpus(\"docword.xkcd.txt\", \"vocab.xkcd.txt\") # docword: номер документа, номер слова, частота. vocab - словарь\n",
    "dictionary = data.create_dictionary() # в отдельную переменную нужно сохранить словарь из нашей data"
   ]
  },
  {
   "cell_type": "code",
   "execution_count": 3,
   "metadata": {},
   "outputs": [
    {
     "name": "stdout",
     "output_type": "stream",
     "text": [
      "Wall time: 6min 45s\n"
     ]
    }
   ],
   "source": [
    "# обучение модель\n",
    "%time ldamodel = models.ldamodel.LdaModel(data, id2word=dictionary, num_topics=5, passes=20, alpha=1.25, eta=1.25)\n",
    "# id2word - отображения в слова (dictionary), passes - кол. проходов по коллекции, alpha и eta параметры распределения Дирихле"
   ]
  },
  {
   "cell_type": "code",
   "execution_count": 4,
   "metadata": {
    "collapsed": true
   },
   "outputs": [],
   "source": [
    "# Сохранение модели в папку пользователя (сохранит сразу несколько файлов: 4)\n",
    "ldamodel.save(\"ldamodel_xkcd\")"
   ]
  },
  {
   "cell_type": "code",
   "execution_count": 5,
   "metadata": {
    "collapsed": true
   },
   "outputs": [],
   "source": [
    "# Загрузка модели из папки пользователя\n",
    "# так можно несколько раз генерировать модель, чтобы подобрать хорошее начальное приближение, которо определяется по топам слов\n",
    "ldamodel = models.ldamodel.LdaModel.load(\"ldamodel_xkcd\")"
   ]
  },
  {
   "cell_type": "code",
   "execution_count": 6,
   "metadata": {},
   "outputs": [
    {
     "name": "stdout",
     "output_type": "stream",
     "text": [
      "Topic 0 : 0.001*\"beef\" + 0.001*\"guy\" + 0.001*\"december\" + 0.001*\"senator\" + 0.001*\"24th\" + 0.001*\"pizza\" + 0.001*\"ray\" + 0.001*\"silence\" + 0.001*\"raptor\" + 0.000*\"hat\"\n",
      "Topic 1 : 0.001*\"ago\" + 0.001*\"male\" + 0.001*\"gliese\" + 0.001*\"planet\" + 0.001*\"female\" + 0.001*\"day\" + 0.001*\"year\" + 0.001*\"destroy\" + 0.001*\"cast\" + 0.001*\"stage\"\n",
      "Topic 2 : 0.042*\"man\" + 0.017*\"woman\" + 0.007*\"text\" + 0.006*\"title\" + 0.006*\"hat\" + 0.004*\"computer\" + 0.003*\"look\" + 0.003*\"stand\" + 0.003*\"black\" + 0.003*\"one\"\n",
      "Topic 3 : 0.004*\"narrator\" + 0.002*\"wait\" + 0.001*\"within\" + 0.001*\"peter\" + 0.001*\"sagal\" + 0.001*\"one\" + 0.001*\"nathan\" + 0.001*\"part\" + 0.001*\"relation\" + 0.001*\"accurate\"\n",
      "Topic 4 : 0.015*\"person\" + 0.011*\"text\" + 0.010*\"title\" + 0.009*\"guy\" + 0.007*\"girl\" + 0.006*\"one\" + 0.005*\"two\" + 0.005*\"just\" + 0.005*\"people\" + 0.004*\"figure\"\n"
     ]
    }
   ],
   "source": [
    "# выводим топ-10 тем по топ-10 слов в каждой топовой теме (print_topics)\n",
    "for t, top_words in ldamodel.print_topics(num_topics=10, num_words=10):\n",
    "    print \"Topic\", t, \":\", top_words"
   ]
  },
  {
   "cell_type": "code",
   "execution_count": 7,
   "metadata": {},
   "outputs": [
    {
     "name": "stdout",
     "output_type": "stream",
     "text": [
      "360.804448026\n"
     ]
    }
   ],
   "source": [
    "# Вычисляем логарифм перплексии и немного преобразуем, чтобы привести к общепринятому виду (чем меньше тем лучше)\n",
    "# нужно сравнивать разные модели по данной метрике, т.к. просто число нам ни о чем не говорит\n",
    "perplexity = ldamodel.log_perplexity(list(data))\n",
    "print 2**(-perplexity)"
   ]
  },
  {
   "cell_type": "code",
   "execution_count": 8,
   "metadata": {},
   "outputs": [
    {
     "data": {
      "text/plain": [
       "360.80444801619399"
      ]
     },
     "execution_count": 8,
     "metadata": {},
     "output_type": "execute_result"
    }
   ],
   "source": [
    "perp = ldamodel.bound(data)\n",
    "2**(-perp/float(87409))"
   ]
  },
  {
   "cell_type": "code",
   "execution_count": null,
   "metadata": {},
   "outputs": [],
   "source": [
    "# (Дообучение модели на новых данных) Добавление в модель новых документов, содержащихся в новом корупсе data2\n",
    "ldamodel.update(data2, passes=10)"
   ]
  },
  {
   "cell_type": "code",
   "execution_count": 10,
   "metadata": {},
   "outputs": [
    {
     "data": {
      "text/plain": [
       "[(0, 0.055873850861296932),\n",
       " (1, 0.055326177847326789),\n",
       " (2, 0.099772848537461101),\n",
       " (3, 0.057913350129272484),\n",
       " (4, 0.73111377262464272)]"
      ]
     },
     "execution_count": 10,
     "metadata": {},
     "output_type": "execute_result"
    }
   ],
   "source": [
    "# Получение распределения тем для конкретного документа\n",
    "doc = list(data)[0]\n",
    "ldamodel.get_document_topics(doc)"
   ]
  },
  {
   "cell_type": "markdown",
   "metadata": {},
   "source": [
    "Эти люди не знают про тематические модели:\n",
    "\n",
    "![comic2](http://imgs.xkcd.com/comics/the_problem_with_wikipedia.png) | ![comic3](http://imgs.xkcd.com/comics/mystery_news.png)"
   ]
  }
 ],
 "metadata": {
  "kernelspec": {
   "display_name": "Python 2",
   "language": "python",
   "name": "python2"
  },
  "language_info": {
   "codemirror_mode": {
    "name": "ipython",
    "version": 2
   },
   "file_extension": ".py",
   "mimetype": "text/x-python",
   "name": "python",
   "nbconvert_exporter": "python",
   "pygments_lexer": "ipython2",
   "version": "2.7.13"
  }
 },
 "nbformat": 4,
 "nbformat_minor": 1
}
