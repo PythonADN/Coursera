{
 "cells": [
  {
   "cell_type": "markdown",
   "metadata": {},
   "source": [
    "# Градиентный бустинг своими руками\n",
    "\n",
    "**Внимание:** в тексте задания произошли изменения - поменялось число деревьев (теперь 50), правило изменения величины шага в задании 3 и добавился параметр `random_state` у решающего дерева. Правильные ответы не поменялись, но теперь их проще получить. Также исправлена опечатка в функции `gbm_predict`.\n",
    "\n",
    "В этом задании будет использоваться датасет `boston` из `sklearn.datasets`. Оставьте последние 25% объектов для контроля качества, разделив `X` и `y` на `X_train`, `y_train` и `X_test`, `y_test`.\n",
    "\n",
    "Целью задания будет реализовать простой вариант градиентного бустинга над регрессионными деревьями для случая квадратичной функции потерь."
   ]
  },
  {
   "cell_type": "code",
   "execution_count": 1,
   "metadata": {
    "collapsed": true
   },
   "outputs": [],
   "source": [
    "from sklearn import datasets, tree, metrics, ensemble, linear_model\n",
    "\n",
    "import numpy as np"
   ]
  },
  {
   "cell_type": "code",
   "execution_count": 2,
   "metadata": {},
   "outputs": [
    {
     "name": "stdout",
     "output_type": "stream",
     "text": [
      "126.5\n",
      "379 127\n"
     ]
    }
   ],
   "source": [
    "# загрузим стандартный датасет boston\n",
    "boston = datasets.load_boston()\n",
    "\n",
    "# Разделим вручную выборки\n",
    "\n",
    "# 25% от всей выборки = 127 объектов\n",
    "print len(boston.data)*0.25\n",
    "\n",
    "X_train = boston.data[:-127]\n",
    "y_train = boston.target[:-127]\n",
    "\n",
    "X_test = boston.data[-127:]\n",
    "y_test = boston.target[-127:]\n",
    "\n",
    "print len(X_train), len(X_test)"
   ]
  },
  {
   "cell_type": "markdown",
   "metadata": {},
   "source": [
    "## Задание 1\n",
    "\n",
    "Как вы уже знаете из лекций, **бустинг** - это метод построения композиций базовых алгоритмов с помощью последовательного добавления к текущей композиции нового алгоритма с некоторым коэффициентом. \n",
    "\n",
    "Градиентный бустинг обучает каждый новый алгоритм так, чтобы он приближал антиградиент ошибки по ответам композиции на обучающей выборке. Аналогично минимизации функций методом градиентного спуска, в градиентном бустинге мы подправляем композицию, изменяя алгоритм в направлении антиградиента ошибки.\n",
    "\n",
    "Воспользуйтесь формулой из лекций, задающей ответы на обучающей выборке, на которые нужно обучать новый алгоритм (фактически это лишь чуть более подробно расписанный градиент от ошибки), и получите частный ее случай, если функция потерь `L` - квадрат отклонения ответа композиции `a(x)` от правильного ответа `y` на данном `x`.\n",
    "\n",
    "Если вы давно не считали производную самостоятельно, вам поможет таблица производных элементарных функций (которую несложно найти в интернете) и правило дифференцирования сложной функции. После дифференцирования квадрата у вас возникнет множитель 2 — т.к. нам все равно предстоит выбирать коэффициент, с которым будет добавлен новый базовый алгоритм, проигноируйте этот множитель при дальнейшем построении алгоритма."
   ]
  },
  {
   "cell_type": "markdown",
   "metadata": {},
   "source": [
    "## Задание 2\n",
    "\n",
    "Заведите массив для объектов `DecisionTreeRegressor` (будем их использовать в качестве базовых алгоритмов) и для вещественных чисел (это будут коэффициенты перед базовыми алгоритмами). \n",
    "\n",
    "В цикле от обучите последовательно 50 решающих деревьев с параметрами `max_depth=5` и `random_state=42` (остальные параметры - по умолчанию). В бустинге зачастую используются сотни и тысячи деревьев, но мы ограничимся 50, чтобы алгоритм работал быстрее, и его было проще отлаживать (т.к. цель задания разобраться, как работает метод). Каждое дерево должно обучаться на одном и том же множестве объектов, но ответы, которые учится прогнозировать дерево, будут меняться в соответствие с полученным в задании 1 правилом. \n",
    "\n",
    "Попробуйте для начала всегда брать коэффициент равным 0.9. Обычно оправдано выбирать коэффициент значительно меньшим - порядка 0.05 или 0.1, но т.к. в нашем учебном примере на стандартном датасете будет всего 50 деревьев, возьмем для начала шаг побольше.\n",
    "\n",
    "В процессе реализации обучения вам потребуется функция, которая будет вычислять прогноз построенной на данный момент композиции деревьев на выборке `X`:\n",
    "\n",
    "```\n",
    "def gbm_predict(X):\n",
    "    return [sum([coeff * algo.predict([x])[0] for algo, coeff in zip(base_algorithms_list, coefficients_list)]) for x in X]\n",
    "(считаем, что base_algorithms_list - список с базовыми алгоритмами, coefficients_list - список с коэффициентами перед алгоритмами)\n",
    "```\n",
    "\n",
    "Эта же функция поможет вам получить прогноз на контрольной выборке и оценить качество работы вашего алгоритма с помощью `mean_squared_error` в `sklearn.metrics`. \n",
    "\n",
    "Возведите результат в степень 0.5, чтобы получить `RMSE`. Полученное значение `RMSE` — **ответ в пункте 2**."
   ]
  },
  {
   "cell_type": "code",
   "execution_count": 88,
   "metadata": {
    "collapsed": true
   },
   "outputs": [],
   "source": [
    "# заведем массив для решающий деревьев модели DecisionTreeRegressor\n",
    "array_Tree = [] # в нем буду хранится базовые алгоритмы\n",
    "# заведем массив для шага между базовыми алгоритмами (η)\n",
    "array_eta = []"
   ]
  },
  {
   "cell_type": "code",
   "execution_count": 89,
   "metadata": {
    "collapsed": true
   },
   "outputs": [],
   "source": [
    "# функция определения последней композиции на каждой итерации (a[n] = a[n-1]+eta*b[n])\n",
    "def gbm_predict(X):\n",
    "    return [sum([coeff * algo.predict([x])[0] for algo, coeff in zip(array_Tree, array_eta)]) for x in X]"
   ]
  },
  {
   "cell_type": "code",
   "execution_count": 90,
   "metadata": {
    "collapsed": true
   },
   "outputs": [],
   "source": [
    "# построим нулевое дерево и запишем базовый алгоритм и шаг в массивы для построения композиций\n",
    "clf = tree.DecisionTreeRegressor(max_depth=5, random_state=42) # создаем модель регрессии дерева решений\n",
    "clf.fit(X_train, y_train) # обучаем модель на обучающей выборке X и y\n",
    "array_Tree.append(clf) # добавляем нулевую модель в массив array_Tree\n",
    "array_eta.append(0.9) # добавляем нулевой шаг Эта в массив array_eta"
   ]
  },
  {
   "cell_type": "code",
   "execution_count": 91,
   "metadata": {
    "collapsed": true
   },
   "outputs": [],
   "source": [
    "for i in np.arange(0,50,1):\n",
    "    S = y_train - gbm_predict(X_train) # вектор сдвигов для любой итерации (разность ответов y и последней композиции)\n",
    "    clf = tree.DecisionTreeRegressor(max_depth=5, random_state=42) # строим новое дерево\n",
    "    clf.fit(X_train, S) # обучаем дерево на выборке (X,S), т.е. на сдвиге\n",
    "    array_Tree.append(clf) # добавляем данную модель в массив array_Tree\n",
    "    array_eta.append(0.9) # добавляем шаг Эта в массив array_eta"
   ]
  },
  {
   "cell_type": "code",
   "execution_count": 92,
   "metadata": {},
   "outputs": [
    {
     "name": "stdout",
     "output_type": "stream",
     "text": [
      "5.45803336975\n"
     ]
    }
   ],
   "source": [
    "# проверим качество итоговой композиции (последней) на тестовой выборке (будем проверять квадратный корень от метрики MSE)\n",
    "Q = metrics.mean_squared_error(y_test,gbm_predict(X_test))**0.5\n",
    "print Q\n",
    "\n",
    "# запишем данную ошибку в файл 2\n",
    "with open(\"answer_2.txt\", \"w\") as F:\n",
    "    F.write(str(Q))"
   ]
  },
  {
   "cell_type": "markdown",
   "metadata": {},
   "source": [
    "## Задание 3\n",
    "\n",
    "Вас может также беспокоить, что двигаясь с постоянным шагом, вблизи минимума ошибки ответы на обучающей выборке меняются слишком резко, перескакивая через минимум. \n",
    "\n",
    "Попробуйте уменьшать вес перед каждым алгоритмом с каждой следующей итерацией по формуле `0.9 / (1.0 + i)`, где `i` - номер итерации (от 0 до 49). Используйте качество работы алгоритма как **ответ в пункте 3**. \n",
    "\n",
    "В реальности часто применяется следующая стратегия выбора шага: как только выбран алгоритм, подберем коэффициент перед ним численным методом оптимизации таким образом, чтобы отклонение от правильных ответов было минимальным. Мы не будем предлагать вам реализовать это для выполнения задания, но рекомендуем попробовать разобраться с такой стратегией и реализовать ее при случае для себя."
   ]
  },
  {
   "cell_type": "code",
   "execution_count": 93,
   "metadata": {},
   "outputs": [
    {
     "name": "stdout",
     "output_type": "stream",
     "text": [
      "4.81089328026\n"
     ]
    }
   ],
   "source": [
    "# обнулим массивы\n",
    "array_Tree = []\n",
    "array_eta = []\n",
    "\n",
    "for i in np.arange(0,50,1):\n",
    "    S = y_train - gbm_predict(X_train) # вектор сдвигов для любой итерации (разность ответов y и последней композиции)\n",
    "    clf = tree.DecisionTreeRegressor(max_depth=5, random_state=42) # строим новое дерево\n",
    "    clf.fit(X_train, S) # обучаем дерево на выборке (X,S), т.е. на сдвиге\n",
    "    array_Tree.append(clf) # добавляем данную модель в массив array_Tree\n",
    "    array_eta.append(0.9/(1.0+i)) # добавляем динамичный шаг Эта в массив array_eta\n",
    "\n",
    "# проверим качество итоговой композиции\n",
    "Q = metrics.mean_squared_error(y_test,gbm_predict(X_test))**0.5\n",
    "print Q\n",
    "\n",
    "# запишем данную ошибку в файл 3\n",
    "with open(\"answer_3.txt\", \"w\") as F:\n",
    "    F.write(str(Q))"
   ]
  },
  {
   "cell_type": "markdown",
   "metadata": {},
   "source": [
    "## Задание 4\n",
    "\n",
    "Реализованный вами метод - градиентный бустинг над деревьями - очень популярен в машинном обучении. Он представлен как в самой библиотеке `sklearn`, так и в сторонней библиотеке `XGBoost`, которая имеет свой питоновский интерфейс. На практике `XGBoost` работает заметно лучше `GradientBoostingRegressor` из `sklearn`, но для этого задания вы можете использовать любую реализацию. \n",
    "\n",
    "Исследуйте, переобучается ли градиентный бустинг с ростом числа итераций (и подумайте, почему), а также с ростом глубины деревьев. На основе наблюдений выпишите через пробел номера правильных из приведенных ниже утверждений в порядке возрастания номера (это будет **ответ в п.4**):\n",
    "\n",
    "**Ответ:  при слишком большом количестве деревьев алгоритм переобучается, а увеличение глубины деревьев ускоряет этот процесс**\n",
    "\n",
    "    1. С увеличением числа деревьев, начиная с некоторого момента, качество работы градиентного бустинга не меняется существенно.\n",
    "    Ответ: Нет\n",
    "    2. С увеличением числа деревьев, начиная с некоторого момента, градиентный бустинг начинает переобучаться.\n",
    "    Ответ: Да\n",
    "    3. С ростом глубины деревьев, начиная с некоторого момента, качество работы градиентного бустинга на тестовой выборке начинает ухудшаться.\n",
    "    Ответ: Да\n",
    "    4. С ростом глубины деревьев, начиная с некоторого момента, качество работы градиентного бустинга перестает существенно изменяться\n",
    "    Ответ: Нет"
   ]
  },
  {
   "cell_type": "code",
   "execution_count": 182,
   "metadata": {
    "collapsed": true
   },
   "outputs": [],
   "source": [
    "estimators = [1] + range(10, 210, 10) \n",
    "\n",
    "scoring = []\n",
    "\n",
    "for i in estimators:\n",
    "    clf = ensemble.GradientBoostingRegressor(max_depth=5, n_estimators=i, random_state=42)\n",
    "    clf.fit(X_train,y_train)\n",
    "    score = metrics.mean_squared_error(y_test,clf.predict(X_test))\n",
    "    scoring.append(score)"
   ]
  },
  {
   "cell_type": "code",
   "execution_count": 183,
   "metadata": {},
   "outputs": [
    {
     "name": "stdout",
     "output_type": "stream",
     "text": [
      "Populating the interactive namespace from numpy and matplotlib\n"
     ]
    },
    {
     "data": {
      "text/plain": [
       "<matplotlib.text.Text at 0x9959430>"
      ]
     },
     "execution_count": 183,
     "metadata": {},
     "output_type": "execute_result"
    },
    {
     "data": {
      "image/png": "[encoded data removed]",
      "text/plain": [
       "<matplotlib.figure.Figure at 0x986f970>"
      ]
     },
     "metadata": {},
     "output_type": "display_data"
    }
   ],
   "source": [
    "%pylab inline\n",
    "\n",
    "pylab.plot(estimators, scoring, marker='.', label='GradientBoostingRegressor')\n",
    "pylab.grid(True)\n",
    "pylab.xlabel('depth')\n",
    "pylab.ylabel('score')"
   ]
  },
  {
   "cell_type": "code",
   "execution_count": 184,
   "metadata": {
    "collapsed": true
   },
   "outputs": [],
   "source": [
    "depth = [1] + range(10, 210, 10) \n",
    "\n",
    "scoring = []\n",
    "\n",
    "for i in depth:\n",
    "    clf = ensemble.GradientBoostingRegressor(max_depth=i, n_estimators = 300, random_state=42)\n",
    "    clf.fit(X_train,y_train)\n",
    "    score = metrics.mean_squared_error(y_test,clf.predict(X_test))\n",
    "    scoring.append(score)"
   ]
  },
  {
   "cell_type": "code",
   "execution_count": 185,
   "metadata": {},
   "outputs": [
    {
     "name": "stdout",
     "output_type": "stream",
     "text": [
      "Populating the interactive namespace from numpy and matplotlib\n"
     ]
    },
    {
     "data": {
      "text/plain": [
       "<matplotlib.text.Text at 0x9ad4110>"
      ]
     },
     "execution_count": 185,
     "metadata": {},
     "output_type": "execute_result"
    },
    {
     "data": {
      "image/png": "[encoded data removed]",
      "text/plain": [
       "<matplotlib.figure.Figure at 0x9adedd0>"
      ]
     },
     "metadata": {},
     "output_type": "display_data"
    }
   ],
   "source": [
    "%pylab inline\n",
    "\n",
    "pylab.plot(depth, scoring, marker='.', label='GradientBoostingRegressor')\n",
    "pylab.grid(True)\n",
    "pylab.xlabel('depth')\n",
    "pylab.ylabel('score')"
   ]
  },
  {
   "cell_type": "code",
   "execution_count": 186,
   "metadata": {
    "collapsed": true
   },
   "outputs": [],
   "source": [
    "# запишем правильные ответы в файл 4\n",
    "with open(\"answer_4.txt\", \"w\") as F:\n",
    "    F.write(\"2 3\")"
   ]
  },
  {
   "cell_type": "markdown",
   "metadata": {},
   "source": [
    "## Задание 5\n",
    "\n",
    "Сравните получаемое с помощью градиентного бустинга качество с качеством работы линейной регрессии. \n",
    "\n",
    "Для этого обучите `LinearRegression` из `sklearn.linear_model` (с параметрами по умолчанию) на обучающей выборке и оцените для прогнозов полученного алгоритма на тестовой выборке `RMSE`. Полученное качество - ответ в **пункте 5**. \n",
    "\n",
    "В данном примере качество работы простой модели должно было оказаться хуже, но не стоит забывать, что так бывает не всегда. В заданиях к этому курсу вы еще встретите пример обратной ситуации."
   ]
  },
  {
   "cell_type": "code",
   "execution_count": 6,
   "metadata": {},
   "outputs": [
    {
     "name": "stdout",
     "output_type": "stream",
     "text": [
      "8.27046803494\n"
     ]
    }
   ],
   "source": [
    "# обучение модели ленейной регресии\n",
    "clf = linear_model.LinearRegression()\n",
    "clf.fit(X_train,y_train)\n",
    "\n",
    "# оценка качества на тестовой выборке методом RMSE (root mean squared error - корень из среднеквадратичного отклонения)\n",
    "Q = metrics.mean_squared_error(y_test,clf.predict(X_test))**0.5\n",
    "print Q\n",
    "\n",
    "# запишем полученную метрику в файл 5\n",
    "with open(\"answer_5.txt\", \"w\") as F:\n",
    "    F.write(str(Q))"
   ]
  }
 ],
 "metadata": {
  "kernelspec": {
   "display_name": "Python 2",
   "language": "python",
   "name": "python2"
  },
  "language_info": {
   "codemirror_mode": {
    "name": "ipython",
    "version": 2
   },
   "file_extension": ".py",
   "mimetype": "text/x-python",
   "name": "python",
   "nbconvert_exporter": "python",
   "pygments_lexer": "ipython2",
   "version": "2.7.13"
  }
 },
 "nbformat": 4,
 "nbformat_minor": 1
}
