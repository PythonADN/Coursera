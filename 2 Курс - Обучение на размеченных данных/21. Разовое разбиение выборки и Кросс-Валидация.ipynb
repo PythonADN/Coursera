{
 "cells": [
  {
   "cell_type": "markdown",
   "metadata": {},
   "source": [
    "# Sklearn"
   ]
  },
  {
   "cell_type": "markdown",
   "metadata": {},
   "source": [
    "## sklearn.cross_validation"
   ]
  },
  {
   "cell_type": "markdown",
   "metadata": {},
   "source": [
    "документация: http://scikit-learn.org/stable/modules/cross_validation.html"
   ]
  },
  {
   "cell_type": "code",
   "execution_count": 3,
   "metadata": {},
   "outputs": [],
   "source": [
    "from sklearn import cross_validation, datasets\n",
    "\n",
    "import numpy as np"
   ]
  },
  {
   "cell_type": "markdown",
   "metadata": {},
   "source": [
    "### Разовое разбиение данных на обучение и тест с помощью train_test_split"
   ]
  },
  {
   "cell_type": "code",
   "execution_count": 8,
   "metadata": {},
   "outputs": [],
   "source": [
    "iris = datasets.load_iris()"
   ]
  },
  {
   "cell_type": "markdown",
   "metadata": {},
   "source": [
    "Разбиение выборки признаков iris.data и классов iris.target на обучающую 70% и тестовую 30%. Так мы получили 4 объекта:\n",
    "- train_data: данные обучения ______________ test_data: данные теста\n",
    "- train_labels: метка обучения ______________ test_labels: метка теста"
   ]
  },
  {
   "cell_type": "code",
   "execution_count": 15,
   "metadata": {},
   "outputs": [],
   "source": [
    "train_data, test_data, train_labels, test_labels = cross_validation.train_test_split(iris.data, iris.target, \n",
    "                                                                                     test_size = 0.3)"
   ]
  },
  {
   "cell_type": "code",
   "execution_count": 18,
   "metadata": {},
   "outputs": [
    {
     "data": {
      "text/plain": [
       "0.3"
      ]
     },
     "execution_count": 18,
     "metadata": {},
     "output_type": "execute_result"
    }
   ],
   "source": [
    "#убедимся, что тестовая выборка действительно составляет 0.3 от всех данных\n",
    "float(len(test_labels))/len(iris.data)"
   ]
  },
  {
   "cell_type": "code",
   "execution_count": 20,
   "metadata": {},
   "outputs": [
    {
     "name": "stdout",
     "output_type": "stream",
     "text": [
      "Размер обучающей выборки: 105 объектов \n",
      "Размер тестовой выборки: 45 объектов\n"
     ]
    }
   ],
   "source": [
    "print 'Размер обучающей выборки: {} объектов \\nРазмер тестовой выборки: {} объектов'.format(len(train_data),\n",
    "                                                                                            len(test_data))"
   ]
  },
  {
   "cell_type": "code",
   "execution_count": 24,
   "metadata": {},
   "outputs": [
    {
     "name": "stdout",
     "output_type": "stream",
     "text": [
      "Обучающая выборка:\n",
      "[[ 6.2  2.2  4.5  1.5]\n",
      " [ 5.7  2.9  4.2  1.3]\n",
      " [ 5.   3.5  1.6  0.6]\n",
      " [ 6.5  2.8  4.6  1.5]\n",
      " [ 5.   3.2  1.2  0.2]]\n",
      "\n",
      "\n",
      "Тестовая выборка:\n",
      "[[ 4.6  3.6  1.   0.2]\n",
      " [ 5.1  3.3  1.7  0.5]\n",
      " [ 6.3  3.3  4.7  1.6]\n",
      " [ 4.8  3.4  1.6  0.2]\n",
      " [ 4.8  3.   1.4  0.3]]\n"
     ]
    }
   ],
   "source": [
    "print 'Обучающая выборка:\\n', train_data[:5]\n",
    "print '\\n'\n",
    "print 'Тестовая выборка:\\n', test_data[:5]"
   ]
  },
  {
   "cell_type": "code",
   "execution_count": 25,
   "metadata": {},
   "outputs": [
    {
     "name": "stdout",
     "output_type": "stream",
     "text": [
      "Метки классов на обучающей выборке:\n",
      "[1 1 0 1 0 1 1 2 2 1 2 0 2 0 0 1 2 0 2 0 0 0 0 0 1 2 1 1 1 1 2 1 2 0 2 2 1\n",
      " 2 2 1 0 1 1 0 0 0 0 0 2 1 1 2 2 0 1 2 0 0 2 2 2 2 2 1 2 1 0 2 1 0 2 2 0 2\n",
      " 0 0 1 0 1 2 0 2 1 1 0 1 1 1 0 0 1 2 1 1 0 1 0 0 0 1 0 1 0 1 1]\n",
      "\n",
      "\n",
      "Метки классов на тестовой выборке:\n",
      "[0 0 1 0 0 1 2 2 2 2 0 0 2 0 2 2 1 2 1 2 1 1 2 2 1 1 2 0 2 2 1 2 1 0 2 0 2\n",
      " 0 2 2 0 1 0 2 1]\n"
     ]
    }
   ],
   "source": [
    "print 'Метки классов на обучающей выборке:\\n', train_labels\n",
    "print '\\n'\n",
    "print 'Метки классов на тестовой выборке:\\n', test_labels"
   ]
  },
  {
   "cell_type": "markdown",
   "metadata": {},
   "source": [
    "### Стратегии проведения кросс-валидации"
   ]
  },
  {
   "cell_type": "markdown",
   "metadata": {},
   "source": [
    "#### KFold"
   ]
  },
  {
   "cell_type": "markdown",
   "metadata": {},
   "source": [
    "При разбиении на K групп, каждая группа участвует в тестировании 1 раз, а в обучении k-1 раз"
   ]
  },
  {
   "cell_type": "code",
   "execution_count": 56,
   "metadata": {},
   "outputs": [
    {
     "name": "stdout",
     "output_type": "stream",
     "text": [
      "[2 3 4 5 6 7 8 9] [0 1]\n",
      "[0 1 4 5 6 7 8 9] [2 3]\n",
      "[0 1 2 3 6 7 8 9] [4 5]\n",
      "[0 1 2 3 4 5 8 9] [6 7]\n",
      "[0 1 2 3 4 5 6 7] [8 9]\n"
     ]
    }
   ],
   "source": [
    "# разбиение 10 объектов на 5 фолдов\n",
    "for train_indices, test_indices in cross_validation.KFold(10, n_folds = 5):\n",
    "    print train_indices, test_indices"
   ]
  },
  {
   "cell_type": "code",
   "execution_count": 57,
   "metadata": {},
   "outputs": [
    {
     "name": "stdout",
     "output_type": "stream",
     "text": [
      "[1 2 3 5 8] [0 4 6 7 9]\n",
      "[0 4 6 7 9] [1 2 3 5 8]\n"
     ]
    }
   ],
   "source": [
    "# Перемешивание обучающей и тестовой выборки: shuffle = True\n",
    "for train_indices, test_indices in cross_validation.KFold(10, n_folds = 2, shuffle = True):\n",
    "    print train_indices, test_indices"
   ]
  },
  {
   "cell_type": "code",
   "execution_count": 62,
   "metadata": {},
   "outputs": [
    {
     "name": "stdout",
     "output_type": "stream",
     "text": [
      "[1 3 5 7 8] [0 2 4 6 9]\n",
      "[0 2 4 6 9] [1 3 5 7 8]\n"
     ]
    }
   ],
   "source": [
    "# Фиксация рандомной выборки (не изменится): random_state = 1\n",
    "for train_indices, test_indices in cross_validation.KFold(10, n_folds = 2, shuffle = True, random_state = 1):\n",
    "    print train_indices, test_indices"
   ]
  },
  {
   "cell_type": "markdown",
   "metadata": {},
   "source": [
    "#### StratifiedKFold \n",
    "схожа с предыдущей, но сохраняет соотношение классов поровну (Стратификация)"
   ]
  },
  {
   "cell_type": "code",
   "execution_count": 84,
   "metadata": {},
   "outputs": [
    {
     "name": "stdout",
     "output_type": "stream",
     "text": [
      "[0 0 0 0 0 1 1 1 1 1]\n",
      "[3 4 8 9] [0 1 2 5 6 7]\n",
      "[0 1 2 5 6 7] [3 4 8 9]\n"
     ]
    }
   ],
   "source": [
    "# создание массива меток бинарной классификации (классы 0 и 1)\n",
    "# пусть элементы 0-4 это класс Ноль, а элементы 5-9 это класс Один\n",
    "target = np.array([0] * 5 + [1] * 5)\n",
    "print target\n",
    "for train_indices, test_indices in cross_validation.StratifiedKFold(target, n_folds = 2, shuffle = True, random_state = 0):\n",
    "    print train_indices, test_indices\n",
    "# элементы массива меток с индексами 3,4 имеют метку 0, а 8 и 9 метку 1 (т.е. соотношение классов 50/50)"
   ]
  },
  {
   "cell_type": "code",
   "execution_count": 85,
   "metadata": {},
   "outputs": [
    {
     "name": "stdout",
     "output_type": "stream",
     "text": [
      "[0 1 0 1 0 1 0 1 0 1]\n",
      "[1 2 3 4] [0 5 6 7 8 9]\n",
      "[0 5 6 7 8 9] [1 2 3 4]\n"
     ]
    }
   ],
   "source": [
    "# изменим массив меток, пусть четные элементы это класс Ноль, а нечетные элементы это класс Один\n",
    "target = np.array([0, 1] * 5)\n",
    "print target\n",
    "for train_indices, test_indices in cross_validation.StratifiedKFold(target, n_folds = 2,shuffle = True):\n",
    "    print train_indices, test_indices"
   ]
  },
  {
   "cell_type": "markdown",
   "metadata": {},
   "source": [
    "#### ShuffleSplit\n",
    "построение случайных перестановок: (количество объектов, сколько итераций, размер тестовой выборки)\n",
    "- при этом объект может попасть несколько раз в тестовую или в обучающую выборку за несколько итераций"
   ]
  },
  {
   "cell_type": "code",
   "execution_count": 86,
   "metadata": {},
   "outputs": [
    {
     "name": "stdout",
     "output_type": "stream",
     "text": [
      "[1 6 0 8 4 2 3 7] [5 9]\n",
      "[2 4 9 3 8 5 7 6] [0 1]\n",
      "[9 0 5 1 8 7 6 4] [3 2]\n",
      "[7 5 0 4 2 1 9 6] [8 3]\n",
      "[2 7 9 3 1 5 4 0] [8 6]\n",
      "[3 4 0 6 9 5 1 2] [7 8]\n",
      "[0 8 6 3 7 2 9 1] [4 5]\n",
      "[8 0 3 9 6 4 1 2] [5 7]\n",
      "[7 0 4 8 2 3 6 9] [5 1]\n",
      "[9 1 6 2 0 8 4 7] [5 3]\n"
     ]
    }
   ],
   "source": [
    "# 10 объектов: 0,1,2,..,9\n",
    "for train_indices, test_indices in cross_validation.ShuffleSplit(10, n_iter = 10, test_size = 0.2):\n",
    "    print train_indices, test_indices"
   ]
  },
  {
   "cell_type": "markdown",
   "metadata": {},
   "source": [
    "#### StratifiedShuffleSplit\n",
    "сохраним соотношение классов предыдущего метода посредством Стратификации"
   ]
  },
  {
   "cell_type": "code",
   "execution_count": 87,
   "metadata": {},
   "outputs": [
    {
     "name": "stdout",
     "output_type": "stream",
     "text": [
      "[0 0 0 0 0 1 1 1 1 1]\n",
      "[4 7 8 6 1 0 3 9] [2 5]\n",
      "[4 3 0 9 2 8 5 6] [1 7]\n",
      "[8 2 1 5 3 6 7 0] [9 4]\n",
      "[8 2 7 4 6 1 3 5] [9 0]\n"
     ]
    }
   ],
   "source": [
    "# пусть элементы 0-4 это класс Ноль, а элементы 5-9 это класс Один\n",
    "target = np.array([0] * 5 + [1] * 5)\n",
    "print target\n",
    "for train_indices, test_indices in cross_validation.StratifiedShuffleSplit(target, n_iter = 4, test_size = 0.2):\n",
    "    print train_indices, test_indices"
   ]
  },
  {
   "cell_type": "markdown",
   "metadata": {},
   "source": [
    "#### Leave-One-Out\n",
    "Объект присутствует только один раз в тесте, а сама тестовая выборка состоит только из одного объекта\n",
    "- Очень удобна при тестировании небольшой выборки данных"
   ]
  },
  {
   "cell_type": "code",
   "execution_count": 89,
   "metadata": {},
   "outputs": [
    {
     "name": "stdout",
     "output_type": "stream",
     "text": [
      "[1 2 3 4 5 6 7 8 9] [0]\n",
      "[0 2 3 4 5 6 7 8 9] [1]\n",
      "[0 1 3 4 5 6 7 8 9] [2]\n",
      "[0 1 2 4 5 6 7 8 9] [3]\n",
      "[0 1 2 3 5 6 7 8 9] [4]\n",
      "[0 1 2 3 4 6 7 8 9] [5]\n",
      "[0 1 2 3 4 5 7 8 9] [6]\n",
      "[0 1 2 3 4 5 6 8 9] [7]\n",
      "[0 1 2 3 4 5 6 7 9] [8]\n",
      "[0 1 2 3 4 5 6 7 8] [9]\n"
     ]
    }
   ],
   "source": [
    "for train_indices, test_index in cross_validation.LeaveOneOut(10):\n",
    "    print train_indices, test_index"
   ]
  },
  {
   "cell_type": "markdown",
   "metadata": {},
   "source": [
    "Больше стратегий проведения кросс-валидации доступно здесь: http://scikit-learn.org/stable/modules/cross_validation.html#cross-validation-iterators"
   ]
  }
 ],
 "metadata": {
  "kernelspec": {
   "display_name": "Python 2",
   "language": "python",
   "name": "python2"
  },
  "language_info": {
   "codemirror_mode": {
    "name": "ipython",
    "version": 2
   },
   "file_extension": ".py",
   "mimetype": "text/x-python",
   "name": "python",
   "nbconvert_exporter": "python",
   "pygments_lexer": "ipython2",
   "version": "2.7.13"
  }
 },
 "nbformat": 4,
 "nbformat_minor": 1
}
