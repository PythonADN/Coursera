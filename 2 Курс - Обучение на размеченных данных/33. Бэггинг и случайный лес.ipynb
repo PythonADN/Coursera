{
 "cells": [
  {
   "cell_type": "markdown",
   "metadata": {},
   "source": [
    "# Бэггинг и случайный лес"
   ]
  },
  {
   "cell_type": "code",
   "execution_count": 146,
   "metadata": {
    "collapsed": true
   },
   "outputs": [],
   "source": [
    "from sklearn import datasets, tree, cross_validation, ensemble\n",
    "import numpy as np"
   ]
  },
  {
   "cell_type": "code",
   "execution_count": 12,
   "metadata": {
    "collapsed": true
   },
   "outputs": [],
   "source": [
    "# генерируем датасет\n",
    "digits = datasets.load_digits()"
   ]
  },
  {
   "cell_type": "code",
   "execution_count": 13,
   "metadata": {},
   "outputs": [],
   "source": [
    "# разбивка данных на признаки и целевые метки\n",
    "data = digits.data\n",
    "target = digits.target"
   ]
  },
  {
   "cell_type": "markdown",
   "metadata": {},
   "source": [
    "### 1. Решающее дерево"
   ]
  },
  {
   "cell_type": "code",
   "execution_count": 52,
   "metadata": {},
   "outputs": [],
   "source": [
    "# строим модель Решающее Дерево с настройками по умолчанию\n",
    "DT_classifier = tree.DecisionTreeClassifier() "
   ]
  },
  {
   "cell_type": "code",
   "execution_count": 15,
   "metadata": {},
   "outputs": [],
   "source": [
    "# оценм качество леса на наших данных посредством кросс-валидации\n",
    "scoring  = cross_validation.cross_val_score(DT_classifier, data, target, cv = 10)"
   ]
  },
  {
   "cell_type": "code",
   "execution_count": 16,
   "metadata": {},
   "outputs": [
    {
     "data": {
      "text/plain": [
       "array([ 0.78918919,  0.85245902,  0.83977901,  0.83333333,  0.78212291,\n",
       "        0.88826816,  0.88268156,  0.8258427 ,  0.85310734,  0.81818182])"
      ]
     },
     "execution_count": 16,
     "metadata": {},
     "output_type": "execute_result"
    }
   ],
   "source": [
    "scoring"
   ]
  },
  {
   "cell_type": "code",
   "execution_count": 17,
   "metadata": {},
   "outputs": [
    {
     "name": "stdout",
     "output_type": "stream",
     "text": [
      "Среднее качество модели: 0.836496502958,    Отклонение: 0.0331787095981\n"
     ]
    }
   ],
   "source": [
    "print 'Среднее качество модели: {},    Отклонение: {}'.format(scoring.mean(), scoring.std())"
   ]
  },
  {
   "cell_type": "code",
   "execution_count": 18,
   "metadata": {
    "collapsed": true
   },
   "outputs": [],
   "source": [
    "# запишем первый ответ (качество решающего дерева) в файл\n",
    "with open(\"answer_1.txt\", \"w\") as F:\n",
    "    F.write(str(scoring.mean()))"
   ]
  },
  {
   "cell_type": "markdown",
   "metadata": {},
   "source": [
    "### 2. Беггинг"
   ]
  },
  {
   "cell_type": "code",
   "execution_count": 22,
   "metadata": {},
   "outputs": [],
   "source": [
    "# строим модель Беггинг с 50 деревьями по модели DT_classifier, остальные настройки по умолчанию\n",
    "B_classifier = ensemble.BaggingClassifier(DT_classifier, n_estimators = 50)"
   ]
  },
  {
   "cell_type": "code",
   "execution_count": 24,
   "metadata": {},
   "outputs": [],
   "source": [
    "# оценм качество Беггинга на наших данных посредством кросс-валидации\n",
    "scoring  = cross_validation.cross_val_score(B_classifier, data, target, cv = 10)"
   ]
  },
  {
   "cell_type": "code",
   "execution_count": 25,
   "metadata": {},
   "outputs": [
    {
     "data": {
      "text/plain": [
       "array([ 0.87567568,  0.95081967,  0.92265193,  0.95      ,  0.91620112,\n",
       "        0.98882682,  0.94972067,  0.91573034,  0.87570621,  0.90340909])"
      ]
     },
     "execution_count": 25,
     "metadata": {},
     "output_type": "execute_result"
    }
   ],
   "source": [
    "scoring"
   ]
  },
  {
   "cell_type": "code",
   "execution_count": 26,
   "metadata": {
    "scrolled": true
   },
   "outputs": [
    {
     "name": "stdout",
     "output_type": "stream",
     "text": [
      "Среднее качество модели: 0.924874152754,    Отклонение: 0.0338736845227\n"
     ]
    }
   ],
   "source": [
    "print 'Среднее качество модели: {},    Отклонение: {}'.format(scoring.mean(), scoring.std())"
   ]
  },
  {
   "cell_type": "code",
   "execution_count": 27,
   "metadata": {
    "collapsed": true
   },
   "outputs": [],
   "source": [
    "# запишем второй ответ (качество Беггинга) в файл\n",
    "with open(\"answer_2.txt\", \"w\") as F:\n",
    "    F.write(str(scoring.mean()))"
   ]
  },
  {
   "cell_type": "markdown",
   "metadata": {},
   "source": [
    "### 3. Беггинг c количеством случаных признаков для каждого дерева = √d"
   ]
  },
  {
   "cell_type": "code",
   "execution_count": 85,
   "metadata": {},
   "outputs": [],
   "source": [
    "# находим процентное отношение корня признаков ко всем признакам\n",
    "sqrt_d = np.sqrt(data[0].size) / data[0].size\n",
    "\n",
    "# строим модель Беггинг для решающего дерева с количеством признаков равным корню из всех признаков\n",
    "B_classifier = ensemble.BaggingClassifier(DT_classifier, n_estimators = 50, max_features = sqrt_d)"
   ]
  },
  {
   "cell_type": "code",
   "execution_count": 86,
   "metadata": {},
   "outputs": [],
   "source": [
    "# оценм качество Беггинга на наших данных посредством кросс-валидации\n",
    "scoring  = cross_validation.cross_val_score(B_classifier, data, target, cv = 10)"
   ]
  },
  {
   "cell_type": "code",
   "execution_count": 87,
   "metadata": {},
   "outputs": [
    {
     "data": {
      "text/plain": [
       "array([ 0.8972973 ,  0.95081967,  0.92265193,  0.9       ,  0.91620112,\n",
       "        0.91620112,  0.93854749,  0.97752809,  0.89265537,  0.91477273])"
      ]
     },
     "execution_count": 87,
     "metadata": {},
     "output_type": "execute_result"
    }
   ],
   "source": [
    "scoring"
   ]
  },
  {
   "cell_type": "code",
   "execution_count": 88,
   "metadata": {},
   "outputs": [
    {
     "name": "stdout",
     "output_type": "stream",
     "text": [
      "Среднее качество модели: 0.922667480819,    Отклонение: 0.0250170937928\n"
     ]
    }
   ],
   "source": [
    "print 'Среднее качество модели: {},    Отклонение: {}'.format(scoring.mean(), scoring.std())"
   ]
  },
  {
   "cell_type": "code",
   "execution_count": 89,
   "metadata": {
    "collapsed": true
   },
   "outputs": [],
   "source": [
    "# запишем третий ответ (качество Беггинга 2) в файл\n",
    "with open(\"answer_3.txt\", \"w\") as F:\n",
    "    F.write(str(scoring.mean()))"
   ]
  },
  {
   "cell_type": "markdown",
   "metadata": {},
   "source": [
    "### 4. Беггинг c количеством случаных признаков для каждой вершины каждого дерева = √d \n",
    "На самом деле данный алгоритм в точности повторит Случайный Лес"
   ]
  },
  {
   "cell_type": "code",
   "execution_count": 47,
   "metadata": {},
   "outputs": [],
   "source": [
    "# строим модель Решающее Дерево с количеством признаков для каждой вершины равным корню из всех признаков\n",
    "DT_classifier = tree.DecisionTreeClassifier(max_features = \"sqrt\")\n",
    "\n",
    "# строим модель Беггинг для данного решающего дерева\n",
    "B_classifier = ensemble.BaggingClassifier(DT_classifier, n_estimators = 50)"
   ]
  },
  {
   "cell_type": "code",
   "execution_count": 48,
   "metadata": {},
   "outputs": [],
   "source": [
    "# оценм качество Беггинга на наших данных посредством кросс-валидации\n",
    "scoring  = cross_validation.cross_val_score(B_classifier, data, target, cv = 10)"
   ]
  },
  {
   "cell_type": "code",
   "execution_count": 49,
   "metadata": {},
   "outputs": [
    {
     "data": {
      "text/plain": [
       "array([ 0.92432432,  0.97814208,  0.9281768 ,  0.96111111,  0.94972067,\n",
       "        0.97206704,  0.98324022,  0.96629213,  0.93220339,  0.94318182])"
      ]
     },
     "execution_count": 49,
     "metadata": {},
     "output_type": "execute_result"
    }
   ],
   "source": [
    "scoring"
   ]
  },
  {
   "cell_type": "code",
   "execution_count": 50,
   "metadata": {},
   "outputs": [
    {
     "name": "stdout",
     "output_type": "stream",
     "text": [
      "Среднее качество модели: 0.953845958332,    Отклонение: 0.0203066421835\n"
     ]
    }
   ],
   "source": [
    "print 'Среднее качество модели: {},    Отклонение: {}'.format(scoring.mean(), scoring.std())"
   ]
  },
  {
   "cell_type": "code",
   "execution_count": 51,
   "metadata": {
    "collapsed": true
   },
   "outputs": [],
   "source": [
    "# запишем четвертый ответ (качество Беггинга 3) в файл\n",
    "with open(\"answer_4.txt\", \"w\") as F:\n",
    "    F.write(str(scoring.mean()))"
   ]
  },
  {
   "cell_type": "markdown",
   "metadata": {},
   "source": [
    "### 5. Построение случайного леса и ответы на вопросы"
   ]
  },
  {
   "cell_type": "code",
   "execution_count": 145,
   "metadata": {},
   "outputs": [
    {
     "name": "stdout",
     "output_type": "stream",
     "text": [
      "Среднее качество модели: 0.95391188317,    Отклонение: 0.0240434532513\n"
     ]
    }
   ],
   "source": [
    "# строим случайный лес из 50 деревьев\n",
    "RF_classifier = ensemble.RandomForestClassifier(n_estimators = 50, max_features = \"sqrt\")\n",
    "# оценм качество Случайного Леса на наших данных посредством кросс-валидации\n",
    "scoring  = cross_validation.cross_val_score(RF_classifier, data, target, cv = 10)\n",
    "print 'Среднее качество модели: {},    Отклонение: {}'.format(scoring.mean(), scoring.std())"
   ]
  },
  {
   "cell_type": "markdown",
   "metadata": {},
   "source": [
    "1) Случайный лес сильно переобучается с ростом количества деревьев \n",
    "- Нет\n",
    "\n",
    "2) При очень маленьком числе деревьев (5, 10, 15), случайный лес работает хуже, чем при большем числе деревьев\n",
    "- Да\n",
    "\n",
    "3) С ростом количества деревьев в случайном лесе, в какой-то момент деревьев становится достаточно для высокого качества классификации, а затем качество существенно не меняется.\n",
    "- Да\n",
    "\n",
    "4) При большом количестве признаков (для данного датасета - 40, 50) качество классификации становится хуже, чем при малом количестве признаков (5, 10). Это связано с тем, что чем меньше признаков выбирается в каждом узле, тем более различными получаются деревья (ведь деревья сильно неустойчивы к изменениям в обучающей выборке), и тем лучше работает их композиция.\n",
    "- Да\n",
    "\n",
    "5) При большом количестве признаков (40, 50, 60) качество классификации лучше, чем при малом количестве признаков (5, 10). Это связано с тем, что чем больше признаков - тем больше информации об объектах, а значит алгоритм может делать прогнозы более точно.\n",
    "- Нет\n",
    "\n",
    "6) При небольшой максимальной глубине деревьев (5-6) качество работы случайного леса намного лучше, чем без ограничения глубины, т.к. деревья получаются не переобученными. С ростом глубины деревьев качество ухудшается.\n",
    "- Нет\n",
    "\n",
    "7) При небольшой максимальной глубине деревьев (5-6) качество работы случайного леса заметно хуже, чем без ограничений, т.к. деревья получаются недообученными. С ростом глубины качество сначала улучшается, а затем не меняется существенно, т.к. из-за усреднения прогнозов и различий деревьев их переобученность в бэггинге не сказывается на итоговом качестве (все деревья преобучены по-разному, и при усреднении они компенсируют переобученность друг-друга).\n",
    "- Да"
   ]
  },
  {
   "cell_type": "code",
   "execution_count": 139,
   "metadata": {
    "collapsed": true
   },
   "outputs": [],
   "source": [
    "# запишем пятый ответ в файл\n",
    "with open(\"answer_5.txt\", \"w\") as F:\n",
    "    F.write(\"2 3 4 7\")"
   ]
  }
 ],
 "metadata": {
  "kernelspec": {
   "display_name": "Python 2",
   "language": "python",
   "name": "python2"
  },
  "language_info": {
   "codemirror_mode": {
    "name": "ipython",
    "version": 2
   },
   "file_extension": ".py",
   "mimetype": "text/x-python",
   "name": "python",
   "nbconvert_exporter": "python",
   "pygments_lexer": "ipython2",
   "version": "2.7.13"
  }
 },
 "nbformat": 4,
 "nbformat_minor": 2
}
