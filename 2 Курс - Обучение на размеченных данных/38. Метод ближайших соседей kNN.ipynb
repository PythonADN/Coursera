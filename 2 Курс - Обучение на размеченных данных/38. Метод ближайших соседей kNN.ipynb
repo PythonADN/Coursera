{
 "cells": [
  {
   "cell_type": "code",
   "execution_count": 6,
   "metadata": {},
   "outputs": [],
   "source": [
    "from sklearn import datasets, cross_validation, metrics, neighbors, ensemble\n",
    "import scipy"
   ]
  },
  {
   "cell_type": "code",
   "execution_count": 7,
   "metadata": {
    "collapsed": true
   },
   "outputs": [],
   "source": [
    "# Загрузим данные\n",
    "digits = datasets.load_digits() # датасет digits"
   ]
  },
  {
   "cell_type": "code",
   "execution_count": 8,
   "metadata": {
    "collapsed": true
   },
   "outputs": [],
   "source": [
    "# Разбивка выборки\n",
    "X_train = digits.data[:1348, :]\n",
    "y_train = digits.target[:1348]\n",
    "X_test = digits.data[1348:, :]\n",
    "y_test = digits.target[1348:]"
   ]
  },
  {
   "cell_type": "markdown",
   "metadata": {},
   "source": [
    "### Метод ближайших соседей - KNeighborsClassifier"
   ]
  },
  {
   "cell_type": "code",
   "execution_count": 9,
   "metadata": {},
   "outputs": [
    {
     "name": "stdout",
     "output_type": "stream",
     "text": [
      "0.0378619153675\n"
     ]
    }
   ],
   "source": [
    "# Веса это расстояние - distance\n",
    "clf = neighbors.KNeighborsClassifier(n_neighbors=1, weights='distance')\n",
    "clf.fit(X_train, y_train)\n",
    "\n",
    "predictions = clf.predict(X_test)\n",
    "M1 = metrics.zero_one_loss(y_test, predictions) # оцениваем митрику Доли Ошибок\n",
    "\n",
    "print M1"
   ]
  },
  {
   "cell_type": "code",
   "execution_count": 10,
   "metadata": {},
   "outputs": [
    {
     "name": "stdout",
     "output_type": "stream",
     "text": [
      "0.0378619153675\n"
     ]
    }
   ],
   "source": [
    "# Веса однородны - uniform (ищем просто самый ближайший объект)\n",
    "clf = neighbors.KNeighborsClassifier(n_neighbors=1, weights='uniform')\n",
    "clf.fit(X_train, y_train)\n",
    "\n",
    "predictions = clf.predict(X_test)\n",
    "M1 = metrics.zero_one_loss(y_test, predictions) # оцениваем митрику Доли Ошибок\n",
    "\n",
    "print M1"
   ]
  },
  {
   "cell_type": "code",
   "execution_count": 11,
   "metadata": {},
   "outputs": [
    {
     "name": "stdout",
     "output_type": "stream",
     "text": [
      "0.0378619153675\n"
     ]
    }
   ],
   "source": [
    "# запишем перый ответ в файл\n",
    "with open(\"answer_1.txt\", \"w\") as F:\n",
    "    F.write(str(M1))\n",
    "\n",
    "print M1"
   ]
  },
  {
   "cell_type": "markdown",
   "metadata": {},
   "source": [
    "### Случайный лес"
   ]
  },
  {
   "cell_type": "code",
   "execution_count": 12,
   "metadata": {
    "collapsed": true
   },
   "outputs": [],
   "source": [
    "# строим случайный лес из 50 деревьев с максимальной глубиной каждого дерева = 2\n",
    "clf = ensemble.RandomForestClassifier(n_estimators = 1000, random_state = 1)\n",
    "clf.fit(X_train, y_train) # обучаем модель на обучающей выборке\n",
    "\n",
    "predictions = clf.predict(X_test) # получаем прогнозные значения\n",
    "M2 = metrics.zero_one_loss (y_test, predictions) # оцениваем митрику Доли Ошибок посредством тестововй выборки"
   ]
  },
  {
   "cell_type": "code",
   "execution_count": 13,
   "metadata": {},
   "outputs": [
    {
     "name": "stdout",
     "output_type": "stream",
     "text": [
      "0.0712694877506\n"
     ]
    }
   ],
   "source": [
    "# запишем второй ответ в файл\n",
    "with open(\"answer_2.txt\", \"w\") as F:\n",
    "    F.write(str(M2))\n",
    "\n",
    "print M2"
   ]
  },
  {
   "cell_type": "markdown",
   "metadata": {},
   "source": [
    "### Ручная постановка Ближайшего соседа 1NN"
   ]
  },
  {
   "cell_type": "code",
   "execution_count": 14,
   "metadata": {},
   "outputs": [],
   "source": [
    "# функция нахождения Евклидова расстояния между векторами\n",
    "def euclidian_distance(a,b):\n",
    "    return sum( map(lambda x1,x2: (x1-x2)**2, a,b) )*0.5"
   ]
  },
  {
   "cell_type": "code",
   "execution_count": 71,
   "metadata": {},
   "outputs": [],
   "source": [
    "answers = []\n",
    "\n",
    "for i in range(X_test.shape[0]): # внещний цикл по объектам тестовой выборки\n",
    "    predictions = []\n",
    "    for j in range(X_train.shape[0]): # для каждого тестового объекта будем определять дистанцию по объектам обучения\n",
    "        d = []\n",
    "        dist = euclidian_distance(X_test[i], X_train[j]) # находим дистанцию\n",
    "        d.append(dist) # записываем дистанцию как первый элемент\n",
    "        d.append(y_train[j]) # записываем целевую метку обучения как второй элемент\n",
    "        predictions.append(d) # сохраняем данный вектор\n",
    "    predictions.sort() # сортируем вектор по первому элементу (по минимальной дистанции)\n",
    "    answers.append(predictions[0][1]) # записываем прогноз (класс) для i-го объекта"
   ]
  },
  {
   "cell_type": "code",
   "execution_count": 72,
   "metadata": {},
   "outputs": [
    {
     "data": {
      "text/plain": [
       "0.03786191536748329"
      ]
     },
     "execution_count": 72,
     "metadata": {},
     "output_type": "execute_result"
    }
   ],
   "source": [
    "metrics.zero_one_loss (y_test, answers)"
   ]
  }
 ],
 "metadata": {
  "kernelspec": {
   "display_name": "Python 2",
   "language": "python",
   "name": "python2"
  }
 },
 "nbformat": 4,
 "nbformat_minor": 2
}
