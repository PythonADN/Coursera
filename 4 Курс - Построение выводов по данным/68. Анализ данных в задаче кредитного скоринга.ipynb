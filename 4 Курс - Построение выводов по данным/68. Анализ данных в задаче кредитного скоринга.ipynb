{
 "cells": [
  {
   "cell_type": "markdown",
   "metadata": {},
   "source": [
    "# Анализ данных в задаче кредитного скоринга"
   ]
  },
  {
   "cell_type": "code",
   "execution_count": 1,
   "metadata": {
    "collapsed": true
   },
   "outputs": [],
   "source": [
    "import numpy as np\n",
    "import pandas as pd\n",
    "\n",
    "import scipy\n",
    "from statsmodels.stats.weightstats import *\n",
    "from statsmodels.stats.proportion import proportion_confint"
   ]
  },
  {
   "cell_type": "code",
   "execution_count": 2,
   "metadata": {},
   "outputs": [
    {
     "name": "stdout",
     "output_type": "stream",
     "text": [
      "Populating the interactive namespace from numpy and matplotlib\n"
     ]
    }
   ],
   "source": [
    "%pylab inline"
   ]
  },
  {
   "cell_type": "code",
   "execution_count": 3,
   "metadata": {
    "collapsed": true
   },
   "outputs": [],
   "source": [
    "data = pd.read_csv('credit_card_default_analysis.csv')"
   ]
  },
  {
   "cell_type": "markdown",
   "metadata": {},
   "source": [
    "* LIMIT_BAL: размер кредитного лимита (в том числе и на семью клиента)\n",
    "* SEX: пол клиента (1 = мужской, 2 = женский )\n",
    "* EDUCATION: образование (0 = доктор, 1 = магистр; 2 = бакалавр; 3 = выпускник школы; 4 = начальное образование; 5= прочее; 6 = нет данных ).\n",
    "* MARRIAGE: (0 = отказываюсь отвечать; 1 = замужем/женат; 2 = холост; 3 = нет данных).\n",
    "* AGE: возраст в годах\n",
    "* PAY_0 - PAY_6 : История прошлых платежей по кредиту. PAY_6 - платеж в апреле, ... Pay_0 - платеж в сентябре. Платеж = (0 = исправный платеж, 1=задержка в один месяц, 2=задержка в 2 месяца ...)\n",
    "* BILL_AMT1 - BILL_AMT6: задолженность, BILL_AMT6 - на апрель, BILL_AMT1 - на сентябрь\n",
    "* PAY_AMT1 - PAY_AMT6: сумма уплаченная в PAY_AMT6 - апреле, ..., PAY_AMT1 - сентябре\n",
    "* default - индикатор невозврата денежных средств"
   ]
  },
  {
   "cell_type": "code",
   "execution_count": 4,
   "metadata": {},
   "outputs": [
    {
     "data": {
      "text/plain": [
       "0    23364\n",
       "1     6636\n",
       "Name: default, dtype: int64"
      ]
     },
     "execution_count": 4,
     "metadata": {},
     "output_type": "execute_result"
    }
   ],
   "source": [
    "data.default.value_counts() # соотношение возврата (0) и невозварата (1) долга"
   ]
  },
  {
   "cell_type": "code",
   "execution_count": 5,
   "metadata": {
    "collapsed": true
   },
   "outputs": [],
   "source": [
    "# разделим выборку по возврату долга\n",
    "credit_return = data[data.default == 0] # возврат\n",
    "credit_default = data[data.default == 1] # невозврат"
   ]
  },
  {
   "cell_type": "code",
   "execution_count": 6,
   "metadata": {},
   "outputs": [
    {
     "data": {
      "text/html": [
       "<div>\n",
       "<style>\n",
       "    .dataframe thead tr:only-child th {\n",
       "        text-align: right;\n",
       "    }\n",
       "\n",
       "    .dataframe thead th {\n",
       "        text-align: left;\n",
       "    }\n",
       "\n",
       "    .dataframe tbody tr th {\n",
       "        vertical-align: top;\n",
       "    }\n",
       "</style>\n",
       "<table border=\"1\" class=\"dataframe\">\n",
       "  <thead>\n",
       "    <tr style=\"text-align: right;\">\n",
       "      <th></th>\n",
       "      <th>ID</th>\n",
       "      <th>LIMIT_BAL</th>\n",
       "      <th>SEX</th>\n",
       "      <th>EDUCATION</th>\n",
       "      <th>MARRIAGE</th>\n",
       "      <th>AGE</th>\n",
       "      <th>PAY_0</th>\n",
       "      <th>PAY_2</th>\n",
       "      <th>PAY_3</th>\n",
       "      <th>PAY_4</th>\n",
       "      <th>...</th>\n",
       "      <th>BILL_AMT4</th>\n",
       "      <th>BILL_AMT5</th>\n",
       "      <th>BILL_AMT6</th>\n",
       "      <th>PAY_AMT1</th>\n",
       "      <th>PAY_AMT2</th>\n",
       "      <th>PAY_AMT3</th>\n",
       "      <th>PAY_AMT4</th>\n",
       "      <th>PAY_AMT5</th>\n",
       "      <th>PAY_AMT6</th>\n",
       "      <th>default</th>\n",
       "    </tr>\n",
       "  </thead>\n",
       "  <tbody>\n",
       "    <tr>\n",
       "      <th>0</th>\n",
       "      <td>1</td>\n",
       "      <td>20000</td>\n",
       "      <td>2</td>\n",
       "      <td>2</td>\n",
       "      <td>1</td>\n",
       "      <td>24</td>\n",
       "      <td>2</td>\n",
       "      <td>2</td>\n",
       "      <td>0</td>\n",
       "      <td>0</td>\n",
       "      <td>...</td>\n",
       "      <td>0</td>\n",
       "      <td>0</td>\n",
       "      <td>0</td>\n",
       "      <td>0</td>\n",
       "      <td>689</td>\n",
       "      <td>0</td>\n",
       "      <td>0</td>\n",
       "      <td>0</td>\n",
       "      <td>0</td>\n",
       "      <td>1</td>\n",
       "    </tr>\n",
       "    <tr>\n",
       "      <th>1</th>\n",
       "      <td>2</td>\n",
       "      <td>120000</td>\n",
       "      <td>2</td>\n",
       "      <td>2</td>\n",
       "      <td>2</td>\n",
       "      <td>26</td>\n",
       "      <td>0</td>\n",
       "      <td>2</td>\n",
       "      <td>0</td>\n",
       "      <td>0</td>\n",
       "      <td>...</td>\n",
       "      <td>3272</td>\n",
       "      <td>3455</td>\n",
       "      <td>3261</td>\n",
       "      <td>0</td>\n",
       "      <td>1000</td>\n",
       "      <td>1000</td>\n",
       "      <td>1000</td>\n",
       "      <td>0</td>\n",
       "      <td>2000</td>\n",
       "      <td>1</td>\n",
       "    </tr>\n",
       "    <tr>\n",
       "      <th>2</th>\n",
       "      <td>3</td>\n",
       "      <td>90000</td>\n",
       "      <td>2</td>\n",
       "      <td>2</td>\n",
       "      <td>2</td>\n",
       "      <td>34</td>\n",
       "      <td>0</td>\n",
       "      <td>0</td>\n",
       "      <td>0</td>\n",
       "      <td>0</td>\n",
       "      <td>...</td>\n",
       "      <td>14331</td>\n",
       "      <td>14948</td>\n",
       "      <td>15549</td>\n",
       "      <td>1518</td>\n",
       "      <td>1500</td>\n",
       "      <td>1000</td>\n",
       "      <td>1000</td>\n",
       "      <td>1000</td>\n",
       "      <td>5000</td>\n",
       "      <td>0</td>\n",
       "    </tr>\n",
       "    <tr>\n",
       "      <th>3</th>\n",
       "      <td>4</td>\n",
       "      <td>50000</td>\n",
       "      <td>2</td>\n",
       "      <td>2</td>\n",
       "      <td>1</td>\n",
       "      <td>37</td>\n",
       "      <td>0</td>\n",
       "      <td>0</td>\n",
       "      <td>0</td>\n",
       "      <td>0</td>\n",
       "      <td>...</td>\n",
       "      <td>28314</td>\n",
       "      <td>28959</td>\n",
       "      <td>29547</td>\n",
       "      <td>2000</td>\n",
       "      <td>2019</td>\n",
       "      <td>1200</td>\n",
       "      <td>1100</td>\n",
       "      <td>1069</td>\n",
       "      <td>1000</td>\n",
       "      <td>0</td>\n",
       "    </tr>\n",
       "    <tr>\n",
       "      <th>4</th>\n",
       "      <td>5</td>\n",
       "      <td>50000</td>\n",
       "      <td>1</td>\n",
       "      <td>2</td>\n",
       "      <td>1</td>\n",
       "      <td>57</td>\n",
       "      <td>0</td>\n",
       "      <td>0</td>\n",
       "      <td>0</td>\n",
       "      <td>0</td>\n",
       "      <td>...</td>\n",
       "      <td>20940</td>\n",
       "      <td>19146</td>\n",
       "      <td>19131</td>\n",
       "      <td>2000</td>\n",
       "      <td>36681</td>\n",
       "      <td>10000</td>\n",
       "      <td>9000</td>\n",
       "      <td>689</td>\n",
       "      <td>679</td>\n",
       "      <td>0</td>\n",
       "    </tr>\n",
       "  </tbody>\n",
       "</table>\n",
       "<p>5 rows × 25 columns</p>\n",
       "</div>"
      ],
      "text/plain": [
       "   ID  LIMIT_BAL  SEX  EDUCATION  MARRIAGE  AGE  PAY_0  PAY_2  PAY_3  PAY_4  \\\n",
       "0   1      20000    2          2         1   24      2      2      0      0   \n",
       "1   2     120000    2          2         2   26      0      2      0      0   \n",
       "2   3      90000    2          2         2   34      0      0      0      0   \n",
       "3   4      50000    2          2         1   37      0      0      0      0   \n",
       "4   5      50000    1          2         1   57      0      0      0      0   \n",
       "\n",
       "    ...     BILL_AMT4  BILL_AMT5  BILL_AMT6  PAY_AMT1  PAY_AMT2  PAY_AMT3  \\\n",
       "0   ...             0          0          0         0       689         0   \n",
       "1   ...          3272       3455       3261         0      1000      1000   \n",
       "2   ...         14331      14948      15549      1518      1500      1000   \n",
       "3   ...         28314      28959      29547      2000      2019      1200   \n",
       "4   ...         20940      19146      19131      2000     36681     10000   \n",
       "\n",
       "   PAY_AMT4  PAY_AMT5  PAY_AMT6  default  \n",
       "0         0         0         0        1  \n",
       "1      1000         0      2000        1  \n",
       "2      1000      1000      5000        0  \n",
       "3      1100      1069      1000        0  \n",
       "4      9000       689       679        0  \n",
       "\n",
       "[5 rows x 25 columns]"
      ]
     },
     "execution_count": 6,
     "metadata": {},
     "output_type": "execute_result"
    }
   ],
   "source": [
    "data.head()"
   ]
  },
  {
   "cell_type": "markdown",
   "metadata": {
    "collapsed": true
   },
   "source": [
    "### Задание 1\n",
    "Размер кредитного лимита (LIMIT_BAL). В двух группах, тех людей, кто вернул кредит (default = 0) и тех, кто его не вернул (default = 1) проверьте гипотезы:\n",
    "- a) о равенстве медианных значений кредитного лимита с помощью подходящей интервальной оценки\n",
    "- b) о равенстве распределений с помощью одного из подходящих непараметрических критериев проверки равенства средних.\n",
    "\n",
    "Значимы ли полученные результаты с практической точки зрения ?"
   ]
  },
  {
   "cell_type": "markdown",
   "metadata": {},
   "source": [
    "**a)** Построим гистограммы для определения критериев значимости (нормальные -> параметрические, скошенные -> непараметрические)"
   ]
  },
  {
   "cell_type": "code",
   "execution_count": 7,
   "metadata": {},
   "outputs": [
    {
     "data": {
      "text/plain": [
       "<matplotlib.legend.Legend at 0x9e6b470>"
      ]
     },
     "execution_count": 7,
     "metadata": {},
     "output_type": "execute_result"
    },
    {
     "data": {
      "image/png": "[encoded data removed]",
      "text/plain": [
       "<matplotlib.figure.Figure at 0x9ae0f70>"
      ]
     },
     "metadata": {},
     "output_type": "display_data"
    }
   ],
   "source": [
    "plt.figure(figsize(16,5))\n",
    "\n",
    "plt.subplot(121)\n",
    "credit_return['LIMIT_BAL'].plot.hist(bins = 20, color = 'g', label=u'Возврат')\n",
    "plt.xlabel(u'размер кредитного лимита', fontsize=14)\n",
    "pylab.grid()\n",
    "pylab.legend()\n",
    "\n",
    "plt.subplot(122)\n",
    "credit_default['LIMIT_BAL'].plot.hist(bins = 20, color = 'r', label=u'Невозврат')\n",
    "plt.xlabel(u'размер кредитного лимита', fontsize=14)\n",
    "pylab.grid()\n",
    "pylab.legend()"
   ]
  },
  {
   "cell_type": "markdown",
   "metadata": {},
   "source": [
    "Распределения скошены, следовательно необходимо применять непараметрические критерии значимости. Визуально наблюдается некоторая схожесть данных распределений"
   ]
  },
  {
   "cell_type": "code",
   "execution_count": 8,
   "metadata": {
    "collapsed": true
   },
   "outputs": [],
   "source": [
    "# 95% Доверительный интервал для медианы на основе порядковых статистик (данный блок заимствован*)\n",
    "#(http://www.machinelearning.ru/wiki/index.php?title=Интервальная_оценка)\n",
    "\n",
    "def median_conf_int(sample):\n",
    "    var_row = np.array(sample.sort_values()) # вариационный ряд\n",
    "    n = var_row.shape[0]   \n",
    "    k1 = int(floor(1./2.*(n-1.96*n**0.5-1.)))\n",
    "    k2 = int(n-k1)\n",
    "    return var_row[k1],var_row[k2]"
   ]
  },
  {
   "cell_type": "code",
   "execution_count": 9,
   "metadata": {},
   "outputs": [
    {
     "name": "stdout",
     "output_type": "stream",
     "text": [
      "95% доверительный интервал для медианы по возврату долга: [150000, 150000]\n",
      "95% доверительный интервал для медианы по невозврату долга: [80000, 90000]\n"
     ]
    }
   ],
   "source": [
    "print '95%% доверительный интервал для медианы по возврату долга: [%d, %d]' % median_conf_int(credit_return.LIMIT_BAL)\n",
    "print '95%% доверительный интервал для медианы по невозврату долга: [%d, %d]' % median_conf_int(credit_default.LIMIT_BAL)"
   ]
  },
  {
   "cell_type": "markdown",
   "metadata": {},
   "source": [
    "Интервальные оценки не пересекаются, гипотеза о равенстве медианных значений отвергается в пользу альтернативы (медианы неравны)\n",
    "\n",
    "Оценим интервальные оценки посредством бутстрепа"
   ]
  },
  {
   "cell_type": "code",
   "execution_count": 10,
   "metadata": {
    "collapsed": true
   },
   "outputs": [],
   "source": [
    "# функция генерации n_samples случайных псевдовыборок из выборки data такого же размера\n",
    "def get_bootstrap_samples(data, n_samples): \n",
    "    indices = np.random.randint(0, len(data), (n_samples, len(data)))\n",
    "    samples = data[indices]\n",
    "    return samples\n",
    "\n",
    "# оценка интервала на основе квантилей a/2 и (1-a)/2\n",
    "def stat_intervals(stat, alpha):\n",
    "    boundaries = np.percentile(stat, [100 * alpha / 2., 100 * (1 - alpha / 2.)])\n",
    "    return boundaries"
   ]
  },
  {
   "cell_type": "code",
   "execution_count": 11,
   "metadata": {},
   "outputs": [
    {
     "name": "stdout",
     "output_type": "stream",
     "text": [
      "95% доверительный интервал для медианы по возврату долга: [ 150000.  150000.]\n",
      "95% доверительный интервал для медианы по невозврату долга: [ 80000.  90000.]\n"
     ]
    }
   ],
   "source": [
    "np.random.seed(0)\n",
    "\n",
    "# сгенерируем по 1000 случайных псевдовыборок\n",
    "return_median_scores = map(np.median, get_bootstrap_samples(credit_return.LIMIT_BAL.values, 1000))\n",
    "default_median_scores = map(np.median, get_bootstrap_samples(credit_default.LIMIT_BAL.values, 1000))\n",
    "\n",
    "# на данных псевдовыборках посчитаем доверительные интервалы\n",
    "print \"95% доверительный интервал для медианы по возврату долга:\", stat_intervals(return_median_scores, 0.05)\n",
    "print \"95% доверительный интервал для медианы по невозврату долга:\", stat_intervals(default_median_scores, 0.05)"
   ]
  },
  {
   "cell_type": "markdown",
   "metadata": {},
   "source": [
    "Оценки по двум методам совпадают, можно оценить разность медиан (однако это уже лишнее)"
   ]
  },
  {
   "cell_type": "code",
   "execution_count": 12,
   "metadata": {},
   "outputs": [
    {
     "name": "stdout",
     "output_type": "stream",
     "text": [
      "95% доверительный интервал для разности медиан: [ 60000.  70000.]\n"
     ]
    }
   ],
   "source": [
    "# интервальная оценка разности медиан\n",
    "delta_median_scores = map(lambda x,y: y-x, default_median_scores, return_median_scores)\n",
    "\n",
    "print \"95% доверительный интервал для разности медиан:\",  stat_intervals(delta_median_scores, 0.05)"
   ]
  },
  {
   "cell_type": "markdown",
   "metadata": {},
   "source": [
    "Ноль в интервал не попадает, нулевая гипотеза о равенстве медиан отвергается"
   ]
  },
  {
   "cell_type": "markdown",
   "metadata": {},
   "source": [
    "**b)** По скошенности распределений мы определили, что необходимо применять непараметрические критерии, однаго Ранговый критерий Манна-Уитни нам не подходит, в силу ограничения количества повторяющихся значений (меньше 10):\n",
    "\n",
    "https://ru.wikipedia.org/wiki/U-%D0%BA%D1%80%D0%B8%D1%82%D0%B5%D1%80%D0%B8%D0%B9_%D0%9C%D0%B0%D0%BD%D0%BD%D0%B0_%E2%80%94_%D0%A3%D0%B8%D1%82%D0%BD%D0%B8"
   ]
  },
  {
   "cell_type": "code",
   "execution_count": 13,
   "metadata": {},
   "outputs": [
    {
     "name": "stdout",
     "output_type": "stream",
     "text": [
      "2480 и 885\n"
     ]
    }
   ],
   "source": [
    "# покажем максимальное чилсо повторений для каждой повыборки (возврат и невозврат)\n",
    "print credit_return.LIMIT_BAL.value_counts().max(), \"и\", credit_default.LIMIT_BAL.value_counts().max()"
   ]
  },
  {
   "cell_type": "markdown",
   "metadata": {},
   "source": [
    "Применим перестановочный критерий для независимых выборок для проверки равенства средних"
   ]
  },
  {
   "cell_type": "code",
   "execution_count": 14,
   "metadata": {
    "collapsed": true
   },
   "outputs": [],
   "source": [
    "# T-статистика (разность средних)\n",
    "def permutation_t_stat_ind(sample1, sample2):\n",
    "    return np.mean(sample1) - np.mean(sample2)"
   ]
  },
  {
   "cell_type": "code",
   "execution_count": 15,
   "metadata": {
    "collapsed": true
   },
   "outputs": [],
   "source": [
    "# случайные комбинации в случае ограничения на количество переборов (max_combinations)\n",
    "def get_random_combinations(n1, n2, max_combinations):\n",
    "    index = range(n1 + n2)\n",
    "    indices = set([tuple(index)])\n",
    "    for i in range(max_combinations - 1):\n",
    "        np.random.shuffle(index)\n",
    "        indices.add(tuple(index))\n",
    "    return [(index[:n1], index[n1:]) for index in indices]"
   ]
  },
  {
   "cell_type": "code",
   "execution_count": 16,
   "metadata": {
    "collapsed": true
   },
   "outputs": [],
   "source": [
    "# определение нулевого распределения посредсвтом перебора всех возмодных комбинаций \n",
    "def permutation_zero_dist_ind(sample1, sample2, max_combinations = None):\n",
    "    joined_sample = np.hstack((sample1, sample2))\n",
    "    n1 = len(sample1)\n",
    "    n = len(joined_sample)\n",
    "    \n",
    "    if max_combinations:\n",
    "        indices = get_random_combinations(n1, len(sample2), max_combinations)\n",
    "    else:\n",
    "        indices = [(list(index), filter(lambda i: i not in index, range(n))) \\\n",
    "                    for index in itertools.combinations(range(n), n1)]\n",
    "    \n",
    "    distr = [joined_sample[list(i[0])].mean() - joined_sample[list(i[1])].mean() \\\n",
    "             for i in indices]\n",
    "    return distr"
   ]
  },
  {
   "cell_type": "code",
   "execution_count": 17,
   "metadata": {},
   "outputs": [
    {
     "data": {
      "image/png": "[encoded data removed]",
      "text/plain": [
       "<matplotlib.figure.Figure at 0x9c6dcb0>"
      ]
     },
     "metadata": {},
     "output_type": "display_data"
    }
   ],
   "source": [
    "# нулевое распределение для критерия перестановок\n",
    "pylab.hist(permutation_zero_dist_ind(credit_return.LIMIT_BAL, credit_default.LIMIT_BAL, max_combinations = 1000), bins = 100)\n",
    "pylab.show()"
   ]
  },
  {
   "cell_type": "code",
   "execution_count": 18,
   "metadata": {
    "collapsed": true
   },
   "outputs": [],
   "source": [
    "# определение критерия значимости\n",
    "def permutation_test(sample, mean, max_permutations = None, alternative = 'two-sided'):\n",
    "    if alternative not in ('two-sided', 'less', 'greater'):\n",
    "        raise ValueError(\"alternative not recognized\\n\"\n",
    "                         \"should be 'two-sided', 'less' or 'greater'\")\n",
    "    \n",
    "    t_stat = permutation_t_stat_ind(sample, mean) # T-статистика\n",
    "    \n",
    "    zero_distr = permutation_zero_dist_ind(sample, mean, max_permutations) # нулевое распределение\n",
    "    \n",
    "    if alternative == 'two-sided':\n",
    "        return sum([1. if abs(x) >= abs(t_stat) else 0. for x in zero_distr]) / len(zero_distr)\n",
    "    \n",
    "    if alternative == 'less':\n",
    "        return sum([1. if x <= t_stat else 0. for x in zero_distr]) / len(zero_distr)\n",
    "\n",
    "    if alternative == 'greater':\n",
    "        return sum([1. if x >= t_stat else 0. for x in zero_distr]) / len(zero_distr)"
   ]
  },
  {
   "cell_type": "code",
   "execution_count": 19,
   "metadata": {},
   "outputs": [
    {
     "name": "stdout",
     "output_type": "stream",
     "text": [
      "p-value: 0.010000\n"
     ]
    }
   ],
   "source": [
    "print \"p-value: %f\" % permutation_test(credit_return.LIMIT_BAL, credit_default.LIMIT_BAL, max_permutations = 100)"
   ]
  },
  {
   "cell_type": "code",
   "execution_count": 20,
   "metadata": {},
   "outputs": [
    {
     "name": "stdout",
     "output_type": "stream",
     "text": [
      "p-value: 0.001000\n"
     ]
    }
   ],
   "source": [
    "print \"p-value: %f\" % permutation_test(credit_return.LIMIT_BAL, credit_default.LIMIT_BAL, max_permutations = 1000)"
   ]
  },
  {
   "cell_type": "markdown",
   "metadata": {},
   "source": [
    "Нулевая гипотеза о равенстве распределений отвергается в пользу альтернативы (распределения кредитных лимитов различны). Результаты значимы согласно логике: модель должна быть построена таким образом, чтобы минимизировать потери в случае невозврата долга, следовательно более потенциальным неплательщикам следует сократить кредитный лимит, так медианы кредитного лимита для двух подргуп и отличаются почти вдове."
   ]
  },
  {
   "cell_type": "markdown",
   "metadata": {
    "collapsed": true
   },
   "source": [
    "### Задание 2\n",
    "Пол (SEX): Проверьте гипотезу о том, что гендерный состав группы людей вернувших и не вернувших кредит отличается. Хорошо, если вы предоставите несколько различных решений этой задачи (с помощью доверительного интервала и подходящего статистического критерия)"
   ]
  },
  {
   "cell_type": "code",
   "execution_count": 21,
   "metadata": {},
   "outputs": [
    {
     "data": {
      "text/plain": [
       "<matplotlib.legend.Legend at 0xf564a50>"
      ]
     },
     "execution_count": 21,
     "metadata": {},
     "output_type": "execute_result"
    },
    {
     "data": {
      "image/png": "[encoded data removed]",
      "text/plain": [
       "<matplotlib.figure.Figure at 0x10c94a30>"
      ]
     },
     "metadata": {},
     "output_type": "display_data"
    }
   ],
   "source": [
    "plt.figure(figsize(16,5))\n",
    "\n",
    "plt.subplot(121)\n",
    "credit_return['SEX'][credit_return['SEX']==1].plot.hist(color = 'b', label=u'мужчины', width=0.4)\n",
    "credit_return['SEX'][credit_return['SEX']==2].plot.hist(color = 'm', label=u'женщины', width=0.4)\n",
    "plt.xlabel(u'Возврат', fontsize=14)\n",
    "pylab.legend()\n",
    "\n",
    "plt.subplot(122)\n",
    "credit_default['SEX'][credit_default['SEX']==1].plot.hist(color = 'b', label=u'мужчины', width=0.4)\n",
    "credit_default['SEX'][credit_default['SEX']==2].plot.hist(color = 'm', label=u'женщины', width=0.4)\n",
    "plt.xlabel(u'Невозврат', fontsize=14)\n",
    "pylab.legend()"
   ]
  },
  {
   "cell_type": "markdown",
   "metadata": {},
   "source": [
    "Визуально, распределения почти схожи"
   ]
  },
  {
   "cell_type": "code",
   "execution_count": 22,
   "metadata": {
    "collapsed": true
   },
   "outputs": [],
   "source": [
    "# создадим массивы из значений наших подвыборок перейдя к новым обозначениям 0-М, 1-Ж (просто вычитая из значений 1)\n",
    "credit_return_sex = np.array(credit_return['SEX'])-1\n",
    "credit_default_sex = np.array(credit_default['SEX'])-1"
   ]
  },
  {
   "cell_type": "markdown",
   "metadata": {},
   "source": [
    "Интервальные оценки долей"
   ]
  },
  {
   "cell_type": "code",
   "execution_count": 23,
   "metadata": {
    "collapsed": true
   },
   "outputs": [],
   "source": [
    "conf_interval_return = proportion_confint(sum(credit_return_sex), credit_return_sex.shape[0], method = 'wilson')\n",
    "conf_interval_default = proportion_confint(sum(credit_default_sex), credit_default_sex.shape[0], method = 'wilson')"
   ]
  },
  {
   "cell_type": "code",
   "execution_count": 24,
   "metadata": {},
   "outputs": [
    {
     "name": "stdout",
     "output_type": "stream",
     "text": [
      "95% доверительный интервал для возврата долга по гендеру: [0.607890, 0.620373]\n",
      "95% доверительный интервал для невозврата долга по гендеру: [0.555102, 0.578938]\n"
     ]
    }
   ],
   "source": [
    "print '95%% доверительный интервал для возврата долга по гендеру: [%f, %f]' % conf_interval_return\n",
    "print '95%% доверительный интервал для невозврата долга по гендеру: [%f, %f]' % conf_interval_default"
   ]
  },
  {
   "cell_type": "markdown",
   "metadata": {},
   "source": [
    "Доверительные интервалы не пересекаются, следовательно нулевая гипотеза о схожести гендерных групп отвергается в пользу альтернативы (генредные состав относительно возварат и невозварата долга отличается)\n",
    "\n",
    "Определим интервал для разности долей:"
   ]
  },
  {
   "cell_type": "code",
   "execution_count": 25,
   "metadata": {
    "collapsed": true
   },
   "outputs": [],
   "source": [
    "# Довертильеный интервал\n",
    "def proportions_diff_confint_ind(sample1, sample2, alpha = 0.05):    \n",
    "    z = scipy.stats.norm.ppf(1 - alpha / 2.)\n",
    "    \n",
    "    p1 = float(sum(sample1)) / len(sample1)\n",
    "    p2 = float(sum(sample2)) / len(sample2)\n",
    "    \n",
    "    left_boundary = (p1 - p2) - z * np.sqrt(p1 * (1 - p1)/ len(sample1) + p2 * (1 - p2)/ len(sample2))\n",
    "    right_boundary = (p1 - p2) + z * np.sqrt(p1 * (1 - p1)/ len(sample1) + p2 * (1 - p2)/ len(sample2))\n",
    "    \n",
    "    return (left_boundary, right_boundary)"
   ]
  },
  {
   "cell_type": "code",
   "execution_count": 26,
   "metadata": {
    "collapsed": true
   },
   "outputs": [],
   "source": [
    "# Z статистика\n",
    "def proportions_diff_z_stat_ind(sample1, sample2):\n",
    "    n1 = len(sample1)\n",
    "    n2 = len(sample2)\n",
    "    \n",
    "    p1 = float(sum(sample1)) / n1\n",
    "    p2 = float(sum(sample2)) / n2 \n",
    "    P = float(p1*n1 + p2*n2) / (n1 + n2)\n",
    "    \n",
    "    return (p1 - p2) / np.sqrt(P * (1 - P) * (1. / n1 + 1. / n2))"
   ]
  },
  {
   "cell_type": "code",
   "execution_count": 27,
   "metadata": {
    "collapsed": true
   },
   "outputs": [],
   "source": [
    "# Расчет P-value по полученной Z-статистики и вида альернативы (двухсторонняя) на основе функции распределения\n",
    "def proportions_diff_z_test(z_stat, alternative = 'two-sided'):\n",
    "    if alternative not in ('two-sided', 'less', 'greater'):\n",
    "        raise ValueError(\"alternative not recognized\\n\"\n",
    "                         \"should be 'two-sided', 'less' or 'greater'\")\n",
    "    \n",
    "    if alternative == 'two-sided':\n",
    "        return 2 * (1 - scipy.stats.norm.cdf(np.abs(z_stat)))\n",
    "    \n",
    "    if alternative == 'less':\n",
    "        return scipy.stats.norm.cdf(z_stat)\n",
    "\n",
    "    if alternative == 'greater':\n",
    "        return 1 - scipy.stats.norm.cdf(z_stat)"
   ]
  },
  {
   "cell_type": "code",
   "execution_count": 28,
   "metadata": {},
   "outputs": [
    {
     "name": "stdout",
     "output_type": "stream",
     "text": [
      "95% доверительный интервал для разности долей: [0.033635, 0.060548]\n"
     ]
    }
   ],
   "source": [
    "print \"95%% доверительный интервал для разности долей: [%f, %f]\" %\\\n",
    "      proportions_diff_confint_ind(credit_return_sex, credit_default_sex)"
   ]
  },
  {
   "cell_type": "markdown",
   "metadata": {},
   "source": [
    "Отметим, что ноль не попадает в интервал, это говорит в пользу альтернативы, против нулевой гипотезы\n",
    "\n",
    "Посчитаем уровень значимости:"
   ]
  },
  {
   "cell_type": "code",
   "execution_count": 29,
   "metadata": {},
   "outputs": [
    {
     "name": "stdout",
     "output_type": "stream",
     "text": [
      "p-value: 0.000000\n"
     ]
    }
   ],
   "source": [
    "print \"p-value: %f\" % proportions_diff_z_test(proportions_diff_z_stat_ind(credit_return_sex, credit_default_sex))"
   ]
  },
  {
   "cell_type": "markdown",
   "metadata": {},
   "source": [
    "Значение p-value мало относительно порога альфа. Это и все выше сказанное говорит об одном: нулевая гипотеза о равенстве гендорного состава относительно возврата долга с уверенностью отвергается, в пользу двухсторонней альтернативы (гендерный состав людей вернувших и не вернувших долг отличается)"
   ]
  },
  {
   "cell_type": "markdown",
   "metadata": {
    "collapsed": true
   },
   "source": [
    "### Задание 3\n",
    "Образование (EDUCATION): Проверьте гипотезу о том, что образование не влияет на то, вернет ли человек долг. Предложите способ наглядного представления разницы в ожидаемых и наблюдаемых значениях количества человек вернувших и не вернувших долг. Например, составьте таблицу сопряженности \"образование\" на \"возврат долга\", где значением ячейки была бы разность между наблюдаемым и ожидаемым количеством человек. Как бы вы предложили модифицировать таблицу так, чтобы привести значения ячеек к одному масштабу не потеряв в интерпретируемости ? Наличие какого образования является наилучшим индикатором того, что человек отдаст долг ? наоборт, не отдаст долг ?"
   ]
  },
  {
   "cell_type": "code",
   "execution_count": 30,
   "metadata": {},
   "outputs": [
    {
     "data": {
      "text/plain": [
       "<matplotlib.legend.Legend at 0xefdfe70>"
      ]
     },
     "execution_count": 30,
     "metadata": {},
     "output_type": "execute_result"
    },
    {
     "data": {
      "image/png": "[encoded data removed]",
      "text/plain": [
       "<matplotlib.figure.Figure at 0x9d84690>"
      ]
     },
     "metadata": {},
     "output_type": "display_data"
    }
   ],
   "source": [
    "plt.figure(figsize(16,5))\n",
    "\n",
    "plt.subplot(121)\n",
    "credit_return['EDUCATION'].plot.hist(color = 'g', label=u'Возврат')\n",
    "plt.xlabel(u'Образование', fontsize=14)\n",
    "pylab.legend()\n",
    "\n",
    "plt.subplot(122)\n",
    "credit_default['EDUCATION'].plot.hist(color = 'r', label=u'Невозврат')\n",
    "plt.xlabel(u'Образование', fontsize=14)\n",
    "pylab.legend()"
   ]
  },
  {
   "cell_type": "markdown",
   "metadata": {},
   "source": [
    "Построение сводной таблицы количества людей в зависимости от образования и возврата/невозварата долга"
   ]
  },
  {
   "cell_type": "code",
   "execution_count": 32,
   "metadata": {
    "collapsed": true
   },
   "outputs": [],
   "source": [
    "count_education = pd.pivot_table(data, values='ID', index=['EDUCATION'],\n",
    "                    columns=['default'], aggfunc='count', fill_value = 0)"
   ]
  },
  {
   "cell_type": "code",
   "execution_count": 33,
   "metadata": {},
   "outputs": [
    {
     "data": {
      "text/html": [
       "<div>\n",
       "<style>\n",
       "    .dataframe thead tr:only-child th {\n",
       "        text-align: right;\n",
       "    }\n",
       "\n",
       "    .dataframe thead th {\n",
       "        text-align: left;\n",
       "    }\n",
       "\n",
       "    .dataframe tbody tr th {\n",
       "        vertical-align: top;\n",
       "    }\n",
       "</style>\n",
       "<table border=\"1\" class=\"dataframe\">\n",
       "  <thead>\n",
       "    <tr style=\"text-align: right;\">\n",
       "      <th>default</th>\n",
       "      <th>0</th>\n",
       "      <th>1</th>\n",
       "    </tr>\n",
       "    <tr>\n",
       "      <th>EDUCATION</th>\n",
       "      <th></th>\n",
       "      <th></th>\n",
       "    </tr>\n",
       "  </thead>\n",
       "  <tbody>\n",
       "    <tr>\n",
       "      <th>0</th>\n",
       "      <td>14</td>\n",
       "      <td>0</td>\n",
       "    </tr>\n",
       "    <tr>\n",
       "      <th>1</th>\n",
       "      <td>8549</td>\n",
       "      <td>2036</td>\n",
       "    </tr>\n",
       "    <tr>\n",
       "      <th>2</th>\n",
       "      <td>10700</td>\n",
       "      <td>3330</td>\n",
       "    </tr>\n",
       "    <tr>\n",
       "      <th>3</th>\n",
       "      <td>3680</td>\n",
       "      <td>1237</td>\n",
       "    </tr>\n",
       "    <tr>\n",
       "      <th>4</th>\n",
       "      <td>116</td>\n",
       "      <td>7</td>\n",
       "    </tr>\n",
       "    <tr>\n",
       "      <th>5</th>\n",
       "      <td>262</td>\n",
       "      <td>18</td>\n",
       "    </tr>\n",
       "    <tr>\n",
       "      <th>6</th>\n",
       "      <td>43</td>\n",
       "      <td>8</td>\n",
       "    </tr>\n",
       "  </tbody>\n",
       "</table>\n",
       "</div>"
      ],
      "text/plain": [
       "default        0     1\n",
       "EDUCATION             \n",
       "0             14     0\n",
       "1           8549  2036\n",
       "2          10700  3330\n",
       "3           3680  1237\n",
       "4            116     7\n",
       "5            262    18\n",
       "6             43     8"
      ]
     },
     "execution_count": 33,
     "metadata": {},
     "output_type": "execute_result"
    }
   ],
   "source": [
    "count_education"
   ]
  },
  {
   "cell_type": "markdown",
   "metadata": {},
   "source": [
    "Определим коэффициент V Крамера (корреляция для категориальных признаков)"
   ]
  },
  {
   "cell_type": "code",
   "execution_count": 34,
   "metadata": {
    "collapsed": true
   },
   "outputs": [],
   "source": [
    "# фкнция Фи (Коэффициент Крамера) (стр 6,10 лекция Корреляция урок 8)\n",
    "def Cramer(confusion_matrix):\n",
    "    chi2 = stats.chi2_contingency(confusion_matrix)[0] # определим хи-квадрат для сводной таблицы\n",
    "    n = sum(count_education.sum()) # сумма по элементам выборки\n",
    "    Min_K = min(count_education.shape) # минимум между числом строк и столбцов в таблице сопряженности\n",
    "\n",
    "    return np.sqrt( chi2 / (n*(Min_K-1)) )"
   ]
  },
  {
   "cell_type": "code",
   "execution_count": 35,
   "metadata": {},
   "outputs": [
    {
     "name": "stdout",
     "output_type": "stream",
     "text": [
      "Коэффициент V Крамера: 0.073760\n"
     ]
    }
   ],
   "source": [
    "print \"Коэффициент V Крамера: %f\" % Cramer(np.array(count_education))"
   ]
  },
  {
   "cell_type": "code",
   "execution_count": 36,
   "metadata": {},
   "outputs": [
    {
     "name": "stdout",
     "output_type": "stream",
     "text": [
      "P: 0.000000\n"
     ]
    }
   ],
   "source": [
    "# Статистика хи-квадрат\n",
    "chi2, p, dof, ex = scipy.stats.chi2_contingency(count_education)\n",
    "print \"P: %f\" % p"
   ]
  },
  {
   "cell_type": "markdown",
   "metadata": {},
   "source": [
    "Построим таблицу разности между ожидаемыми (ex-определили по хи-квадрат) и наблюдаемыми значениями (из сводной таблицы)"
   ]
  },
  {
   "cell_type": "code",
   "execution_count": 37,
   "metadata": {},
   "outputs": [
    {
     "data": {
      "text/html": [
       "<div>\n",
       "<style>\n",
       "    .dataframe thead tr:only-child th {\n",
       "        text-align: right;\n",
       "    }\n",
       "\n",
       "    .dataframe thead th {\n",
       "        text-align: left;\n",
       "    }\n",
       "\n",
       "    .dataframe tbody tr th {\n",
       "        vertical-align: top;\n",
       "    }\n",
       "</style>\n",
       "<table border=\"1\" class=\"dataframe\">\n",
       "  <thead>\n",
       "    <tr style=\"text-align: right;\">\n",
       "      <th>default</th>\n",
       "      <th>0</th>\n",
       "      <th>1</th>\n",
       "    </tr>\n",
       "    <tr>\n",
       "      <th>EDUCATION</th>\n",
       "      <th></th>\n",
       "      <th></th>\n",
       "    </tr>\n",
       "  </thead>\n",
       "  <tbody>\n",
       "    <tr>\n",
       "      <th>0</th>\n",
       "      <td>3.0968</td>\n",
       "      <td>-3.0968</td>\n",
       "    </tr>\n",
       "    <tr>\n",
       "      <th>1</th>\n",
       "      <td>305.4020</td>\n",
       "      <td>-305.4020</td>\n",
       "    </tr>\n",
       "    <tr>\n",
       "      <th>2</th>\n",
       "      <td>-226.5640</td>\n",
       "      <td>226.5640</td>\n",
       "    </tr>\n",
       "    <tr>\n",
       "      <th>3</th>\n",
       "      <td>-149.3596</td>\n",
       "      <td>149.3596</td>\n",
       "    </tr>\n",
       "    <tr>\n",
       "      <th>4</th>\n",
       "      <td>20.2076</td>\n",
       "      <td>-20.2076</td>\n",
       "    </tr>\n",
       "    <tr>\n",
       "      <th>5</th>\n",
       "      <td>43.9360</td>\n",
       "      <td>-43.9360</td>\n",
       "    </tr>\n",
       "    <tr>\n",
       "      <th>6</th>\n",
       "      <td>3.2812</td>\n",
       "      <td>-3.2812</td>\n",
       "    </tr>\n",
       "  </tbody>\n",
       "</table>\n",
       "</div>"
      ],
      "text/plain": [
       "default           0         1\n",
       "EDUCATION                    \n",
       "0            3.0968   -3.0968\n",
       "1          305.4020 -305.4020\n",
       "2         -226.5640  226.5640\n",
       "3         -149.3596  149.3596\n",
       "4           20.2076  -20.2076\n",
       "5           43.9360  -43.9360\n",
       "6            3.2812   -3.2812"
      ]
     },
     "execution_count": 37,
     "metadata": {},
     "output_type": "execute_result"
    }
   ],
   "source": [
    "(count_education-ex) # просто вычтем из таблицы ожидаемые значения статистики хи-квадрат (ex)"
   ]
  },
  {
   "cell_type": "markdown",
   "metadata": {},
   "source": [
    "* Коэффициент V Крамера составляет порядка 7%, в данном случае трудно говорить о явной взаимосвязи двух признаков (образование и возврат кредита)\n",
    "\n",
    "\n",
    "* Однако, посредством критерия хи-квадрат, нулевая гипотеза о равенстве нулю коэффициента V Крамера (независимости двух признаков) отвергается в пользу альтернативы (**существует взаимосвязь между образованием и возвратом кредита**)\n",
    "\n",
    "\n",
    "* Исходя из графика и таблицы разности ожидаемых и наблюдаемых значений, можно предположить что наличие магистратуры является наилучшим индикатором того, что человек отдаст долг, а начличие степени бакалавра наоборт, говорит о более высокой вероятности не вернуть кредит."
   ]
  },
  {
   "cell_type": "markdown",
   "metadata": {
    "collapsed": true
   },
   "source": [
    "### Задание 4\n",
    "Семейное положение (MARRIAGE): Проверьте, как связан семейный статус с индикатором дефолта: нужно предложить меру, по которой можно измерить возможную связь этих переменных и посчитать ее значение."
   ]
  },
  {
   "cell_type": "code",
   "execution_count": 38,
   "metadata": {},
   "outputs": [
    {
     "data": {
      "text/plain": [
       "<matplotlib.legend.Legend at 0xdf86950>"
      ]
     },
     "execution_count": 38,
     "metadata": {},
     "output_type": "execute_result"
    },
    {
     "data": {
      "image/png": "[encoded data removed]",
      "text/plain": [
       "<matplotlib.figure.Figure at 0x10c894d0>"
      ]
     },
     "metadata": {},
     "output_type": "display_data"
    }
   ],
   "source": [
    "plt.figure(figsize(16,5))\n",
    "\n",
    "plt.subplot(121)\n",
    "credit_return['MARRIAGE'].plot.hist(color = 'g', label=u'Возврат')\n",
    "plt.xlabel(u'Семейное положение', fontsize=14)\n",
    "pylab.legend()\n",
    "\n",
    "plt.subplot(122)\n",
    "credit_default['MARRIAGE'].plot.hist(color = 'r', label=u'Невозврат')\n",
    "plt.xlabel(u'Семейное положение', fontsize=14)\n",
    "pylab.legend()"
   ]
  },
  {
   "cell_type": "markdown",
   "metadata": {},
   "source": [
    "Корреляцию V Крамера применить не получится, в силу двух причин: 1) два значения в признаке: 0 и 3, не дают особо полезной информации, так в первом случае человек отказывался отвечать на вопрос, а во втором - данных попросту нет.  2) малость этих двух значений признака, по сравнению с двумя другими: 1 и 2.\n",
    "\n",
    "А вот если избавиться от них, то можно применить корреляцию Метьюса для двух бинарных признаков: Семейное положение и Возврат/невозврат долга"
   ]
  },
  {
   "cell_type": "code",
   "execution_count": 39,
   "metadata": {
    "collapsed": true
   },
   "outputs": [],
   "source": [
    "# сгенерируем данные бинарные подвыборки для признака Семейное положение (MARRIAGE) выкинув значение 0 и 3\n",
    "credit_return_marriage = credit_return.MARRIAGE[credit_return.MARRIAGE.isin([0,3])==False]\n",
    "credit_default_marriage = credit_default.MARRIAGE[credit_default.MARRIAGE.isin([0,3])==False]"
   ]
  },
  {
   "cell_type": "code",
   "execution_count": 72,
   "metadata": {},
   "outputs": [
    {
     "data": {
      "text/plain": [
       "<matplotlib.text.Text at 0xf389b90>"
      ]
     },
     "execution_count": 72,
     "metadata": {},
     "output_type": "execute_result"
    },
    {
     "data": {
      "image/png": "[encoded data removed]",
      "text/plain": [
       "<matplotlib.figure.Figure at 0x132830f0>"
      ]
     },
     "metadata": {},
     "output_type": "display_data"
    }
   ],
   "source": [
    "plt.figure(figsize(16,5))\n",
    "\n",
    "plt.subplot(121)\n",
    "credit_return_marriage.plot.hist(color = 'g')\n",
    "plt.title(u'Возврат')\n",
    "plt.xlabel(u'Семейное положение', fontsize=14)\n",
    "\n",
    "plt.subplot(122)\n",
    "credit_default_marriage.plot.hist(color = 'r')\n",
    "plt.title(u'Невозврат')\n",
    "plt.xlabel(u'Семейное положение', fontsize=14)"
   ]
  },
  {
   "cell_type": "code",
   "execution_count": 73,
   "metadata": {},
   "outputs": [],
   "source": [
    "# преобразуем признак в бинарный (вычтем из значений 1, получим значения 0 и 1)\n",
    "# перейдем к количеством значений для 0 и 1 и выведим это списком\n",
    "b, a = list((credit_return_marriage-1).value_counts()) # единицы и нули для default=0\n",
    "d, c = list((credit_default_marriage-1).value_counts()) # единицы и нули для default=1"
   ]
  },
  {
   "cell_type": "code",
   "execution_count": 74,
   "metadata": {},
   "outputs": [
    {
     "name": "stdout",
     "output_type": "stream",
     "text": [
      "Коэффициент корреляции Мэтьюса, mcc: -0.030555\n"
     ]
    }
   ],
   "source": [
    "# корреляция Мэтьюса\n",
    "mcc = float(a*d-b*c)/(float(a+b)*(a+c)*(b+d)*(c+d))**0.5\n",
    "print \"Коэффициент корреляции Мэтьюса, mcc: %f\" % mcc"
   ]
  },
  {
   "cell_type": "code",
   "execution_count": 69,
   "metadata": {},
   "outputs": [
    {
     "data": {
      "text/plain": [
       "(27.509409092957899,\n",
       " 1.5633210355976673e-07,\n",
       " 1,\n",
       " array([[ 10640.21483307,  12435.78516693],\n",
       "        [  3018.78516693,   3528.21483307]]))"
      ]
     },
     "execution_count": 69,
     "metadata": {},
     "output_type": "execute_result"
    }
   ],
   "source": [
    "# Статистика Хи-квадрат\n",
    "stats.chi2_contingency([[a,b],[c,d]])"
   ]
  },
  {
   "cell_type": "code",
   "execution_count": 77,
   "metadata": {},
   "outputs": [
    {
     "data": {
      "text/plain": [
       "2    12623\n",
       "1    10453\n",
       "Name: MARRIAGE, dtype: int64"
      ]
     },
     "execution_count": 77,
     "metadata": {},
     "output_type": "execute_result"
    }
   ],
   "source": []
  },
  {
   "cell_type": "code",
   "execution_count": 83,
   "metadata": {},
   "outputs": [
    {
     "data": {
      "text/plain": [
       "3528.2148330688992"
      ]
     },
     "execution_count": 83,
     "metadata": {},
     "output_type": "execute_result"
    }
   ],
   "source": [
    "((b+d)*(c+d))/float(a+b+c+d)"
   ]
  },
  {
   "cell_type": "markdown",
   "metadata": {},
   "source": [
    "Коэффицент корреляции Мэтьюса говорит нам об отсутствии связи (-3%), однако критерий хи-квадрат значительно меньше уровня значимости 0.05, что позволяет отвергнуть нулевую гипотезу об отсутствии связи между семейным положением и возвратом кредита в пользу альтернативы: **признаки \"Семейное положение\" и \"Возврат долга\" имеют взаимозависимость** наличие брака немного негативно сказывается на возврате кредита (возврат-0, брак-0: при отрицательной корреляции минимизируются пары 0,0 и 1,1)"
   ]
  },
  {
   "cell_type": "markdown",
   "metadata": {
    "collapsed": true
   },
   "source": [
    "### Задание 5\n",
    "Возраст (AGE): Относительно двух групп людей вернувших и не вернувших кредит проверьте следующие гипотезы: a) о равенстве медианных значений возрастов людей b) о равенстве распределений с помощью одного из подходящих непараметрических критериев проверки равенства средних. Значимы ли полученные результаты с практической точки зрения ?"
   ]
  },
  {
   "cell_type": "code",
   "execution_count": 85,
   "metadata": {},
   "outputs": [
    {
     "data": {
      "text/plain": [
       "<matplotlib.legend.Legend at 0x13b7ec70>"
      ]
     },
     "execution_count": 85,
     "metadata": {},
     "output_type": "execute_result"
    },
    {
     "data": {
      "image/png": "[encoded data removed]",
      "text/plain": [
       "<matplotlib.figure.Figure at 0xe09ad70>"
      ]
     },
     "metadata": {},
     "output_type": "display_data"
    }
   ],
   "source": [
    "plt.figure(figsize(16,5))\n",
    "\n",
    "plt.subplot(121)\n",
    "credit_return['AGE'].plot.hist(bins = 20, color = 'g', label=u'Возврат')\n",
    "plt.xlabel(u'Возраст', fontsize=14)\n",
    "pylab.grid()\n",
    "pylab.legend()\n",
    "\n",
    "plt.subplot(122)\n",
    "credit_default['AGE'].plot.hist(bins = 20, color = 'r', label=u'Невозврат')\n",
    "plt.xlabel(u'Возраст', fontsize=14)\n",
    "pylab.grid()\n",
    "pylab.legend()"
   ]
  },
  {
   "cell_type": "markdown",
   "metadata": {},
   "source": [
    "а) Проверка равенства медианных значений возрастов людей"
   ]
  },
  {
   "cell_type": "code",
   "execution_count": 86,
   "metadata": {},
   "outputs": [
    {
     "name": "stdout",
     "output_type": "stream",
     "text": [
      "95% доверительный интервал для медианы возраста (возврат): [34, 34]\n",
      "95% доверительный интервал для медианы возраста (невозврат): [34, 35]\n"
     ]
    }
   ],
   "source": [
    "#Доверительный интервал на основе порядковых статистик\n",
    "print '95%% доверительный интервал для медианы возраста (возврат): [%d, %d]' % median_conf_int(credit_return.AGE)\n",
    "print '95%% доверительный интервал для медианы возраста (невозврат): [%d, %d]' % median_conf_int(credit_default.AGE)"
   ]
  },
  {
   "cell_type": "code",
   "execution_count": 87,
   "metadata": {},
   "outputs": [
    {
     "name": "stdout",
     "output_type": "stream",
     "text": [
      "95% доверительный интервал для медианы по возврату долга: [ 34.  34.]\n",
      "95% доверительный интервал для медианы по невозврату долга: [ 34.  35.]\n"
     ]
    }
   ],
   "source": [
    "#Бутстреп\n",
    "np.random.seed(0)\n",
    "\n",
    "# сгенерируем по 1000 случайных псевдовыборок\n",
    "return_median_scores = map(np.median, get_bootstrap_samples(credit_return.AGE.values, 1000))\n",
    "default_median_scores = map(np.median, get_bootstrap_samples(credit_default.AGE.values, 1000))\n",
    "\n",
    "# на данных псевдовыборках посчитаем доверительные интервалы\n",
    "print \"95% доверительный интервал для медианы по возврату долга:\", stat_intervals(return_median_scores, 0.05)\n",
    "print \"95% доверительный интервал для медианы по невозврату долга:\", stat_intervals(default_median_scores, 0.05)"
   ]
  },
  {
   "cell_type": "markdown",
   "metadata": {},
   "source": [
    "Интервальные оценки, посчитанные разными методами одинаковы и они пересекаются. Проверим интервальную разность медиан."
   ]
  },
  {
   "cell_type": "code",
   "execution_count": 88,
   "metadata": {},
   "outputs": [
    {
     "name": "stdout",
     "output_type": "stream",
     "text": [
      "95% доверительный интервал для разности медиан: [-1.  0.]\n"
     ]
    }
   ],
   "source": [
    "# интервальная оценка разности медиан\n",
    "delta_median_scores = map(lambda x,y: y-x, default_median_scores, return_median_scores)\n",
    "\n",
    "print \"95% доверительный интервал для разности медиан:\",  stat_intervals(delta_median_scores, 0.05)"
   ]
  },
  {
   "cell_type": "markdown",
   "metadata": {},
   "source": [
    "Ноль включен в интервал, т.о. в силу всего вышесказанное нулевая гипотеза о равенстве медианных значений не отвергается"
   ]
  },
  {
   "cell_type": "markdown",
   "metadata": {},
   "source": [
    "b) Проверка равенства распределений с помощью критерия Перестановок (аналогично, как и в прошлый раз ранговые критерии неприменимы)"
   ]
  },
  {
   "cell_type": "code",
   "execution_count": 90,
   "metadata": {},
   "outputs": [
    {
     "data": {
      "image/png": "[encoded data removed]",
      "text/plain": [
       "<matplotlib.figure.Figure at 0xdd86fd0>"
      ]
     },
     "metadata": {},
     "output_type": "display_data"
    }
   ],
   "source": [
    "# нулевое распределение для критерия перестановок\n",
    "plt.figure(figsize(8,5))\n",
    "pylab.hist(permutation_zero_dist_ind(credit_return.AGE, credit_default.AGE, max_combinations = 1000), bins = 20)\n",
    "pylab.show()"
   ]
  },
  {
   "cell_type": "code",
   "execution_count": 91,
   "metadata": {},
   "outputs": [
    {
     "name": "stdout",
     "output_type": "stream",
     "text": [
      "p-value: 0.017000\n"
     ]
    }
   ],
   "source": [
    "print \"p-value: %f\" % permutation_test(credit_return.AGE, credit_default.AGE, max_permutations = 1000)"
   ]
  },
  {
   "cell_type": "markdown",
   "metadata": {},
   "source": [
    "Значение p-value ниже порога свидетельствует об опровержении гипотезы о равенстве распределений выборок возрастов клиентов с возвращенными и дефолтными кредитами. Однако оценка равенства медиан говорит об обратно (значения интервальных оценок пересекаются).\n",
    "\n",
    "С практической точки зрения это объясняется следующим образом: возраст оказывает несущественное влияние на возварт долга, несмотря на различие распределений данных подвыборок. Это характеризуется тем, что кредиты выдаются предпочтительно молодым, в силу чего выравниваются медианные значения возраста в обеих подгруппах."
   ]
  }
 ],
 "metadata": {
  "kernelspec": {
   "display_name": "Python 2",
   "language": "python",
   "name": "python2"
  },
  "language_info": {
   "codemirror_mode": {
    "name": "ipython",
    "version": 2
   },
   "file_extension": ".py",
   "mimetype": "text/x-python",
   "name": "python",
   "nbconvert_exporter": "python",
   "pygments_lexer": "ipython2",
   "version": "2.7.13"
  }
 },
 "nbformat": 4,
 "nbformat_minor": 2
}
